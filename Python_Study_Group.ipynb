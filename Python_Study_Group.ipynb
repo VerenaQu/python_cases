{
  "nbformat": 4,
  "nbformat_minor": 0,
  "metadata": {
    "colab": {
      "name": "Python_Study_Group_2021.ipynb",
      "provenance": [],
      "collapsed_sections": [
        "7vWPA6reToKt",
        "x0rYyI08p6_R",
        "0Zk4PIoDz-L_",
        "ObefjBK40mYu",
        "lQLgEDy6zujo",
        "9uzIMdsR03wD",
        "8sPwY7sLDg1n"
      ],
      "toc_visible": true
    },
    "kernelspec": {
      "name": "python3",
      "display_name": "Python 3"
    }
  },
  "cells": [
    {
      "cell_type": "markdown",
      "metadata": {
        "id": "nEq-4yF6u7B2"
      },
      "source": [
        "# Python Study Group @ moinworld\n",
        "\n",
        "## Konzept\n",
        "\n",
        "* monatliches Zusammentreffen zur Klärung von Fragen & Austausch Gleichgesinnter\n",
        "* monatliches Lösen von Aufgaben in Heimarbeit als Vorbereitung auf das nächste Treffen\n",
        "* kostenlos für ehemalige Python-Kursteilnehmer*innen\n",
        "\n",
        "Nächster Termin: 28.09."
      ]
    },
    {
      "cell_type": "markdown",
      "metadata": {
        "id": "1W1dBVlZ1-Qt"
      },
      "source": [
        "# Aufgaben bis 28.September 2021"
      ]
    },
    {
      "cell_type": "markdown",
      "metadata": {
        "id": "E9Y2nqQA0tqv"
      },
      "source": [
        "## Level 0 - Warmup\n",
        "\n",
        "*Diese Aufgabe werden wir wahrscheinlich nicht in der Study-Group besprechen. Nutzt gerne Slack um euch über eure Ansätze auszutauschen.*\n",
        "\n",
        "Wir alle kennen das \"Like\"-System von Facebook und ähnlichen Seiten. \n",
        "Menschen können Possts oder Bildern liken. Wir wollen diesen Text aus den Menschen die etwas gelikt haben generieren.\n",
        "\n",
        "Implementiere eine Funktion die eine Liste von Namen entgegennimmt und daraus den Like-Text, wie in den Beispielen generiert.\n",
        "\n",
        "```python\n",
        "def generate_likes(people: list[str]) -> str:\n",
        "    pass\n",
        "\n",
        "assert(generate_likes([]) == \"no one likes this\")\n",
        "assert(generate_likes([\"Erika\"]) == \"Erika likes this\")\n",
        "assert(generate_likes([\"Nina\", \"Claudia\"]) == \"Nina and Claudia like this\")\n",
        "assert(generate_likes([\"Alice\", \"John\", \"Xenia\"]) == \"Alice, John and Xenia like this\")\n",
        "assert(generate_likes([\"Laura\", \"Oskar\", \"Charlotte\", \"Max\"]) == \"Laura, Oskar and 2 others like this\")\n",
        "```\n",
        "\n",
        "Original von [Codewars](https://www.codewars.com/kata/5266876b8f4bf2da9b000362)\n",
        "\n"
      ]
    },
    {
      "cell_type": "markdown",
      "metadata": {
        "id": "-Ef6kqSKft-f"
      },
      "source": [
        "## Level 1 - Pandemie\n",
        "\n",
        "Die Welt wird von einem Virus beherrscht! Jeder Kontinent ist voneinander getrennt (Flugverkehr eingestellt), aber hat sich bereits eine Person auf dem Kontinent angesteckt, sind alle verloren ⚠️\n",
        "\n",
        "🗺️ Gegeben ist die Weltkarte als ein String:\n",
        "\n",
        "```\n",
        "world = \"01000000X000X011X0X\"\n",
        "```\n",
        "* Definition:\n",
        "  * '0' : uninfected\n",
        "  * '1' : infected\n",
        "  * 'X' : ocean\n",
        "* Das Virus kann sich über einen Ozean nicht ausbreiten. Der erste und der letzte Kontinent sind nicht miteinander verbunden!\n",
        "\n",
        "* Wenn eine Person infiziert ist, werden alle Menschen auf diesem Kontinent ebenfalls infiziert.\n",
        "\n",
        "Deine Aufgabe ist es, den Prozentsatz der Gesamt-Bevölkerung zu finden, der am Ende infiziert wurde.\n",
        "\n",
        "Testfälle:\n",
        "\n",
        "```\n",
        "(\"01000000X000X011X0X\",73.33333333333333),\n",
        "(\"01X000X010X011XX\", 72.72727272727273),\n",
        "(\"XXXXX\", 0),\n",
        "(\"00000000X00X0000\", 0),\n",
        "(\"0000000010\", 100),\n",
        "(\"000001XXXX0010X1X00010\", 100),\n",
        "(\"X00X000000X10X0100\",42.857142857142854)\n",
        "```\n",
        "\n",
        "* Aufgabe ursprünglich von [CodeWars](https://www.codewars.com/kata/5e2596a9ad937f002e510435/train/python)\n",
        "\n",
        "\n"
      ]
    },
    {
      "cell_type": "markdown",
      "metadata": {
        "id": "bczw-_taimH1"
      },
      "source": [
        "## Level 2 - Pandemie - Spezial\n",
        "\n",
        "Die Personen in diesem Pandemie-Szenario sitzen in einem Kreis - jeder hat einen Rechten und Linken Nachbarn. Die Pandemie verläuft nach folgenden Regeln:\n",
        "\n",
        "* 0 = nicht infiziert\n",
        "* 1 bis 5 = 1-5 Tage infiziert & auch ansteckend\n",
        "* 6 = genesen & nicht ansteckend\n",
        "* Ich stecke mich an (vorher: 0, neu: 1), wenn ich zuvor nicht infiziert war, aber mind. einer meiner Nachbarn infiziert ist.\n",
        "* Wenn ich schon infiziert war, zählen meine Tage hoch - bis zur 5, danach bin ich genesen (6), kann niemand mehr anstecken.\n",
        "\n",
        "Schreibe eine Funktion, die den aktuellen Tag als Liste entgegen nimmt und eine neue Liste zurückgibt, wie der nächste Tag aussehen wird.\n",
        "\n"
      ]
    },
    {
      "cell_type": "markdown",
      "metadata": {
        "id": "Q8wyHGYRqDUr"
      },
      "source": [
        "Beispiele:\n",
        "\n",
        "\n",
        "```\n",
        "[1, 2, 6, 0, 0, 0] # vorher\n",
        "[2, 3, 6, 0, 0, 1] # nachher\n",
        "\n",
        "[2, 3, 6, 0, 0, 1] # vorher\n",
        "[3, 4, 6, 0, 1, 2] # nachher\n",
        "\n",
        "[0, 1, 0, 0, 0, 0] # vorher\n",
        "[1, 2, 1, 0, 0, 0] # nachher\n",
        "```\n",
        "\n"
      ]
    },
    {
      "cell_type": "markdown",
      "metadata": {
        "id": "9L9hJ2cx1-v9"
      },
      "source": [
        "## Level 3 - Cardio Fitness\n",
        "\n",
        "Das Unternehmen CardioGood Fitness vertreibt unteranderem unterschiedliche Laufbandprodukt. Das Dataset CardioGoodFitness enthält Daten über Kundenprofile die unterschiedliche Laufband Modelle in den letzten 3 Jahren gekauft haben.\n",
        "\n",
        "**Vorbereitung**\n",
        "\n",
        "Das Dataset kann unter folgendem Link heruntergeladen werden:\n",
        "https://drive.google.com/file/d/1yLkk9nKPhcdfg4hOEnaCQlmIL6NYh0ZZ/view?usp=sharing\n",
        "\n",
        "Im folgenden wollen wir einen Überblick der Kundenprofile erhalten und untersuchen, ob es Unterschiede zwischen den verschiedenen Laufband Modellen gibt. \n",
        "Folgende Kundenvariablen sind enthalten: \n",
        "- das gekaufte Produkt, TM195, TM498 oder TM798 (Product); \n",
        "- das Geschlecht (Gender); \n",
        "- das Alter in Jahren (Age); \n",
        "- die Ausbildung in Jahren (Education); \n",
        "- den Beziehungsstatus, ledig oder verpartnert (MaterialStatus);\n",
        "- das jährliche Haushaltseinkommen ($) (Income);\n",
        "- die durchschnittliche Anzahl der Male, die der Kunde plant, das Laufband pro Woche zu benutzen (Usage); \n",
        "- die durchschnittliche Anzahl der Meilen, die der Kunde erwartet, pro Woche zu gehen/laufen (Miles); \n",
        "- und die selbst eingeschätzte Fitness auf einer Skala von 1 bis 5, wobei 1 für eine schlechte Verfassung und 5 für eine ausgezeichnete Verfassung steht.(Fitness)\n",
        "\n",
        "\n",
        "**Allgemeine Analysen**\n",
        "- Welches Laufband Modell wurde am meisten verkauft?\n",
        "- Wurde ein Modell bevorzugt von Personen einer bestimmten Altergruppe/FitnessLevel gekauft?\n",
        "- Wie viele Meilen planen Frauen vs Männer pro Woche zu laufen (je Modell)\n",
        "- Generiere eine neue Spalte \"AgeGroup\" die das Alter in Gruppen wie folgt zusammenfasst: \n",
        "    \"group1\" (18-25), \"group2\" (25-40), \"group3\"(<40)\n",
        "- Du möchtest nun gern einen Überblick über das durchschnittliche Gehalt in den unterschiedlichen Altergruppen und Geschlechtern bekommen und diese beiden Eigenschaften in Relation zu der gekauften Produktgruppe stellen. (Tipp schau die mal pivot_table von pandas an)\n",
        "*kursiver Text*\n",
        "Natürlich kannst du noch weitere deskriptive Analysen durchführen, um ein besseres Bild zu den jeweiligen Kundenprofilen für die CardioGood Fitness-Laufband Modelle zu erhalten.\n",
        "\n",
        "\n",
        "**Visualisierung**\n",
        "- Um dir einen schnellen Überblick über alle numerischen Spalten zu verschaffen, erstelle ein Histogramm für jede nummerische Spalte\n",
        "- Werden die drei Produkte unterschiedlich häufig von Männer bzw. Frauen erworben (Kannst du das mit drei Histogrammen visualisieren)\n",
        "\n",
        "Einfache Visualisierungen lassen sich noch gut mit der Plot Funktionalität von Pandas realisieren. Für komplizierter Plots gibt es extra Pakete. Lasst uns heute mal einen  Blick auf das package seaborn werfen (https://seaborn.pydata.org/)\n",
        "Vielleicht kannst du für die folgenden Fragestellungen Visualisierungen mit seaborn erstellen\n",
        "\n",
        "- Wie verhalten sich die eingeschätzte Fitness mit den sich vorgenommenen Miles pro Woche (fällt dir vllt ein Plot dazu ein)\n",
        "- Wie verhält sich das Einkommen zum Alter? Wie kannst du nun noch die Modellkategorie als zusätzliche Dimension miteinbeziehen *(Tipp: schau dir mal das Arguement \"hue\" an, was man z.B bei Scatterplots mitgeben kann)*\n",
        "- Vielleicht kannst du den gleichen Plot von oben nochmal mit seaborn in \"schöner\" darstellen (außer dein Plot ist bereits wunderschön;)) *(Tipp countplot)*\n",
        "    ( Werden die drei Produkte unterschiedlich häufig von Männer bzw. Frauen erworben)\n",
        "- Wie häufig werden die Geräte pro Woche genutzt. Zeige die Unterschiede in der Modellen\n"
      ]
    },
    {
      "cell_type": "markdown",
      "metadata": {
        "id": "56oI7RZLiUnG"
      },
      "source": [
        "# Aufgaben bis Anfang September 2021"
      ]
    },
    {
      "cell_type": "markdown",
      "metadata": {
        "id": "Jc5Qga68idRj"
      },
      "source": [
        "## Level 1 - Freibad-Kasse\n",
        "\n",
        "Wir entwickeln ein Kassensystem für ein Freizeitbad. Leider sind die Regeln ein bisschen kompliziert.\n",
        "*  Erwachsene (> 16 Jahre) zahlen für ein reguläres Ticket 3.50€. Kinder bis 16 zahlen 2.50€. Kinder bis 4 Jahre sind kostenlos, wenn sie in Begleitung eines Erwachsenen sind (ansonsten ermäßigter Preis)\n",
        "* Freibad-Besucher können beliebig viele Gutscheine einlösen. Diese berechtigen zum freien Eintritt. Sinnvollerweise soll der Gutschein für die teuersten Personen eingelöst werden.\n",
        "* Das Freibad bietet auch Gruppentickets für bis zu 6 Personen zum Preis von 15€. Dabei ist es egal, wie alt die Personen sind. Klappt dein Programm auch mit sehr großen Gruppen, wo ggf. mehrere Gruppentickets eingelöst werden?\n",
        "\n",
        "Das Programm beginnt mit einer Liste der Personen bzw. den Altersangaben. Außerdem erhältst du die Anzahl der Gutscheine\n",
        "Berechne den geringsten Preis für die jeweilige Gruppe. Starte Schritt für Schritt. Für jede Ausbaustufe, habe ich Kontroll-Beispiele angehängt.\n",
        "\n",
        "*Die Aufgaben sind inspiriert vom 16. Bundeswettbewerb für Informatik. Wir üben Bedingungen, Listen, Schleifen usw.*\n",
        "\n",
        "**Aufgaben & Kontrollbeispiele:**\n",
        "\n",
        "a) Beginne mit den regulären Preisen (ohne Gutschein & Gruppenticket)\n",
        "\n",
        "```\n",
        "personen = [44, 45, 12, 16, 33] # 15.50€\n",
        "personen = [44, 12, 4] # 8.50€\n",
        "personen = [12, 4] # 5.00€\n",
        "```\n",
        "\n",
        "b) Ergänze dein Programm um die Gutschein-Regel. Am besten steckst du den Code in eine Funktion und rufst ihn mehrmals auf.\n",
        "\n",
        "```\n",
        "personen = [44, 45, 12, 16, 33]\n",
        "gutschein = 2\n",
        "# 15.50€\n",
        "\n",
        "personen = [12, 16, 33]\n",
        "gutschein = 1\n",
        "# 5.00€\n",
        "\n",
        "personen = [44, 12, 4]\n",
        "gutschein = 0\n",
        "# 8.50€\n",
        "```\n",
        "c) Und nun zuletzt kommt noch das Gruppenticket hinzu.\n",
        "\n",
        "Tipps: Ganzzahlige Division, Kombination mit vorheriger Funktion.\n",
        "\n",
        "\n",
        "Ziel: Gib nur noch den günstigsten Preis aus.\n",
        "\n",
        "```\n",
        "personen = [44, 45, 12, 16, 33]\n",
        "gutschein = 2\n",
        "# 15.00€ (Gruppenticket, trotz nur 5 Personen und 2 Gutscheinen)\n",
        "personen = [12, 16, 33]\n",
        "gutschein = 1\n",
        "# 5.00€ (Reguläres Ticket ist günstiger)\n",
        "personen = [12, 12, 13, 13, 14, 12]\n",
        "gutschein = 1\n",
        "# 12.50 € (Reguläres Ticket ist günstiger)\n",
        "personen = [12, 12, 13, 13, 14, 12, 44, 45, 13, 13, 14, 12]\n",
        "gutschein = 0\n",
        "# 30.00 € (2 Tagestickets)\n",
        "``` \n",
        "\n"
      ]
    },
    {
      "cell_type": "markdown",
      "metadata": {
        "id": "oXYKBO1Ai8d6"
      },
      "source": [
        "##Level 2 - ISBN Converter\n",
        "\n",
        "Wir alle kennen ISBN Nummern von Büchern. \n",
        "Das klassische Format ist die ISBN-10, das sind 10 Ziffern gefolgt von einer Prüfzimmer (0-9 und X).\n",
        "Heutzutage ist die ISBN-13 gebräuchlicher. Wie die Beiden Formate sich unterscheiden zeigt [Wikipedia](https://de.wikipedia.org/wiki/Internationale_Standardbuchnummer).\n",
        "\n",
        "Erstelle eine Funktion die eine vorhandene ISBN-10 Nummer als Argument bekommt und als Rückgabewert die ISBN-13 Nummer berechnet.\n",
        "\n",
        "```python\n",
        "def isbn_10_to_13(isbn10: str) -> str:\n",
        "    pass\n",
        "```\n",
        "\n",
        "Bonus: ISBN Nummern werden häufig mit Bindestrichen oder Leerzeichen getrennt. \n",
        "Mache deine Funktion robuster, sodass folgende Eingaben funktionieren:\n",
        "\n",
        "* `3-12-517154-7`\n",
        "* `3 12 517154 7`\n",
        "* `043942089X`"
      ]
    },
    {
      "cell_type": "markdown",
      "metadata": {
        "id": "AxVCZyORitjA"
      },
      "source": [
        "## Level 3 - Forbes Unternehmensdaten\n",
        "\n",
        "Der Forbes Global 2000 ist eine jährliche Rangliste der 2.000 größten börsennotierten Unternehmen der Welt, die vom Forbes Magazine veröffentlicht wird. Alle Zahlen sind in Milliarden USD. Die Daten sind frei verfügbar unter https://www.forbes.com/global2000\n",
        "\n",
        "Lade das Datenset forbes2000_2004.csv \n",
        "(https://drive.google.com/file/d/1BHId89FtSAop2EGzT42isSzwa_wufCkf/view?usp=sharing)\n",
        "\n",
        "\n",
        "* Finde das Unternehmen mit dem größten Marktwert?\n",
        "* Generiere ein Datenset, das nur Unternehmen aus Deutschland enthält. \n",
        "* Was sind die Top 3 Unternehmen in diesem Datenset?  \n",
        "* Welches deutsche Unternehmen hat den geringsten Profit?\n",
        "\n",
        "\n",
        "Lese nun das zweite Datenset (forbes2000_2020.csv) ein.\n",
        "(https://drive.google.com/file/d/1D5LyuXaeEKFn94C6t15LiKGGk0mHckxC/view?usp=sharing)\n",
        "\n",
        "- Schaue dir die ersten drei Zeilen an, um einen schnellen Überblick zu bekommen. Welches ist das Top-Unternehmen im Jahr 2020?\n",
        "\n",
        "**Datenbereinigungen:**\n",
        "- Benenne die Spalten um, damit sie mit unserem Datensatz von 2004 übereinstimmen:  [rank, name, country, sales, profits, assets, marketvalue]\n",
        "- In den Spalten der Finanzkennzahlen sind Dollarzeichen und Kommas enthalten. Entferne alle Dollarzeichen und Kommas.\n",
        "- Wandel die Finanzspalten von String in Integer um, damit wir mit ihnen rechnen können\n",
        "- Teile die Finanzspalten durch 1000, damit sie in Milliarden USD angegeben werden und mit dem vorherigen Datensatz von 2004 übereinstimmen.\n",
        "- Die Kategorie Spalte fehlt in diesem Datensatz. Um die Kategorie hinzuzufügen, können wir diesen Datenstz mit dem aus 2004 mergen.\n",
        "- Teile den Datensatz von 2004 so, dass nur der Unternehmensname (name) und seine Kategorie (category) übrig bleiben\n",
        "- Führe nun einen Left Join durch und füge die Kategorien von 2004 hinzu\n",
        "- Wie viele Firmen wurden im Datensatz von 2004 gefunden? Wie viele NaNs sind jetzt in der Kategorie\n",
        "Spalte?\n"
      ]
    },
    {
      "cell_type": "markdown",
      "metadata": {
        "id": "VRKpokEP4k9g"
      },
      "source": [
        "## Lösung Level 3 - Forbes Unternehmensdaten"
      ]
    },
    {
      "cell_type": "code",
      "metadata": {
        "id": "O0svIlvF4zPk"
      },
      "source": [
        "# Daten laden\n",
        "df = pd.read_csv('data.csv')\n",
        "\n",
        "# Zu wie vielen Ländern enthält die Tabelle Informationen?\n",
        "df.nunique()\n",
        "\n",
        "# Welche Länder sind das?\n",
        "# option 1\n",
        "df['ReportingCountry'].unique()\n",
        "\n",
        "# option 2\n",
        "df['ReportingCountry'].value_counts()\n",
        "\n",
        "# Wie viele Erstimpfungen wurden in den jeweiligen Ländern insgesamt bereits vergeben (Stand KW23)?\n",
        "# Filter auf TargetGroup All und doppelte Einträge zu vermeiden\n",
        "df = df[df['TargetGroup'] == 'ALL']\n",
        "df.groupby('ReportingCountry').agg({'FirstDose':'sum'})\n",
        "\n",
        "# Wie viele Erstimpfungen haben die Ü60-jährigen bereits bekommen?\n",
        "df[df['TargetGroup']=='1_Age60+']['FirstDose'].sum()\n",
        "\n",
        "# Erstelle eine neue Spalte die nur das Jahr (aus YearWeekISO) enthält?\n",
        "df['Year'] = df['YearWeekISO'].apply(lambda x: x.split('-')[0])\n",
        "\n",
        "# Wie viele Zweitimpfungen wurden im Jahr 2021 bisher vergeben?\n",
        "df[df['Year'] == '2021']['SecondDose'].sum()\n",
        "\n",
        "## Analysen für Deutschland\n",
        "\n",
        "# Erstelle einen neuen Dataframe der nur Einträge aus Deutschland enthält und resete den index\n",
        "df_de = df[df['ReportingCountry']=='DE'].reset_index(drop= True)\n",
        "\n",
        "# Wie viele Erstimpfungen wurden im Durchschnitt (np.mean) pro Woche vergeben?\n",
        "\n",
        "# Option 1 \n",
        "df_de['FirstDose'].mean()\n",
        "\n",
        "# Option 2\n",
        "np.mean(df_de['FirstDose'])\n",
        "\n",
        "# Welche Vaccine werden in Deutschland verwendet? Und wie ist die Verteillung?\n",
        "vacc_df =  df_de.groupby('Vaccine').agg({'SecondDose': sum}).reset_index()\n",
        "\n"
      ],
      "execution_count": null,
      "outputs": []
    },
    {
      "cell_type": "code",
      "metadata": {
        "id": "umcJnfCm5lrI"
      },
      "source": [
        "# Plots:\n",
        "# Plotte den Verlauf der Anzahl an Erstimpfungen über die Zeit (für Deutschland)\n",
        "df_de_plot = df_de.groupby('YearWeekISO').agg({'FirstDose':sum, 'SecondDose':sum}).reset_index()\n",
        "df_de_plot.plot('YearWeekISO', 'SecondDose', figsize = (15, 5))\n",
        "\n",
        "# Füge den Verlauf der Anzahl an Zweitimpufungen hinzu\n",
        "df_de_plot.plot('YearWeekISO', ['FirstDose', 'SecondDose'], figsize = (15, 5))"
      ],
      "execution_count": null,
      "outputs": []
    },
    {
      "cell_type": "markdown",
      "metadata": {
        "id": "YuXyzj6EqxVZ"
      },
      "source": [
        "# Aufgaben bis 26. Juli 2021"
      ]
    },
    {
      "cell_type": "markdown",
      "metadata": {
        "id": "zBPoKqdXq5qo"
      },
      "source": [
        "## Level 1 - Datumsangaben\n",
        "\n",
        "Lasst uns etwas Neues lernen und mit Bibliotheken arbeiten. Andere Programmierer haben Code, Funktionen und Klassen geschrieben, die in Bibliotheken verpackt sind, welche wir verwenden können. Diese können wir mit dem Wörtchen `ìmport` laden und danach nutzen."
      ]
    },
    {
      "cell_type": "markdown",
      "metadata": {
        "id": "CVwV6Zi8Sp6S"
      },
      "source": [
        "### Level 1.1 Stoppuhr\n",
        "\n",
        "Schreibe eine Stoppuhr. Der Nutzer soll nach dem Starten des Programms, die Uhr durch ENTER starten und durch ENTER beenden.\n",
        "\n",
        "Tipps:\n",
        "* Funktion `input()` für Start und Ende\n",
        "* Bibliothek `time` oder `datetime` für das Messen der Sekunden dazwischen. Üblicherweise bestimmt man das aktuelle Datum am Anfang und am Ende und zieht diese voneinander ab."
      ]
    },
    {
      "cell_type": "markdown",
      "metadata": {
        "id": "u1k63gnZcJ-N"
      },
      "source": [
        "### Level 1.2 Pandas pd.to_datetime\n",
        "\n",
        "Auch in Level 1 können wir uns ja mal mit ~~süßen~~ Pandas beschäftigen. Die Bibliothek `pandas` nutzt man häufig für Daten-Projekte. Es gibt die Datenstrukturen DataFrame = Tabelle und Series = sowas wie nur eine Spalte.\n",
        "Beide haben einen Index.\n",
        "\n",
        "Man importiert pandas folgendermaßen (mit Umbenennung in pd) - dies musst Du einmal am Anfang Deines Codes machen:\n",
        "\n",
        "```\n",
        "import pandas as pd\n",
        "```\n",
        "\n",
        "Eine Beispiel Series wäre:\n",
        "\n",
        "```\n",
        "my_series = pd.Series([\"Germany\", \"France\", \"Hungary\", \"Portugal\"], name=\"em-countries\")\n",
        "print(series)\n",
        "```\n",
        "\n",
        "```\n",
        "0     Germany\n",
        "1      France\n",
        "2     Hungary\n",
        "3    Portugal\n",
        "Name: em-countries, dtype: object\n",
        "```\n",
        "\n",
        "Nun zur Aufgabe:\n",
        "\n",
        "a) Suche im Internet nach der Funktion to_datetime von pandas. Nutze sie um eine Series von wilden Datumsangaben in ein Datum umzuwandeln. Hier ist die Series:\n",
        "\n",
        "```\n",
        "my_dates = pd.Series([\"23 Jan 2015\", \"10-02-2016\", \"20180307\", \"2014/05/06\", \"2016-04-24\", \"2019-04-06T11:20\"])\n",
        "```\n",
        "\n",
        "b) Finde das maximale Datum in dieser (umgewandelten) Series.\n",
        "\n",
        "c) Formatiere alle Daten in der Series in einen in Deutschland üblichen String, wie \"24.12.2021\"\n",
        "\n",
        "d) Wandle nun den \"deutschen\" String zurück in das Datum um (genau wie im Punkt a) dieser Aufgabe). Was fällt auf, wenn du das Ergebnis der beiden datetime-Series vergleichst?\n",
        "\n",
        "e) Ändere deinen Code aus d) ggf. so um, dass Du das richtige Datum erhältst."
      ]
    },
    {
      "cell_type": "markdown",
      "metadata": {
        "id": "qjvlVZyKv584"
      },
      "source": [
        "## Level 2 - Passwortgenerator\n",
        "Erstellt einen Passwortgenerator. Die Nutzerin soll die Länge und die zu verwendenden Zeichenklassen einstellen können:\n",
        "* Kleinbuchstaben\n",
        "* Großbuchstaben\n",
        "* Zahlen\n",
        "* Sonderzeichen\n",
        "\n",
        "```\n",
        "def generate_password(....)\n",
        "  ....\n",
        "  return <generated_password>\n",
        "```\n",
        "\n",
        "Die Funktion soll das erstellte Passwort zurück geben.\n",
        "\n",
        "Hinweise:\n",
        "\n",
        "* das first party package `random` liefert viele nützliche Funktionen für diese Aufgabe. [Mach dich mit dem Paket vertraut](https://docs.python.org/3/library/random.html)\n",
        "* die Funktionssignatur sollte möglichst klein sein, aber alle notwendigen Optionen enthalten  \n",
        "* nutze, wo möglich [Default Parameter Values](https://www.w3schools.com/python/gloss_python_function_default_parameter.asp)\n",
        "* wenn verschiedene Zeichenklassen vorkommen, wie viele Zeichen von welcher Klasse? Schließlich sollen möglichst nicht nur Sonderzeichen vorkommen.\n",
        "\n",
        "Bonusausgabe: Recherchiere nach welchen Kriterien Passwörter als sicher gelten. Lass deine Funktion zusätzlich zum Passwort einen Wert von 1 (sehr unsicher) bis 10 (sehr sicher) zurückgeben.\n"
      ]
    },
    {
      "cell_type": "markdown",
      "metadata": {
        "id": "04rLyO4LrBTe"
      },
      "source": [
        "## Level 3 - Impffortschritt"
      ]
    },
    {
      "cell_type": "markdown",
      "metadata": {
        "id": "AgLI7jEQl8iK"
      },
      "source": [
        "Vorbereitung:\n",
        "\n",
        "*   Lade die Daten unter folgendem Link runter https://opendata.ecdc.europa.eu/covid19/vaccine_tracker/csv/data.csv\n",
        "*   Lade die Daten in ein pandas DataFrame und mache Dich mit den Spalten vertraut.\n",
        "\n",
        "\n",
        "Algemeine Analysen:\n",
        "*   Zu wie vielen Ländern enthält die Tabelle Informationen? Welche Länder sind das?\n",
        "*   Wie viele Erstimpfungen wurden in den jeweiligen Ländern insgesamt bereits vergeben (Stand KW23)?\n",
        "*   Wie viele Erstimpfungen haben die Ü60-jährigen bereits bekommen?\n",
        "*   Erstelle eine neue Spalte die nur das Jahr (aus YearWeekISO) enthält?\n",
        "*   Wie viele Zweitimpfungen wurden im Jahr 2021 bisher vergeben?\n",
        "\n",
        "\n",
        "Analysen für Deutschland:\n",
        "*   Erstelle einen neuen Dataframe der nur Einträge aus Deutschland enthält und resete den index\n",
        "*   Wie viele Erstimpfungen wurden im Durchschnitt (np.mean) pro Woche vergeben?\n",
        "*   Welche Vaccine werden in Deutschland verwendet? Und wie ist die Verteillung?\n",
        "\n",
        "\n",
        "Plots:\n",
        "*   Plotte den Verlauf der Anzahl an Erstimpfungen über die Zeit (für Deutschland)\n",
        "*   Füge den Verlauf der Anzahl an Zweitimpufungen hinzu\n",
        "\n",
        "\n"
      ]
    },
    {
      "cell_type": "markdown",
      "metadata": {
        "id": "gnbgIw51O6Kl"
      },
      "source": [
        "## Lösung Level 1 - Datumsangaben"
      ]
    },
    {
      "cell_type": "code",
      "metadata": {
        "id": "n1EkZoJHPY6x",
        "colab": {
          "base_uri": "https://localhost:8080/"
        },
        "outputId": "62f4504b-e1dd-4de9-a58f-aaac8ff40e10"
      },
      "source": [
        "# 1.1 Stopuhr\n",
        "import time\n",
        "input(\"Starte die Stoppuhr durch Enter\")\n",
        "start = time.time()\n",
        "input(\"Stoppe die Stoppuhr durch Enter\")\n",
        "end = time.time()\n",
        "sekunden = end - start\n",
        "print(\"Stoppuhr Messung:\", round(sekunden, 3), \"Sekunden\")"
      ],
      "execution_count": null,
      "outputs": [
        {
          "output_type": "stream",
          "text": [
            "Starte die Stoppuhr durch Enter\n",
            "Stoppe die Stoppuhr durch Enter\n",
            "Stoppuhr Messung: 2.349 Sekunden\n"
          ],
          "name": "stdout"
        }
      ]
    },
    {
      "cell_type": "code",
      "metadata": {
        "id": "gxSM8tY6Pcxx"
      },
      "source": [
        "# 1.2 Pandas pd.to_datetime\n",
        "\n",
        "import pandas as pd\n",
        "\n",
        "my_dates = pd.Series([\"23 Jan 2015\", \"10-02-2016\", \"20180307\", \"2014/05/06\", \"2016-04-24\", \"2019-04-06T11:20\"])\n",
        "parsed_dates = pd.to_datetime(my_dates)\n",
        "print(\"a)\")\n",
        "print(parsed_dates)\n",
        "\n",
        "print(\"b) Max date:\", parsed_dates.max())\n",
        "\n",
        "print(\"c)\")\n",
        "german_dates = parsed_dates.dt.strftime(\"%d.%m.%Y\")\n",
        "print(german_dates)\n",
        "\n",
        "print(\"d)\")\n",
        "parsed_german_dates = pd.to_datetime(german_dates)\n",
        "print(parsed_german_dates)\n",
        "\n",
        "print(\"e)\")\n",
        "parsed_german_dates = pd.to_datetime(german_dates, format=\"%d.%m.%Y\")\n",
        "print(parsed_german_dates)"
      ],
      "execution_count": null,
      "outputs": []
    },
    {
      "cell_type": "markdown",
      "metadata": {
        "id": "I4fYPt8mPyuq"
      },
      "source": [
        "## Lösung Level 2 - Passwortgenerator\n"
      ]
    },
    {
      "cell_type": "code",
      "metadata": {
        "id": "74mwjY1OP5Oy"
      },
      "source": [
        ""
      ],
      "execution_count": null,
      "outputs": []
    },
    {
      "cell_type": "markdown",
      "metadata": {
        "id": "7vWPA6reToKt"
      },
      "source": [
        "## Lösungen Level 3 - Impffortschritt"
      ]
    },
    {
      "cell_type": "code",
      "metadata": {
        "id": "-QLnj95gTvAl"
      },
      "source": [
        "# Daten laden\n",
        "df = pd.read_csv('data.csv')"
      ],
      "execution_count": null,
      "outputs": []
    },
    {
      "cell_type": "markdown",
      "metadata": {
        "id": "bAEQ5y3mUutn"
      },
      "source": [
        "Algemeine Analysen:"
      ]
    },
    {
      "cell_type": "code",
      "metadata": {
        "id": "eTWiD5aOT_kQ"
      },
      "source": [
        "# Zu wie vielen Ländern enthält die Tabelle Informationen?\n",
        "df.nunique()\n"
      ],
      "execution_count": null,
      "outputs": []
    },
    {
      "cell_type": "code",
      "metadata": {
        "id": "ySCbeEcjUKXf"
      },
      "source": [
        "# Welche Länder sind das?\n",
        "# option 1\n",
        "df['ReportingCountry'].unique()\n",
        "\n",
        "# option 2\n",
        "df['ReportingCountry'].value_counts()\n"
      ],
      "execution_count": null,
      "outputs": []
    },
    {
      "cell_type": "code",
      "metadata": {
        "id": "Vs0CHdBXUiH6"
      },
      "source": [
        "# Wie viele Erstimpfungen wurden in den jeweiligen Ländern insgesamt bereits vergeben (Stand KW23)?\n",
        "# Filter auf TargetGroup All und doppelte Einträge zu vermeiden\n",
        "df = df[df['TargetGroup'] == 'ALL']\n",
        "df.groupby('ReportingCountry').agg({'FirstDose':'sum'})"
      ],
      "execution_count": null,
      "outputs": []
    },
    {
      "cell_type": "code",
      "metadata": {
        "id": "qIHNQzgmUrSm"
      },
      "source": [
        "# Wie viele Erstimpfungen haben die Ü60-jährigen bereits bekommen?\n",
        "df[df['TargetGroup']=='1_Age60+']['FirstDose'].sum()"
      ],
      "execution_count": null,
      "outputs": []
    },
    {
      "cell_type": "code",
      "metadata": {
        "id": "XK7yrGumU1vi"
      },
      "source": [
        "# Erstelle eine neue Spalte die nur das Jahr (aus YearWeekISO) enthält?\n",
        "df['Year'] = df['YearWeekISO'].apply(lambda x: x.split('-')[0])"
      ],
      "execution_count": null,
      "outputs": []
    },
    {
      "cell_type": "code",
      "metadata": {
        "id": "OcyDncK6U9kq"
      },
      "source": [
        "# Wie viele Zweitimpfungen wurden im Jahr 2021 bisher vergeben?\n",
        "df[df['Year'] == '2021']['SecondDose'].sum()"
      ],
      "execution_count": null,
      "outputs": []
    },
    {
      "cell_type": "markdown",
      "metadata": {
        "id": "imML8T1lVDWj"
      },
      "source": [
        "Analysen für Deutschland:"
      ]
    },
    {
      "cell_type": "code",
      "metadata": {
        "id": "b913MnDSVHxK"
      },
      "source": [
        "# Erstelle einen neuen Dataframe der nur Einträge aus Deutschland enthält und resete den index\n",
        "df_de = df[df['ReportingCountry']=='DE'].reset_index(drop= True)"
      ],
      "execution_count": null,
      "outputs": []
    },
    {
      "cell_type": "code",
      "metadata": {
        "id": "IA0_8OONVOeN"
      },
      "source": [
        "# Wie viele Erstimpfungen wurden im Durchschnitt (np.mean) pro Woche vergeben?\n",
        "\n",
        "# Option 1 \n",
        "df_de['FirstDose'].mean()\n",
        "\n",
        "# Option 2\n",
        "np.mean(df_de['FirstDose'])"
      ],
      "execution_count": null,
      "outputs": []
    },
    {
      "cell_type": "code",
      "metadata": {
        "id": "ek5vgLfWVSQA"
      },
      "source": [
        "# Welche Vaccine werden in Deutschland verwendet? Und wie ist die Verteillung?\n",
        "\n",
        "vacc_df =  df_de.groupby('Vaccine').agg({'SecondDose': sum}).reset_index()\n",
        "\n"
      ],
      "execution_count": null,
      "outputs": []
    },
    {
      "cell_type": "markdown",
      "metadata": {
        "id": "03-bKVK8V6n1"
      },
      "source": [
        "Plots:\n"
      ]
    },
    {
      "cell_type": "code",
      "metadata": {
        "id": "YNsf87DlVpdX"
      },
      "source": [
        "# Plotte den Verlauf der Anzahl an Erstimpfungen über die Zeit (für Deutschland)\n",
        "df_de_plot = df_de.groupby('YearWeekISO').agg({'FirstDose':sum, 'SecondDose':sum}).reset_index()\n",
        "df_de_plot.plot('YearWeekISO', 'SecondDose', figsize = (15, 5))"
      ],
      "execution_count": null,
      "outputs": []
    },
    {
      "cell_type": "code",
      "metadata": {
        "id": "7_YGjk3YWDQW"
      },
      "source": [
        "# Füge den Verlauf der Anzahl an Zweitimpufungen hinzu\n",
        "df_de_plot.plot('YearWeekISO', ['FirstDose', 'SecondDose'], figsize = (15, 5))"
      ],
      "execution_count": null,
      "outputs": []
    },
    {
      "cell_type": "markdown",
      "metadata": {
        "id": "x0rYyI08p6_R"
      },
      "source": [
        "# Aufgaben bis 28. Juni 2021\n"
      ]
    },
    {
      "cell_type": "markdown",
      "metadata": {
        "id": "31ERPjWYu_zS"
      },
      "source": [
        "## Level 1\n"
      ]
    },
    {
      "cell_type": "markdown",
      "metadata": {
        "id": "OM9HLXdKlkAd"
      },
      "source": [
        "#### 1.1 Temperatur Umwandler\n",
        "\n",
        "Schreibe ein Programm, das Temperaturen in verschiedene Skalensystemen ineinander umwandelt. Das Programm soll zu Beginn eine Auswahl mit den verschiedenen Möglichkeiten anbieten, im Anschluss soll die umzurechnende Temperatur abgefragt werden (gerne auch mit angepasster Nachricht im `input`-Block):\n",
        "\n",
        "\n",
        "```\n",
        "(1) Umrechnung von Celsius nach Kelvin\n",
        "(2) Umrechnung von Celsius nach Fahrenheit\n",
        "(3) Umrechnung von Kelvin nach Celsius\n",
        "(4) Umrechnung von Kelvin nach Fahrenheit\n",
        "(5) Umrechnung von Fahrenheit nach Celsius\n",
        "(6) Umrechnung von Fahrenheit nach Kelvin\n",
        "```\n",
        "\n",
        "**Anmerkungen:** \n",
        "\n",
        "Dies kann dir sicher helfen.\n",
        "\n",
        "* Celsius = 5/9 * (Fahrenheit - 32).\n",
        "* Celsius = Kelvin - 273.15.\n",
        "* Die tiefste mögliche Temperatur ist den absoluten Nullpunkt 0K. Dies sollte überprüft werden.\n",
        "\n"
      ]
    },
    {
      "cell_type": "markdown",
      "metadata": {
        "id": "29T2RlVlmyYn"
      },
      "source": [
        "#### 1.2 Caesar-Verschlüsselung\n",
        "\n",
        "Programmiere eine Funktion, die einen String und eine Zahl `k` als Parameter entgegennimmt  und  die  Caesar-Verschlüsselung  zurückliefert.  Bei  der  einfachen  Verschlüsselungsverfahren wird jeder Buchstabe zyklisch mit dem Buchstaben ersetzt, der im Alphabet `k` Buchstaben weiter hinter steht.\n",
        "\n",
        "[Caesar-Verschlüsselung bei Wikipedia](https://de.wikipedia.org/wiki/Caesar-Verschl%C3%BCsselung)\n",
        "\n",
        "**Hinweise:** Überlegt euch wie eurer Programm mit Groß-/Kleinschreibung umgehen soll\n",
        "\n",
        "**Bonus:** Erstellt eine zweite Funktion die entschlüsseln kann. Könnt ihr hier Funktionalität wiederverwenden?"
      ]
    },
    {
      "cell_type": "markdown",
      "metadata": {
        "id": "At6-jvh6vDy7"
      },
      "source": [
        "## Level 2 - Geometrische Figuren\n",
        "Es ist in der Console auch möglich geometrische Figuren zu zeichnen. \n",
        "\n",
        "```\n",
        "  /\\  |‾‾| /\\  /\\\n",
        " /__\\ |__| \\/ /  \\\n",
        "             /____\\\n",
        "```\n",
        "\n",
        "Erstelle eine Funktion, die in der Lage ist verschiedene geometrische Figuren darzustellen.\n",
        "Die Eingabeparameter sollten sein: Art der Figur (Dreieck, Quadrat ...) und Höhe der Figur:\n",
        "\n",
        "```\n",
        "def draw_figure(figure: str, higth: int)\n",
        "```\n",
        "\n",
        "Die Funktion sollte dann die gewählte Figur in der gewählten Höhe auf der Konsole ausgeben. \n",
        "\n",
        "**Tipps:** Python kann den gesammten Zeichensatz des Unicodes ausgeben, also nicht nur die Symbole auf der Tastatur. \n",
        "Es ist also möglich z.B. [folgende Symbole](https://en.wikipedia.org/wiki/Box-drawing_character) zu verwenden. \n",
        "Oder auch statt einem Underscore ( _ ) einen [Upperscore](https://www.compart.com/de/unicode/U+203E) zu verwenden.\n",
        "\n",
        "**Bonus:** Gerade Linien waren ja erst der Anfang ;-). Kannst du deine Funktion um einen Kreis erweitern? Seid kreativ, Unicode hat viiiiiele Symbole.\n",
        "\n",
        "```\n",
        "/‾‾\\\n",
        "⎸  |\n",
        "\\__/\n",
        "```\n",
        "(nur ein Beispiel, ich bin mir sicher, ihr bekommt das schöner hin ;-)\n",
        "\n",
        "\n"
      ]
    },
    {
      "cell_type": "markdown",
      "metadata": {
        "id": "6qceSAJSjWMB"
      },
      "source": [
        "## Level 3 - StackOverflow Umfrage auswerten und visualisieren\n",
        "\n",
        "Wir wollen eine Umfrage auswerten, konkret die alljährliche [Umfrage von StackOverflow](https://insights.stackoverflow.com/survey), einem der bekanntesten Foren für Entwickler mit der Antwort auf so ziemlich jede \"dumme\" Frage.\n",
        "\n",
        "Inspiriert wurde ich bei der Aufgabe von [DataQuest]( https://www.dataquest.io/blog/how-to-analyze-survey-data-python-beginner/), wobei ihr in dem Artikel auch detailierte Erklärungen zu den Aufgaben und der Auswertung von Umfragen mit Python im generellen erhaltet. Alternativ könnt ihr auch nochmal in diesen [moinworld Kursunterlagen](https://colab.research.google.com/drive/1lVzXqnd1_0ECXcYMfDqMRcUdDiwaf_2C?usp=sharing) zu Datenanalyse nachschlagen.\n",
        "\n",
        "\n"
      ]
    },
    {
      "cell_type": "markdown",
      "metadata": {
        "id": "3ltYO7UXxGWD"
      },
      "source": [
        "Vorbereitung:\n",
        "\n",
        "1.   Bitte lade die Daten von [develop_survey_2020.zip](https://drive.google.com/file/d/1dfGerWeWkcyQ9GX9x20rdSGj7WtEpzBB/view) herunter und extrahiere den Ordner. In der PDF findest Du die Fragen zu der Umfrage.\n",
        "2.   Lade die Daten survey_results_public.csv in ein pandas DataFrame und mache Dich mit den Spalten vertraut.\n",
        "\n"
      ]
    },
    {
      "cell_type": "code",
      "metadata": {
        "id": "1i3xSAtdx01x"
      },
      "source": [
        "import pandas as pd\n",
        "\n",
        "df = pd.read_csv(\"survey_results_public.csv\")"
      ],
      "execution_count": null,
      "outputs": []
    },
    {
      "cell_type": "code",
      "metadata": {
        "colab": {
          "base_uri": "https://localhost:8080/",
          "height": 400
        },
        "id": "IJ5E1-sRyHWi",
        "outputId": "b275ddaf-749f-4ca0-f98e-2edfeb00d0ec"
      },
      "source": [
        "df.head(3)"
      ],
      "execution_count": null,
      "outputs": [
        {
          "output_type": "execute_result",
          "data": {
            "text/html": [
              "<div>\n",
              "<style scoped>\n",
              "    .dataframe tbody tr th:only-of-type {\n",
              "        vertical-align: middle;\n",
              "    }\n",
              "\n",
              "    .dataframe tbody tr th {\n",
              "        vertical-align: top;\n",
              "    }\n",
              "\n",
              "    .dataframe thead th {\n",
              "        text-align: right;\n",
              "    }\n",
              "</style>\n",
              "<table border=\"1\" class=\"dataframe\">\n",
              "  <thead>\n",
              "    <tr style=\"text-align: right;\">\n",
              "      <th></th>\n",
              "      <th>Respondent</th>\n",
              "      <th>MainBranch</th>\n",
              "      <th>Hobbyist</th>\n",
              "      <th>Age</th>\n",
              "      <th>Age1stCode</th>\n",
              "      <th>CompFreq</th>\n",
              "      <th>CompTotal</th>\n",
              "      <th>ConvertedComp</th>\n",
              "      <th>Country</th>\n",
              "      <th>CurrencyDesc</th>\n",
              "      <th>CurrencySymbol</th>\n",
              "      <th>DatabaseDesireNextYear</th>\n",
              "      <th>DatabaseWorkedWith</th>\n",
              "      <th>DevType</th>\n",
              "      <th>EdLevel</th>\n",
              "      <th>Employment</th>\n",
              "      <th>Ethnicity</th>\n",
              "      <th>Gender</th>\n",
              "      <th>JobFactors</th>\n",
              "      <th>JobSat</th>\n",
              "      <th>JobSeek</th>\n",
              "      <th>LanguageDesireNextYear</th>\n",
              "      <th>LanguageWorkedWith</th>\n",
              "      <th>MiscTechDesireNextYear</th>\n",
              "      <th>MiscTechWorkedWith</th>\n",
              "      <th>NEWCollabToolsDesireNextYear</th>\n",
              "      <th>NEWCollabToolsWorkedWith</th>\n",
              "      <th>NEWDevOps</th>\n",
              "      <th>NEWDevOpsImpt</th>\n",
              "      <th>NEWEdImpt</th>\n",
              "      <th>NEWJobHunt</th>\n",
              "      <th>NEWJobHuntResearch</th>\n",
              "      <th>NEWLearn</th>\n",
              "      <th>NEWOffTopic</th>\n",
              "      <th>NEWOnboardGood</th>\n",
              "      <th>NEWOtherComms</th>\n",
              "      <th>NEWOvertime</th>\n",
              "      <th>NEWPurchaseResearch</th>\n",
              "      <th>NEWPurpleLink</th>\n",
              "      <th>NEWSOSites</th>\n",
              "      <th>NEWStuck</th>\n",
              "      <th>OpSys</th>\n",
              "      <th>OrgSize</th>\n",
              "      <th>PlatformDesireNextYear</th>\n",
              "      <th>PlatformWorkedWith</th>\n",
              "      <th>PurchaseWhat</th>\n",
              "      <th>Sexuality</th>\n",
              "      <th>SOAccount</th>\n",
              "      <th>SOComm</th>\n",
              "      <th>SOPartFreq</th>\n",
              "      <th>SOVisitFreq</th>\n",
              "      <th>SurveyEase</th>\n",
              "      <th>SurveyLength</th>\n",
              "      <th>Trans</th>\n",
              "      <th>UndergradMajor</th>\n",
              "      <th>WebframeDesireNextYear</th>\n",
              "      <th>WebframeWorkedWith</th>\n",
              "      <th>WelcomeChange</th>\n",
              "      <th>WorkWeekHrs</th>\n",
              "      <th>YearsCode</th>\n",
              "      <th>YearsCodePro</th>\n",
              "    </tr>\n",
              "  </thead>\n",
              "  <tbody>\n",
              "    <tr>\n",
              "      <th>0</th>\n",
              "      <td>1</td>\n",
              "      <td>I am a developer by profession</td>\n",
              "      <td>Yes</td>\n",
              "      <td>NaN</td>\n",
              "      <td>13</td>\n",
              "      <td>Monthly</td>\n",
              "      <td>NaN</td>\n",
              "      <td>NaN</td>\n",
              "      <td>Germany</td>\n",
              "      <td>European Euro</td>\n",
              "      <td>EUR</td>\n",
              "      <td>Microsoft SQL Server</td>\n",
              "      <td>Elasticsearch;Microsoft SQL Server;Oracle</td>\n",
              "      <td>Developer, desktop or enterprise applications;...</td>\n",
              "      <td>Master’s degree (M.A., M.S., M.Eng., MBA, etc.)</td>\n",
              "      <td>Independent contractor, freelancer, or self-em...</td>\n",
              "      <td>White or of European descent</td>\n",
              "      <td>Man</td>\n",
              "      <td>Languages, frameworks, and other technologies ...</td>\n",
              "      <td>Slightly satisfied</td>\n",
              "      <td>I am not interested in new job opportunities</td>\n",
              "      <td>C#;HTML/CSS;JavaScript</td>\n",
              "      <td>C#;HTML/CSS;JavaScript</td>\n",
              "      <td>.NET Core;Xamarin</td>\n",
              "      <td>.NET;.NET Core</td>\n",
              "      <td>Microsoft Teams;Microsoft Azure;Trello</td>\n",
              "      <td>Confluence;Jira;Slack;Microsoft Azure;Trello</td>\n",
              "      <td>No</td>\n",
              "      <td>Somewhat important</td>\n",
              "      <td>Fairly important</td>\n",
              "      <td>NaN</td>\n",
              "      <td>NaN</td>\n",
              "      <td>Once a year</td>\n",
              "      <td>Not sure</td>\n",
              "      <td>NaN</td>\n",
              "      <td>No</td>\n",
              "      <td>Often: 1-2 days per week or more</td>\n",
              "      <td>Start a free trial;Ask developers I know/work ...</td>\n",
              "      <td>Amused</td>\n",
              "      <td>Stack Overflow (public Q&amp;A for anyone who codes)</td>\n",
              "      <td>Visit Stack Overflow;Go for a walk or other ph...</td>\n",
              "      <td>Windows</td>\n",
              "      <td>2 to 9 employees</td>\n",
              "      <td>Android;iOS;Kubernetes;Microsoft Azure;Windows</td>\n",
              "      <td>Windows</td>\n",
              "      <td>NaN</td>\n",
              "      <td>Straight / Heterosexual</td>\n",
              "      <td>No</td>\n",
              "      <td>No, not at all</td>\n",
              "      <td>NaN</td>\n",
              "      <td>Multiple times per day</td>\n",
              "      <td>Neither easy nor difficult</td>\n",
              "      <td>Appropriate in length</td>\n",
              "      <td>No</td>\n",
              "      <td>Computer science, computer engineering, or sof...</td>\n",
              "      <td>ASP.NET Core</td>\n",
              "      <td>ASP.NET;ASP.NET Core</td>\n",
              "      <td>Just as welcome now as I felt last year</td>\n",
              "      <td>50.0</td>\n",
              "      <td>36</td>\n",
              "      <td>27</td>\n",
              "    </tr>\n",
              "    <tr>\n",
              "      <th>1</th>\n",
              "      <td>2</td>\n",
              "      <td>I am a developer by profession</td>\n",
              "      <td>No</td>\n",
              "      <td>NaN</td>\n",
              "      <td>19</td>\n",
              "      <td>NaN</td>\n",
              "      <td>NaN</td>\n",
              "      <td>NaN</td>\n",
              "      <td>United Kingdom</td>\n",
              "      <td>Pound sterling</td>\n",
              "      <td>GBP</td>\n",
              "      <td>NaN</td>\n",
              "      <td>NaN</td>\n",
              "      <td>Developer, full-stack;Developer, mobile</td>\n",
              "      <td>Bachelor’s degree (B.A., B.S., B.Eng., etc.)</td>\n",
              "      <td>Employed full-time</td>\n",
              "      <td>NaN</td>\n",
              "      <td>NaN</td>\n",
              "      <td>NaN</td>\n",
              "      <td>Very dissatisfied</td>\n",
              "      <td>I am not interested in new job opportunities</td>\n",
              "      <td>Python;Swift</td>\n",
              "      <td>JavaScript;Swift</td>\n",
              "      <td>React Native;TensorFlow;Unity 3D</td>\n",
              "      <td>React Native</td>\n",
              "      <td>Github;Slack</td>\n",
              "      <td>Confluence;Jira;Github;Gitlab;Slack</td>\n",
              "      <td>NaN</td>\n",
              "      <td>NaN</td>\n",
              "      <td>Fairly important</td>\n",
              "      <td>NaN</td>\n",
              "      <td>NaN</td>\n",
              "      <td>Once a year</td>\n",
              "      <td>Not sure</td>\n",
              "      <td>NaN</td>\n",
              "      <td>No</td>\n",
              "      <td>NaN</td>\n",
              "      <td>NaN</td>\n",
              "      <td>Amused</td>\n",
              "      <td>Stack Overflow (public Q&amp;A for anyone who code...</td>\n",
              "      <td>Visit Stack Overflow;Go for a walk or other ph...</td>\n",
              "      <td>MacOS</td>\n",
              "      <td>1,000 to 4,999 employees</td>\n",
              "      <td>iOS;Kubernetes;Linux;MacOS</td>\n",
              "      <td>iOS</td>\n",
              "      <td>I have little or no influence</td>\n",
              "      <td>NaN</td>\n",
              "      <td>Yes</td>\n",
              "      <td>Yes, definitely</td>\n",
              "      <td>Less than once per month or monthly</td>\n",
              "      <td>Multiple times per day</td>\n",
              "      <td>NaN</td>\n",
              "      <td>NaN</td>\n",
              "      <td>NaN</td>\n",
              "      <td>Computer science, computer engineering, or sof...</td>\n",
              "      <td>NaN</td>\n",
              "      <td>NaN</td>\n",
              "      <td>Somewhat more welcome now than last year</td>\n",
              "      <td>NaN</td>\n",
              "      <td>7</td>\n",
              "      <td>4</td>\n",
              "    </tr>\n",
              "    <tr>\n",
              "      <th>2</th>\n",
              "      <td>3</td>\n",
              "      <td>I code primarily as a hobby</td>\n",
              "      <td>Yes</td>\n",
              "      <td>NaN</td>\n",
              "      <td>15</td>\n",
              "      <td>NaN</td>\n",
              "      <td>NaN</td>\n",
              "      <td>NaN</td>\n",
              "      <td>Russian Federation</td>\n",
              "      <td>NaN</td>\n",
              "      <td>NaN</td>\n",
              "      <td>NaN</td>\n",
              "      <td>NaN</td>\n",
              "      <td>NaN</td>\n",
              "      <td>NaN</td>\n",
              "      <td>NaN</td>\n",
              "      <td>NaN</td>\n",
              "      <td>NaN</td>\n",
              "      <td>NaN</td>\n",
              "      <td>NaN</td>\n",
              "      <td>NaN</td>\n",
              "      <td>Objective-C;Python;Swift</td>\n",
              "      <td>Objective-C;Python;Swift</td>\n",
              "      <td>NaN</td>\n",
              "      <td>NaN</td>\n",
              "      <td>NaN</td>\n",
              "      <td>NaN</td>\n",
              "      <td>NaN</td>\n",
              "      <td>NaN</td>\n",
              "      <td>NaN</td>\n",
              "      <td>NaN</td>\n",
              "      <td>NaN</td>\n",
              "      <td>Once a decade</td>\n",
              "      <td>NaN</td>\n",
              "      <td>NaN</td>\n",
              "      <td>No</td>\n",
              "      <td>NaN</td>\n",
              "      <td>NaN</td>\n",
              "      <td>NaN</td>\n",
              "      <td>Stack Overflow (public Q&amp;A for anyone who codes)</td>\n",
              "      <td>NaN</td>\n",
              "      <td>Linux-based</td>\n",
              "      <td>NaN</td>\n",
              "      <td>NaN</td>\n",
              "      <td>NaN</td>\n",
              "      <td>NaN</td>\n",
              "      <td>NaN</td>\n",
              "      <td>Yes</td>\n",
              "      <td>Yes, somewhat</td>\n",
              "      <td>A few times per month or weekly</td>\n",
              "      <td>Daily or almost daily</td>\n",
              "      <td>Neither easy nor difficult</td>\n",
              "      <td>Appropriate in length</td>\n",
              "      <td>NaN</td>\n",
              "      <td>NaN</td>\n",
              "      <td>NaN</td>\n",
              "      <td>NaN</td>\n",
              "      <td>Somewhat more welcome now than last year</td>\n",
              "      <td>NaN</td>\n",
              "      <td>4</td>\n",
              "      <td>NaN</td>\n",
              "    </tr>\n",
              "  </tbody>\n",
              "</table>\n",
              "</div>"
            ],
            "text/plain": [
              "   Respondent                      MainBranch  ... YearsCode  YearsCodePro\n",
              "0           1  I am a developer by profession  ...        36            27\n",
              "1           2  I am a developer by profession  ...         7             4\n",
              "2           3     I code primarily as a hobby  ...         4           NaN\n",
              "\n",
              "[3 rows x 61 columns]"
            ]
          },
          "metadata": {
            "tags": []
          },
          "execution_count": 3
        }
      ]
    },
    {
      "cell_type": "markdown",
      "metadata": {
        "id": "pHfMxZylxrX-"
      },
      "source": [
        "Aufgaben:\n",
        "\n",
        "1.   Wie viele Personen haben an der Umfrage teilgenommen? Wie viele Fragen wurden gestellt?\n",
        "\n",
        "2.   Multiple-Choice-Fragen analysieren: Eine der allgemeinen Ja-Nein-Fragen in der Umfrage war: “Do you code as a hobby?” (Spalte: `Hobbyist`)\n",
        "  *   Wie viele Personen haben ja oder nein geantwortet?\n",
        "  * Gab es Nutzer, die diese Frage gar nicht beantworten haben? Wenn ja, wie viele?\n",
        "  * Wie verteilt sich Ja, Nein (und Leer) prozentual?\n",
        "\n",
        "3.   Multiple-Choice-Fragen plotten: Nutze die build-in Funktion `.plot(kind=bar)` um Ergebnisse darzustellen, z.B. zu den Ergebnissen der Frage zum bevorzugten Betriebssystem (`OpSys`) oder dem Studienfach (`UndergradMajor`).\n",
        "  * Erstelle ein Bar-Chart\n",
        "  * Verändere die Größe des dargestellten Charts und lege eine neue einheitliche Farbe fest.\n",
        "\n",
        "4. Filtere das Datenset auf das Land Deutschland und wiederhole die Analysen aus Aufgabe 2-3. Gibt es größere Unterschiede?\n",
        "\n",
        "5. Histogramm für numerische Fragen: Erstelle ein Histogramm (`.hist()`) zu der Anzahl Stunden, die die Befragten nach eigener Angabe durchschnittlich pro Woche arbeiten. Fallen die Outlier auf? Also Angaben, die seltsam aussehen?\n",
        "\n",
        "6. Welcher Anteil der Befragten bezeichnet sich als männlich? Besserung in Sicht? - Filtere das Datenset auf die unter-20-Jährigen und ermittle erneut den Anteil der männlichen Umfrageteilnehmer.\n",
        "\n",
        "7. Zusatz: Multi-Answer-Fragen analysieren: In einigen Fragen kann der Befragte mehrere Antworten auswählen, z.B. mit welchen Programmiersprachen die Person schon gearbeitet hat. Finde heraus, wie viel Prozent der Befragten schon einmal mit Python gearbeitet hat.\n",
        "\n",
        "  ```\n",
        "  df[\"LanguageWorkedWith\"].head()\n",
        "  ```\n",
        "\n",
        "  ```\n",
        "  0                HTML/CSS;Java;JavaScript;Python\n",
        "  1                            C++;HTML/CSS;Python\n",
        "  2                                       HTML/CSS\n",
        "  3                            C;C++;C#;Python;SQL\n",
        "  4    C++;HTML/CSS;Java;JavaScript;Python;SQL;VBA\n",
        "  Name: LanguageWorkedWith, dtype: object\n",
        "  ```\n",
        "\n",
        "\n",
        "\n",
        "\n",
        "\n",
        "  "
      ]
    },
    {
      "cell_type": "markdown",
      "metadata": {
        "id": "0Zk4PIoDz-L_"
      },
      "source": [
        "## Lösung Level 1.1 Temperatur Umwandlet\n",
        "\n"
      ]
    },
    {
      "cell_type": "code",
      "metadata": {
        "colab": {
          "base_uri": "https://localhost:8080/"
        },
        "id": "i4mKmCXQ0Mar",
        "outputId": "35f0ed8e-3081-4efc-b3f1-b4e2698c54bd"
      },
      "source": [
        "def read_temp(unit: str) -> float:\n",
        "    input_temp = input(f\"Temperatur in {unit}: \")\n",
        "    try:\n",
        "        return float(input_temp)\n",
        "    except ValueError:\n",
        "        raise ValueError(f\"Die Temperatur {input_temp} ist keine gültige Fließkommmazahl.\")\n",
        "\n",
        "def print_temp(unit: str, value: float):\n",
        "    print(f\"sind {value} {unit}.\")\n",
        "\n",
        "def convert_to_celsius(unit: str, value: float) -> float:\n",
        "    if unit == \"°F\":\n",
        "        return 5/9 * (value - 32)\n",
        "    return value - 273.15\n",
        "\n",
        "\n",
        "def convert_from_celsius(unit: str, value: float) -> float:\n",
        "    if unit == \"°F\":\n",
        "        return (9/5 * value) + 32\n",
        "    return value + 273.15\n",
        "\n",
        "def check_valid_temp(value_in_celsius: float):\n",
        "    if value_in_celsius < -273.15:\n",
        "        raise ValueError(\"Die eingegebene Temperatur ist kleiner als der absolute Nullpunkt.\")\n",
        "\n",
        "def convert_temperature():\n",
        "    '''\n",
        "    Due to the heavy usage of functions the code should be self explaining.\n",
        "    '''\n",
        "    mode = input('''(1) Umrechnung von °C nach K\n",
        "(2) Umrechnung von °C nach °F\n",
        "(3) Umrechnung von K nach °C\n",
        "(4) Umrechnung von K nach °F\n",
        "(5) Umrechnung von °F nach °C\n",
        "(6) Umrechnung von °F nach K\n",
        "''')\n",
        "    if mode in (\"1\", \"2\"):\n",
        "        celsius = read_temp(\"°C\")\n",
        "    elif mode in (\"3\", \"4\"):\n",
        "        kelvin = read_temp(\"K\")\n",
        "        celsius = convert_to_celsius(\"K\", kelvin)\n",
        "    elif mode in (\"5\", \"6\"):\n",
        "        fahrenheit = read_temp(\"°F\")\n",
        "        celsius = convert_to_celsius(\"°F\", fahrenheit)\n",
        "    else:\n",
        "        raise ValueError(\"Es wurde kein gültiger Modus gewählt.\")\n",
        "    check_valid_temp(celsius)\n",
        "    if mode in (\"1\", \"6\"):\n",
        "        print_temp(\"K\", convert_from_celsius(\"K\", celsius))\n",
        "    elif mode in (\"2\", \"4\"):\n",
        "        print_temp(\"°F\", convert_from_celsius(\"°F\", celsius))\n",
        "    elif mode in (\"3\", \"5\"):\n",
        "        print_temp(\"°C\", celsius)\n",
        "\n",
        "convert_temperature()"
      ],
      "execution_count": null,
      "outputs": [
        {
          "output_type": "stream",
          "text": [
            "(1) Umrechnung von °C nach K\n",
            "(2) Umrechnung von °C nach °F\n",
            "(3) Umrechnung von K nach °C\n",
            "(4) Umrechnung von K nach °F\n",
            "(5) Umrechnung von °F nach °C\n",
            "(6) Umrechnung von °F nach K\n",
            "1\n",
            "Temperatur in °C: 23\n",
            "sind 296.15 K.\n"
          ],
          "name": "stdout"
        }
      ]
    },
    {
      "cell_type": "markdown",
      "metadata": {
        "id": "ObefjBK40mYu"
      },
      "source": [
        "## Lösung Level 1.2 Caesar-Verschlüsselung"
      ]
    },
    {
      "cell_type": "code",
      "metadata": {
        "colab": {
          "base_uri": "https://localhost:8080/"
        },
        "id": "J8ojXqR50rH-",
        "outputId": "afe4d5dc-488f-42ca-e8e9-9830cb2ff608"
      },
      "source": [
        "def encrypt(clear_text: str, shift: int):\n",
        "    result = \"\"\n",
        "    # transverse the plain text\n",
        "    for i in range(len(clear_text)):\n",
        "        char = clear_text[i]\n",
        "        # Encrypt uppercase characters in plain text\n",
        "\n",
        "        if (char.isupper()):\n",
        "            result += chr((ord(char) + shift - 65) % 26 + 65)\n",
        "        # Encrypt lowercase characters in plain text\n",
        "        elif char.isalpha():\n",
        "            result += chr((ord(char) + shift - 97) % 26 + 97)\n",
        "        # don't change every other character\n",
        "        else:\n",
        "            result += char\n",
        "    return result\n",
        "\n",
        "print(encrypt(\"Hello World!\", 6))\n",
        "\n",
        "def decrypt(encrypted_text: str, shift: int):\n",
        "    # just reverse the shift\n",
        "    return encrypt(encrypted_text, -shift)\n",
        "\n",
        "print(decrypt(\"Nkrru Cuxrj!\", 6))"
      ],
      "execution_count": null,
      "outputs": [
        {
          "output_type": "stream",
          "text": [
            "Nkrru Cuxrj!\n",
            "Hello World!\n"
          ],
          "name": "stdout"
        }
      ]
    },
    {
      "cell_type": "markdown",
      "metadata": {
        "id": "lQLgEDy6zujo"
      },
      "source": [
        "## Lösung Level 2 - Geometrische Figuren"
      ]
    },
    {
      "cell_type": "code",
      "metadata": {
        "colab": {
          "base_uri": "https://localhost:8080/"
        },
        "id": "7kMPrvK9z0mH",
        "outputId": "5dec41ce-2506-4cc1-c22f-715337980981"
      },
      "source": [
        "def draw_triangle(height: int):\n",
        "    for i in range(1, height):\n",
        "        # distance to the first \"/\" is getting less with every row, distance between \"/\" and \"\\\" is increasing with every row\n",
        "        print(f\"{(height - i) * ' '}/{(i - 1) * 2 * ' '}\\\\\")\n",
        "    # last line is special\n",
        "    print(f\"/{(height - 1) * 2 * '_'}\\\\\")\n",
        "\n",
        "def draw_square(height: int):\n",
        "    # to mimic a good square double the height, otherwise it is more of a rectangle\n",
        "    width = height * 2\n",
        "    print(f\"|{width * '‾'}|\")\n",
        "    for i in range(height - 2):\n",
        "        print(f\"|{width * ' '}|\")\n",
        "    print(f\"|{width * '_'}|\")\n",
        "    \n",
        "def draw_rhombus(height: int):\n",
        "    '''\n",
        "    This one is a bit hacky. The top and bottom half are basically half of a triangle.\n",
        "    If the height is an odd number, we must draw a middle line with ⟨ and ⟩. This must be accounted\n",
        "    in the other lines as well with a gap of \" \". We use here the little trick that \" \" is a truthy\n",
        "    value, but \"\" is a falsy value.\n",
        "    '''\n",
        "    \n",
        "    half_height = int(height / 2)\n",
        "    middle_line = \"\"\n",
        "    if height % 2 == 1:\n",
        "        middle_line = \" \"\n",
        "    # top half\n",
        "    for row in range(half_height):\n",
        "        print(f\"{middle_line}{(half_height - row -1) * ' '}/{row * 2 * ' '}\\\\\")\n",
        "    if middle_line:\n",
        "        print(f\"⟨{half_height * 2 * ' '}⟩\")\n",
        "    # bottom half\n",
        "    for row in range(half_height):\n",
        "        print(f\"{middle_line}{row * ' '}\\\\{(half_height - row -1) * 2 * ' '}/\")\n",
        "\n",
        "\n",
        "def draw_figure(figure: str, height: int):\n",
        "    if height < 2:\n",
        "        raise ValueError(\"The height of the figure must be at least 2.\")\n",
        "    \n",
        "    \n",
        "    if figure == \"triangle\":\n",
        "        draw_triangle(height)\n",
        "    elif figure == \"square\":\n",
        "        draw_square(height)\n",
        "    elif figure == \"rhombus\":\n",
        "        draw_rhombus(height)\n",
        "    else:\n",
        "        raise ValueError(f\"Figure {figure} isn't known to this function\")\n",
        "    \n",
        "draw_figure(\"rhombus\", 5)\n",
        "draw_figure(\"square\", 3)\n",
        "draw_figure(\"triangle\", 4)\n"
      ],
      "execution_count": null,
      "outputs": [
        {
          "output_type": "stream",
          "text": [
            "  /\\\n",
            " /  \\\n",
            "⟨    ⟩\n",
            " \\  /\n",
            "  \\/\n",
            "|‾‾‾‾‾‾|\n",
            "|      |\n",
            "|______|\n",
            "   /\\\n",
            "  /  \\\n",
            " /    \\\n",
            "/______\\\n"
          ],
          "name": "stdout"
        }
      ]
    },
    {
      "cell_type": "markdown",
      "metadata": {
        "id": "9uzIMdsR03wD"
      },
      "source": [
        "## Lösung Level 3 - StackOverflow Umfrage"
      ]
    },
    {
      "cell_type": "code",
      "metadata": {
        "colab": {
          "base_uri": "https://localhost:8080/"
        },
        "id": "IStaD3_qbvlZ",
        "outputId": "2820e820-f64c-40a6-ab4f-838fe297561d"
      },
      "source": [
        "# Wie viele Personen haben an der Umfrage teilgenommen? Wie viele Fragen wurden gestellt?\n",
        "\n",
        "print(\"Anzahl Rückläufer:\", df.shape[0])\n",
        "print(\"Anzahl Fragen/Ergebnisspalten:\", df.shape[1] - 1)"
      ],
      "execution_count": null,
      "outputs": [
        {
          "output_type": "stream",
          "text": [
            "Anzahl Rückläufer: 6222\n",
            "Anzahl Fragen/Ergebnisspalten: 60\n"
          ],
          "name": "stdout"
        }
      ]
    },
    {
      "cell_type": "code",
      "metadata": {
        "colab": {
          "base_uri": "https://localhost:8080/"
        },
        "id": "Gdhv8AbjYtti",
        "outputId": "5d4e159c-9e55-45ac-8f72-b70f317796b6"
      },
      "source": [
        "# Eine der allgemeinen Ja-Nein-Fragen in der Umfrage war: “Do you code as a hobby?” (Spalte: Hobbyist)\n",
        "# Wie viele Personen haben ja oder nein geantwortet?\n",
        "df.Hobbyist.value_counts()"
      ],
      "execution_count": null,
      "outputs": [
        {
          "output_type": "execute_result",
          "data": {
            "text/plain": [
              "Yes    4961\n",
              "No     1261\n",
              "Name: Hobbyist, dtype: int64"
            ]
          },
          "metadata": {
            "tags": []
          },
          "execution_count": 13
        }
      ]
    },
    {
      "cell_type": "code",
      "metadata": {
        "colab": {
          "base_uri": "https://localhost:8080/"
        },
        "id": "z-a6tCsbYwSS",
        "outputId": "31f1383b-7977-44b1-99d1-5288bd204498"
      },
      "source": [
        "# Gab es Nutzer, die diese Frage gar nicht beantworten haben? Wenn ja, wie viele?\n",
        "df.Hobbyist.isnull().sum()"
      ],
      "execution_count": null,
      "outputs": [
        {
          "output_type": "execute_result",
          "data": {
            "text/plain": [
              "0"
            ]
          },
          "metadata": {
            "tags": []
          },
          "execution_count": 14
        }
      ]
    },
    {
      "cell_type": "code",
      "metadata": {
        "colab": {
          "base_uri": "https://localhost:8080/"
        },
        "id": "YIEJ0RbqZCr0",
        "outputId": "53ca5f42-a12e-4388-d7e3-5394c41aeeac"
      },
      "source": [
        "# Wie verteilt sich Ja, Nein (und Leer) prozentual?\n",
        "df.Hobbyist.value_counts(normalize=True)"
      ],
      "execution_count": null,
      "outputs": [
        {
          "output_type": "execute_result",
          "data": {
            "text/plain": [
              "Yes    0.797332\n",
              "No     0.202668\n",
              "Name: Hobbyist, dtype: float64"
            ]
          },
          "metadata": {
            "tags": []
          },
          "execution_count": 15
        }
      ]
    },
    {
      "cell_type": "code",
      "metadata": {
        "colab": {
          "base_uri": "https://localhost:8080/",
          "height": 333
        },
        "id": "_bu6ZHmtZNsh",
        "outputId": "2e077f65-12d3-4199-eec0-c3b4af7345b8"
      },
      "source": [
        "# Multiple-Choice-Fragen plotten: Nutze die build-in Funktion .plot(kind=bar) um Ergebnisse darzustellen,\n",
        "# z.B. zu den Ergebnissen der Frage zum bevorzugten Betriebssystem (OpSys) oder dem Studienfach (UndergradMajor).\n",
        "\n",
        "df.OpSys.value_counts().plot(kind=\"bar\")"
      ],
      "execution_count": null,
      "outputs": [
        {
          "output_type": "execute_result",
          "data": {
            "text/plain": [
              "<matplotlib.axes._subplots.AxesSubplot at 0x7f6df587ee10>"
            ]
          },
          "metadata": {
            "tags": []
          },
          "execution_count": 17
        },
        {
          "output_type": "display_data",
          "data": {
            "image/png": "[encoded data removed]",
            "text/plain": [
              "<Figure size 432x288 with 1 Axes>"
            ]
          },
          "metadata": {
            "tags": [],
            "needs_background": "light"
          }
        }
      ]
    },
    {
      "cell_type": "code",
      "metadata": {
        "colab": {
          "base_uri": "https://localhost:8080/",
          "height": 497
        },
        "id": "89xgm37qZdCr",
        "outputId": "dd27944e-e8d4-4643-a289-c52f4c3dda15"
      },
      "source": [
        "# Verändere die Größe des dargestellten Charts und lege eine neue einheitliche Farbe fest.\n",
        "\n",
        "df.OpSys.value_counts().plot(kind=\"bar\", figsize=(5,7), color=\"green\")\n",
        "# Hint: You can also do sth. like this: color=[\"green\", \"blue\", \"red\", \"yellow\"]"
      ],
      "execution_count": null,
      "outputs": [
        {
          "output_type": "execute_result",
          "data": {
            "text/plain": [
              "<matplotlib.axes._subplots.AxesSubplot at 0x7f6df590fb50>"
            ]
          },
          "metadata": {
            "tags": []
          },
          "execution_count": 30
        },
        {
          "output_type": "display_data",
          "data": {
            "image/png": "[encoded data removed]",
            "text/plain": [
              "<Figure size 360x504 with 1 Axes>"
            ]
          },
          "metadata": {
            "tags": [],
            "needs_background": "light"
          }
        }
      ]
    },
    {
      "cell_type": "code",
      "metadata": {
        "id": "1No9Sg9laUiB"
      },
      "source": [
        "# Filtere das Datenset auf das Land Deutschland und wiederhole die Analysen aus Aufgabe 2-3. Gibt es größere Unterschiede?\n",
        "\n",
        "df_ger = df.query(\"Country == 'Germany'\")"
      ],
      "execution_count": null,
      "outputs": []
    },
    {
      "cell_type": "code",
      "metadata": {
        "colab": {
          "base_uri": "https://localhost:8080/"
        },
        "id": "mGNWtCyXamIZ",
        "outputId": "5cc83bc3-1ad1-40cf-9e9f-cc1737b80168"
      },
      "source": [
        "df_ger.Hobbyist.value_counts(normalize=True)\n",
        "# Unterschied: Ja-Anteil an Hobby-Codern ist ein gutes Stück höher"
      ],
      "execution_count": null,
      "outputs": [
        {
          "output_type": "execute_result",
          "data": {
            "text/plain": [
              "Yes    0.887324\n",
              "No     0.112676\n",
              "Name: Hobbyist, dtype: float64"
            ]
          },
          "metadata": {
            "tags": []
          },
          "execution_count": 33
        }
      ]
    },
    {
      "cell_type": "code",
      "metadata": {
        "id": "pTgbZNdlbfd4"
      },
      "source": [
        "from matplotlib import pyplot as plt"
      ],
      "execution_count": null,
      "outputs": []
    },
    {
      "cell_type": "code",
      "metadata": {
        "colab": {
          "base_uri": "https://localhost:8080/",
          "height": 316
        },
        "id": "hj93h26WaxvA",
        "outputId": "1a36900d-ebe0-4f7c-a1c2-29b528c5119a"
      },
      "source": [
        "df.OpSys.value_counts(normalize=True).plot(kind=\"bar\", color=\"blue\", alpha=0.5, label=\"World\")\n",
        "df_ger.OpSys.value_counts(normalize=True).plot(kind=\"bar\", color=\"red\", alpha=0.5, label=\"Germany\")\n",
        "plt.legend()\n",
        "plt.show()\n",
        "# Unterschied: Anteil an Linux-based OS ist in DE etwas häher als ansonsten in der Welt"
      ],
      "execution_count": null,
      "outputs": [
        {
          "output_type": "display_data",
          "data": {
            "image/png": "[encoded data removed]",
            "text/plain": [
              "<Figure size 432x288 with 1 Axes>"
            ]
          },
          "metadata": {
            "tags": [],
            "needs_background": "light"
          }
        }
      ]
    },
    {
      "cell_type": "code",
      "metadata": {
        "colab": {
          "base_uri": "https://localhost:8080/",
          "height": 283
        },
        "id": "Tq0UPmGucf7-",
        "outputId": "f3e2613a-e86f-4900-f061-91e420f51979"
      },
      "source": [
        "# Histogramm für numerische Fragen: Erstelle ein Histogramm (.hist()) zu der Anzahl Stunden, die die Befragten nach eigener Angabe durchschnittlich pro Woche arbeiten.\n",
        "df[\"WorkWeekHrs\"].hist(bins=100)"
      ],
      "execution_count": null,
      "outputs": [
        {
          "output_type": "execute_result",
          "data": {
            "text/plain": [
              "<matplotlib.axes._subplots.AxesSubplot at 0x7f6df439b890>"
            ]
          },
          "metadata": {
            "tags": []
          },
          "execution_count": 49
        },
        {
          "output_type": "display_data",
          "data": {
            "image/png": "[encoded data removed]",
            "text/plain": [
              "<Figure size 432x288 with 1 Axes>"
            ]
          },
          "metadata": {
            "tags": [],
            "needs_background": "light"
          }
        }
      ]
    },
    {
      "cell_type": "code",
      "metadata": {
        "colab": {
          "base_uri": "https://localhost:8080/"
        },
        "id": "dlC4oAPxckNm",
        "outputId": "84411f7c-76c7-4cf7-a609-917cfdb39427"
      },
      "source": [
        "# Fallen die Outlier auf? Also Angaben, die seltsam aussehen?\n",
        "print(\"Max Work hours per week:\", df[\"WorkWeekHrs\"].max())\n",
        "print(\"Max Work hours per day ?!:\", df[\"WorkWeekHrs\"].max() / 7)"
      ],
      "execution_count": null,
      "outputs": [
        {
          "output_type": "stream",
          "text": [
            "Max Work hours per week: 375.0\n",
            "Max Work hours per day ?!: 53.57142857142857\n"
          ],
          "name": "stdout"
        }
      ]
    },
    {
      "cell_type": "code",
      "metadata": {
        "colab": {
          "base_uri": "https://localhost:8080/"
        },
        "id": "8JM-CZuWdW6V",
        "outputId": "5e2ee3de-f47d-48db-f29e-b7eb11e30631"
      },
      "source": [
        "# Work hours cannot be higher than 24 hours a day and at least 4 hours of sleep ;-)\n",
        "\n",
        "print(\"Very strange answers: \", sum(df[\"WorkWeekHrs\"] > 20*7))"
      ],
      "execution_count": null,
      "outputs": [
        {
          "output_type": "stream",
          "text": [
            "Very strange answers:  5\n"
          ],
          "name": "stdout"
        }
      ]
    },
    {
      "cell_type": "code",
      "metadata": {
        "id": "yTtCmB7FlDvA",
        "colab": {
          "base_uri": "https://localhost:8080/"
        },
        "outputId": "1c2fd2ac-dd62-493a-a290-2ce3c4348180"
      },
      "source": [
        "# Welcher Anteil der Befragten bezeichnet sich als männlich?\n",
        "print(\"Overall Man ratio:\", (df.Gender == \"Man\").sum() / df.Gender.count())"
      ],
      "execution_count": null,
      "outputs": [
        {
          "output_type": "stream",
          "text": [
            "Overall Man ratio: 0.9256756756756757\n"
          ],
          "name": "stdout"
        }
      ]
    },
    {
      "cell_type": "code",
      "metadata": {
        "colab": {
          "base_uri": "https://localhost:8080/"
        },
        "id": "Oj5v432lhlya",
        "outputId": "06891f81-a68d-404c-bc87-eb84fbf62561"
      },
      "source": [
        "#Besserung in Sicht? - Filtere das Datenset auf die unter-20-Jährigen und ermittle erneut den Anteil der männlichen Umfrageteilnehmer.\n",
        "print(\"Young People - Man ratio:\", (df.query(\"Age < 20\").Gender == \"Man\").sum() / df.query(\"Age < 20\").Gender.count())"
      ],
      "execution_count": null,
      "outputs": [
        {
          "output_type": "stream",
          "text": [
            "Young People - Man ratio: 0.9175627240143369\n"
          ],
          "name": "stdout"
        }
      ]
    },
    {
      "cell_type": "code",
      "metadata": {
        "colab": {
          "base_uri": "https://localhost:8080/"
        },
        "id": "wTbJeP7XYckA",
        "outputId": "74aeefcf-1107-43f3-f3e8-c73b2d954aad"
      },
      "source": [
        "# Zusatz: Multi-Answer-Fragen analysieren: Finde heraus, wie viel Prozent der Befragten schon einmal mit Python gearbeitet hat.\n",
        "df[\"LanguageWorkedWith\"].str.contains(\"Python\").fillna(False).mean()"
      ],
      "execution_count": null,
      "outputs": [
        {
          "output_type": "execute_result",
          "data": {
            "text/plain": [
              "0.45098039215686275"
            ]
          },
          "metadata": {
            "tags": []
          },
          "execution_count": 79
        }
      ]
    },
    {
      "cell_type": "code",
      "metadata": {
        "id": "9eG2rxHl08tE"
      },
      "source": [
        ""
      ],
      "execution_count": null,
      "outputs": []
    },
    {
      "cell_type": "markdown",
      "metadata": {
        "id": "8sPwY7sLDg1n"
      },
      "source": [
        "# Aufgaben bis 25. Mai 2021"
      ]
    },
    {
      "cell_type": "markdown",
      "metadata": {
        "id": "fdNjruW3dcAm"
      },
      "source": [
        "## Level 1 - Basiswissen auffrischen\n",
        "\n",
        "2 kompaktere Aufgaben um die Grundlagen aufzupolieren."
      ]
    },
    {
      "cell_type": "markdown",
      "metadata": {
        "id": "wKVJXgFqc4vS"
      },
      "source": [
        "### 1.1 - Strings und Bedingungen\n",
        "Baue eine Funktion, die die Anzahl von Sekunden in Stunden, Minuten und Sekunden umrechnet und dann den folgenden Satz ausgibt:\n",
        "\n",
        "\"Das sind XX Stunden, XX Minuten und XX Sekunden.\"\n",
        "\n",
        "**Beispiel**:\n",
        "```\n",
        ">>> seconds_to_text(3600)\n",
        "\"Das sind 1 Stunden, 0 Minuten und 0 Sekunden.\"\n",
        "```\n",
        "\n",
        "**Bonusaufgabe**: \n",
        "Lasse alle unnötigen Satzteile weg und verwende Singular oder Plural, ja nach Notwendigkeit:\n",
        "\n",
        "\n",
        "```\n",
        ">>> seconds_to_text(3600)\n",
        "\"Das ist 1 Stunde.\"\n",
        "\n",
        ">>> seconds_to_text(3602)\n",
        "\"Das ist 1 Stunde und 2 Sekunden.\"\n",
        "...\n",
        "```\n",
        "*Inspiriert von [Codewars](https://www.codewars.com/kata/5865cff66b5699883f0001aa)*\n",
        "\n",
        "\n",
        "\n",
        "\n"
      ]
    },
    {
      "cell_type": "markdown",
      "metadata": {
        "id": "much-LSBOeSX"
      },
      "source": [
        "### 1.2 - Sortieren\n",
        "\n",
        "Baue eine Sortierfunktion. Diese soll eine Liste entgegennehmen und diese sortiert zurückgeben. Aus offensichtlichen Gründen ist in diesem speziellen Fall die Python eingebauten Funktionen `sorted()` und `List().sort()` verboten ;-). \n",
        "\n",
        "**Beispiel**:\n",
        "```\n",
        ">>> sortiere([10, 5, 8, 2, 99])\n",
        "[2, 5, 8, 10, 99]\n",
        "```\n",
        "**Hinweis**: Programmierinnen kennen verschiedenste Sortierverfahren. Sucht euch etwas aus, dass gut zu implementieren ist. Es muss nicht das schnellste Verfahren sein. Als kleine Inspiration eignet sich diese kleine [Videoserie](https://studyflix.de/informatik/sortieralgorithmen-1337), der passende [Wikipediaartikel](https://de.wikipedia.org/wiki/Sortierverfahren) geht das Thema wesentlich wissenschaftlicher an. Tauscht euche gerne bei der Bearbeitung via Slack miteinander aus.\n",
        "\n",
        "**Bonusaufgabe**: Funktioniert deine Funktion auch für andere iterierbare Datentypen, wie z.B. Strings? Kann dein Sortieralgorithmus mit doppelten Werten umgehen?\n",
        "\n",
        "```\n",
        ">>> sortiere(\"lustiger String\")\n",
        "[' ', 'S', 'e', 'g', 'g', 'i', 'i', 'l', 'n', 'r', 'r', 's', 't', 't', 'u']\n",
        "```\n",
        "\n",
        "\n",
        "\n"
      ]
    },
    {
      "cell_type": "markdown",
      "metadata": {
        "id": "jiztz3vND_lm"
      },
      "source": [
        "## Level 2 - Taschenrechner\n",
        "\n",
        "Erstelle einen Taschenrechner. Er soll genau so funktionieren wie das Ding zu Schulzeiten. Gib ihm einen String als Rechenaufgabe und der Taschenrechner gibt das Ergebnis zurück. \n",
        "\n",
        "```\n",
        ">>> start_calculator()\n",
        "input: 3+5\n",
        "output: 8\n",
        "...\n",
        "(beendet werden kann das Ganze mit Strg+C)\n",
        "```\n",
        "Die Grundrechenarten sollten funktionieren. Es wäre auch cool, dass Eingaben die nicht verarbeitet werden können dem Nutzer als Fehler zurückgemeldet werden und der Taschenrechner weiter offen bleibt.\n",
        "\n",
        "**Hinweis**: Frau könnte es sich hier sehr leicht machen und das Ganze mit der Funktion [`eval()`](https://realpython.com/python-eval-function/) lösen. Wenn ihr das tut müsst ihr euch aber auch gegen die Eingabe von beliebigen Python-Code schützen. Ich würde empfehlen auf diese Funktion zu verzichten ;-).\n",
        "\n",
        "**Bonusaufgabe**: Der Taschenrechner muss natürlich nicht bei den Grundrechnenarten halt machen. Bekommt ihr gar einen Speicher für Zwischenergebnisse eingebaut?\n"
      ]
    },
    {
      "cell_type": "markdown",
      "metadata": {
        "id": "BAplUpz1D_49"
      },
      "source": [
        "## Level 3 - The Ramen Rater\n",
        "\n",
        "Es gibt wirklich verrückte Leute und damit auch lustige Datensets - diesen Monat wollen wir viel über Datenaufbereitung und über Ramen-Suppen lernen.\n",
        "\n",
        "Die Daten erhalten wir netterweise von [The Ramen Rater](https://www.theramenrater.com/about-2-2/how-i-review/). Hans beschäftigt sich intensiv mit der Bewertung der beliebten Instant Nudeln und vergibt ein Rating zwischen 0 bis 5. Dabei hat er schon 3702 verschiedene Varianten aus der ganzen Welt getestet.\n",
        "\n",
        "Leider, wie so üblich, sind die Daten in nicht ganz so optimaler Qualität und kommen in Form eines Excels - aber das ist perfekt, um Data Cleaning zu üben.\n",
        "\n",
        "Falls ihr die library namens `pandas` noch nicht kennt, dann könnt ihr in die erste Hälfte [in diesen Kursunterlagen](https://colab.research.google.com/drive/1lVzXqnd1_0ECXcYMfDqMRcUdDiwaf_2C?usp=sharing) mal reinschauen oder einfach Schritt für Schritt mit dem Internet und eurer Lieblingssuchmaschine lernen.\n",
        "\n",
        "Aufgaben:\n",
        "\n",
        "1) Lade die Daten. Mache dich mit den Spalten vertraut\n",
        "\n",
        "2) Erste Analyse\n",
        "  * Wie viele/Welche unterschiedlichen Marken (brands) gibt es in den Reviews?\n",
        "  * Was sind die Top 5 Länder mit den meisten Ramen Reviews (Zeilen)? (`.value_counts()`)\n",
        "  * Welchen prozentualen Anteil haben \"Packs\", \"Cups\" and \"Bowls\" (Style) jeweils in den Reviews?\n",
        "\n",
        "3) Data Cleaning\n",
        "  * Lösche die letzte leere Spalte\n",
        "  * Mache dich mit den Werten in \"Stars\" vertraut\n",
        "  * Wandle die Werte in \"Stars\" in float um. Tipp: `astype` und nutze den Parameter `error`.\n",
        "  * Lösche alle Zeilen mit leeren Werten in Stars. (`dropna`)\n",
        "  * Prüfe auf Duplikate (die 4 Text-Spalten sind der Index exkl. Review Id). Falls es Duplikate in den Reviews gibt, nimm dafür den Mittelwert der \"Stars\".\n",
        "\n",
        "4) Zweite Analyse\n",
        "* Was sind die Top 10 Ramen\n",
        "* Was sind die Top 3 Länder, wenn man die Bewertungen je Land mittelt.\n",
        "* Füge eine Spalte hinzu, dass das volle Ranking der Ramen Nudeln enthält.\n",
        "* ... (Kreativ sein) \n",
        "\n",
        "5) Zusatz: Erstelle eine Wordcloud auf Basis der Spalte \"Variety\"\n"
      ]
    },
    {
      "cell_type": "code",
      "metadata": {
        "id": "te-fJkVigKRC"
      },
      "source": [
        "import pandas as pd\n",
        "\n",
        "df_ramen = pd.read_excel(\"https://www.theramenrater.com/wp-content/uploads/2021/01/The-Big-List-20210117.xlsx\")"
      ],
      "execution_count": null,
      "outputs": []
    },
    {
      "cell_type": "markdown",
      "metadata": {
        "id": "uZHHj6vDA7fP"
      },
      "source": [
        "## Lösungen Level 3 - Ramen Rater"
      ]
    },
    {
      "cell_type": "code",
      "metadata": {
        "id": "27IUtEjGhnvM"
      },
      "source": [
        "import pandas as pd\n",
        "\n",
        "# Load data\n",
        "df_ramen = pd.read_excel(\"https://www.theramenrater.com/wp-content/uploads/2021/01/The-Big-List-20210117.xlsx\")"
      ],
      "execution_count": null,
      "outputs": []
    },
    {
      "cell_type": "markdown",
      "metadata": {
        "id": "CbMWxRH9CEin"
      },
      "source": [
        "2. First analysis"
      ]
    },
    {
      "cell_type": "code",
      "metadata": {
        "id": "J7BoQrLL9i1V",
        "colab": {
          "base_uri": "https://localhost:8080/"
        },
        "outputId": "19fac069-c9e9-4904-a85c-4b3908befd92"
      },
      "source": [
        "# Count brands of ramen soup\n",
        "df_ramen.Brand.nunique()"
      ],
      "execution_count": null,
      "outputs": [
        {
          "output_type": "execute_result",
          "data": {
            "text/plain": [
              "544"
            ]
          },
          "metadata": {
            "tags": []
          },
          "execution_count": 4
        }
      ]
    },
    {
      "cell_type": "code",
      "metadata": {
        "colab": {
          "base_uri": "https://localhost:8080/"
        },
        "id": "g7DT1hToBWZT",
        "outputId": "1d51e170-7de4-4def-c6e8-e2d3342949df"
      },
      "source": [
        "# Top 5 countries (by review count)\n",
        "df_ramen.Country.value_counts(ascending=False).head(5)"
      ],
      "execution_count": null,
      "outputs": [
        {
          "output_type": "execute_result",
          "data": {
            "text/plain": [
              "Japan            684\n",
              "United States    462\n",
              "South Korea      413\n",
              "Taiwan           372\n",
              "China            245\n",
              "Name: Country, dtype: int64"
            ]
          },
          "metadata": {
            "tags": []
          },
          "execution_count": 5
        }
      ]
    },
    {
      "cell_type": "code",
      "metadata": {
        "colab": {
          "base_uri": "https://localhost:8080/"
        },
        "id": "oxPaQYKpBo_o",
        "outputId": "bf4dfc1f-d282-41e4-eee0-24e953f36258"
      },
      "source": [
        "# Percentage of pack, bowl or cup style\n",
        "df_ramen.Style.value_counts(normalize=True).head(3)"
      ],
      "execution_count": null,
      "outputs": [
        {
          "output_type": "execute_result",
          "data": {
            "text/plain": [
              "Pack    0.565910\n",
              "Bowl    0.195030\n",
              "Cup     0.178012\n",
              "Name: Style, dtype: float64"
            ]
          },
          "metadata": {
            "tags": []
          },
          "execution_count": 7
        }
      ]
    },
    {
      "cell_type": "markdown",
      "metadata": {
        "id": "uA8Zs3Q2CKQv"
      },
      "source": [
        "3. Data Cleaning "
      ]
    },
    {
      "cell_type": "code",
      "metadata": {
        "id": "eLWrTZW2CJZ3"
      },
      "source": [
        "# Drop a column\n",
        "df_ramen.drop(columns=[\"T\"], inplace=True)"
      ],
      "execution_count": null,
      "outputs": []
    },
    {
      "cell_type": "code",
      "metadata": {
        "colab": {
          "base_uri": "https://localhost:8080/"
        },
        "id": "AhuoG80SCBzU",
        "outputId": "df2b238f-c51a-40a9-976a-78454edde93c"
      },
      "source": [
        "# most common values in stars\n",
        "df_ramen.Stars.value_counts().head()"
      ],
      "execution_count": null,
      "outputs": [
        {
          "output_type": "execute_result",
          "data": {
            "text/plain": [
              "5       667\n",
              "3.5     543\n",
              "3.75    535\n",
              "4       439\n",
              "4.5     242\n",
              "Name: Stars, dtype: int64"
            ]
          },
          "metadata": {
            "tags": []
          },
          "execution_count": 13
        }
      ]
    },
    {
      "cell_type": "code",
      "metadata": {
        "colab": {
          "base_uri": "https://localhost:8080/"
        },
        "id": "ekGi2Bv5DGo4",
        "outputId": "20fa639d-512b-433a-e1bc-9d9587383f71"
      },
      "source": [
        "# least common values in stars\n",
        "df_ramen.Stars.value_counts().tail(10)"
      ],
      "execution_count": null,
      "outputs": [
        {
          "output_type": "execute_result",
          "data": {
            "text/plain": [
              "2.85       1\n",
              "3.5/2.5    1\n",
              "0.9        1\n",
              "3.65       1\n",
              "5/2.5      1\n",
              "2.1        1\n",
              "2.125      1\n",
              "NS         1\n",
              "3.125      1\n",
              "3.7        1\n",
              "Name: Stars, dtype: int64"
            ]
          },
          "metadata": {
            "tags": []
          },
          "execution_count": 15
        }
      ]
    },
    {
      "cell_type": "code",
      "metadata": {
        "id": "54dUzvb3DQGZ"
      },
      "source": [
        "# change type and only take useful stars entries\n",
        "df_ramen[\"Stars\"] = pd.to_numeric(df_ramen[\"Stars\"], errors='coerce')"
      ],
      "execution_count": null,
      "outputs": []
    },
    {
      "cell_type": "code",
      "metadata": {
        "colab": {
          "base_uri": "https://localhost:8080/"
        },
        "id": "S0FXojgtDjoZ",
        "outputId": "5e13838d-b286-4e97-e305-1e8b14c4ba2d"
      },
      "source": [
        "# ratio of null values in stars (previous errors)\n",
        "df_ramen.Stars.isnull().mean()"
      ],
      "execution_count": null,
      "outputs": [
        {
          "output_type": "execute_result",
          "data": {
            "text/plain": [
              "0.004051863857374392"
            ]
          },
          "metadata": {
            "tags": []
          },
          "execution_count": 29
        }
      ]
    },
    {
      "cell_type": "code",
      "metadata": {
        "id": "KKzrWu4IEhxw"
      },
      "source": [
        "# drop error entries\n",
        "df_ramen.dropna(subset=[\"Stars\"], inplace=True)"
      ],
      "execution_count": null,
      "outputs": []
    },
    {
      "cell_type": "code",
      "metadata": {
        "colab": {
          "base_uri": "https://localhost:8080/"
        },
        "id": "vmnmVASrEzjp",
        "outputId": "8bcd8cd2-38c8-4ddd-db45-8800e2c55a2e"
      },
      "source": [
        "# row count of duplicate reviews\n",
        "df_ramen[[\"Brand\", \"Variety\", \"Style\", \"Country\"]].duplicated().sum()"
      ],
      "execution_count": null,
      "outputs": [
        {
          "output_type": "execute_result",
          "data": {
            "text/plain": [
              "33"
            ]
          },
          "metadata": {
            "tags": []
          },
          "execution_count": 34
        }
      ]
    },
    {
      "cell_type": "code",
      "metadata": {
        "id": "glu6MGXTFKCk"
      },
      "source": [
        "# Drop duplicate reviews\n",
        "df_ramen.drop_duplicates(subset=[\"Brand\", \"Variety\", \"Style\", \"Country\"], keep=\"last\", inplace=True)"
      ],
      "execution_count": null,
      "outputs": []
    },
    {
      "cell_type": "markdown",
      "metadata": {
        "id": "SxQkeiSZFmhs"
      },
      "source": [
        "4. Second analysis\n"
      ]
    },
    {
      "cell_type": "code",
      "metadata": {
        "colab": {
          "base_uri": "https://localhost:8080/",
          "height": 355
        },
        "id": "vljgaMxZFvKd",
        "outputId": "6a0739b9-0571-4429-ef45-de6d9a6047c3"
      },
      "source": [
        "# Top 10 Ramen by Stars\n",
        "df_ramen.sort_values(by=\"Stars\", ascending=False).head(10)"
      ],
      "execution_count": null,
      "outputs": [
        {
          "output_type": "execute_result",
          "data": {
            "text/html": [
              "<div>\n",
              "<style scoped>\n",
              "    .dataframe tbody tr th:only-of-type {\n",
              "        vertical-align: middle;\n",
              "    }\n",
              "\n",
              "    .dataframe tbody tr th {\n",
              "        vertical-align: top;\n",
              "    }\n",
              "\n",
              "    .dataframe thead th {\n",
              "        text-align: right;\n",
              "    }\n",
              "</style>\n",
              "<table border=\"1\" class=\"dataframe\">\n",
              "  <thead>\n",
              "    <tr style=\"text-align: right;\">\n",
              "      <th></th>\n",
              "      <th>Review #</th>\n",
              "      <th>Brand</th>\n",
              "      <th>Variety</th>\n",
              "      <th>Style</th>\n",
              "      <th>Country</th>\n",
              "      <th>Stars</th>\n",
              "    </tr>\n",
              "  </thead>\n",
              "  <tbody>\n",
              "    <tr>\n",
              "      <th>0</th>\n",
              "      <td>3702</td>\n",
              "      <td>Higashimaru</td>\n",
              "      <td>Seafood Sara Udon</td>\n",
              "      <td>Pack</td>\n",
              "      <td>Japan</td>\n",
              "      <td>5.0</td>\n",
              "    </tr>\n",
              "    <tr>\n",
              "      <th>994</th>\n",
              "      <td>2708</td>\n",
              "      <td>Qinsheng</td>\n",
              "      <td>Dumpling Pastry Hot &amp; Sour Noodle</td>\n",
              "      <td>Pack</td>\n",
              "      <td>China</td>\n",
              "      <td>5.0</td>\n",
              "    </tr>\n",
              "    <tr>\n",
              "      <th>954</th>\n",
              "      <td>2748</td>\n",
              "      <td>MyKuali</td>\n",
              "      <td>Penang Red Tom Yum Goong Noodle (2018 Recipe)</td>\n",
              "      <td>Pack</td>\n",
              "      <td>Malaysia</td>\n",
              "      <td>5.0</td>\n",
              "    </tr>\n",
              "    <tr>\n",
              "      <th>957</th>\n",
              "      <td>2745</td>\n",
              "      <td>Nissin</td>\n",
              "      <td>U. F. O. BIG Wasabi-Mayo Yakisoba</td>\n",
              "      <td>Tray</td>\n",
              "      <td>Japan</td>\n",
              "      <td>5.0</td>\n",
              "    </tr>\n",
              "    <tr>\n",
              "      <th>958</th>\n",
              "      <td>2744</td>\n",
              "      <td>Myojo</td>\n",
              "      <td>Charumera Non-Fried Tonkotsu Ramen</td>\n",
              "      <td>Pack</td>\n",
              "      <td>Japan</td>\n",
              "      <td>5.0</td>\n",
              "    </tr>\n",
              "    <tr>\n",
              "      <th>961</th>\n",
              "      <td>2741</td>\n",
              "      <td>MyKuali</td>\n",
              "      <td>Penang White Curry Noodle (2018 Recipe)</td>\n",
              "      <td>Pack</td>\n",
              "      <td>Malaysia</td>\n",
              "      <td>5.0</td>\n",
              "    </tr>\n",
              "    <tr>\n",
              "      <th>964</th>\n",
              "      <td>2738</td>\n",
              "      <td>Meimen</td>\n",
              "      <td>Tomato Noodles Soup</td>\n",
              "      <td>Pack</td>\n",
              "      <td>Taiwan</td>\n",
              "      <td>5.0</td>\n",
              "    </tr>\n",
              "    <tr>\n",
              "      <th>972</th>\n",
              "      <td>2730</td>\n",
              "      <td>Little Cook</td>\n",
              "      <td>Braised Beef Noodles With Tendon &amp; Meat</td>\n",
              "      <td>Bowl</td>\n",
              "      <td>Taiwan</td>\n",
              "      <td>5.0</td>\n",
              "    </tr>\n",
              "    <tr>\n",
              "      <th>2724</th>\n",
              "      <td>978</td>\n",
              "      <td>Sun Noodle</td>\n",
              "      <td>Ramen Pork Flavor</td>\n",
              "      <td>Tray</td>\n",
              "      <td>United States</td>\n",
              "      <td>5.0</td>\n",
              "    </tr>\n",
              "    <tr>\n",
              "      <th>1966</th>\n",
              "      <td>1736</td>\n",
              "      <td>Mamee</td>\n",
              "      <td>Monster Snek Mi Pedas</td>\n",
              "      <td>Pack</td>\n",
              "      <td>Malaysia</td>\n",
              "      <td>5.0</td>\n",
              "    </tr>\n",
              "  </tbody>\n",
              "</table>\n",
              "</div>"
            ],
            "text/plain": [
              "      Review #        Brand  ...        Country Stars\n",
              "0         3702  Higashimaru  ...          Japan   5.0\n",
              "994       2708     Qinsheng  ...          China   5.0\n",
              "954       2748      MyKuali  ...       Malaysia   5.0\n",
              "957       2745       Nissin  ...          Japan   5.0\n",
              "958       2744        Myojo  ...          Japan   5.0\n",
              "961       2741      MyKuali  ...       Malaysia   5.0\n",
              "964       2738       Meimen  ...         Taiwan   5.0\n",
              "972       2730  Little Cook  ...         Taiwan   5.0\n",
              "2724       978   Sun Noodle  ...  United States   5.0\n",
              "1966      1736        Mamee  ...       Malaysia   5.0\n",
              "\n",
              "[10 rows x 6 columns]"
            ]
          },
          "metadata": {
            "tags": []
          },
          "execution_count": 40
        }
      ]
    },
    {
      "cell_type": "code",
      "metadata": {
        "colab": {
          "base_uri": "https://localhost:8080/"
        },
        "id": "r_zAE_CRGEOG",
        "outputId": "b3883cfe-6e49-4544-b4e1-d7a51a5aa409"
      },
      "source": [
        "# Top 3 Countries\n",
        "df_ramen.groupby(\"Country\").Stars.mean().sort_values(ascending=False).head(3)"
      ],
      "execution_count": null,
      "outputs": [
        {
          "output_type": "execute_result",
          "data": {
            "text/plain": [
              "Country\n",
              "France      4.333333\n",
              "Cambodia    4.200000\n",
              "Malaysia    4.190686\n",
              "Name: Stars, dtype: float64"
            ]
          },
          "metadata": {
            "tags": []
          },
          "execution_count": 44
        }
      ]
    },
    {
      "cell_type": "code",
      "metadata": {
        "id": "NKncaa9eGihQ"
      },
      "source": [
        "# Add column with rank\n",
        "df_ramen[\"Rank\"] = df_ramen.Stars.rank(method=\"min\", ascending=False).astype(\"int\")"
      ],
      "execution_count": null,
      "outputs": []
    },
    {
      "cell_type": "code",
      "metadata": {
        "colab": {
          "base_uri": "https://localhost:8080/",
          "height": 202
        },
        "id": "H-ZhdgMTHBRR",
        "outputId": "c8c3a04f-ecf9-41cd-d063-a686709ed70d"
      },
      "source": [
        "df_ramen.head()"
      ],
      "execution_count": null,
      "outputs": [
        {
          "output_type": "execute_result",
          "data": {
            "text/html": [
              "<div>\n",
              "<style scoped>\n",
              "    .dataframe tbody tr th:only-of-type {\n",
              "        vertical-align: middle;\n",
              "    }\n",
              "\n",
              "    .dataframe tbody tr th {\n",
              "        vertical-align: top;\n",
              "    }\n",
              "\n",
              "    .dataframe thead th {\n",
              "        text-align: right;\n",
              "    }\n",
              "</style>\n",
              "<table border=\"1\" class=\"dataframe\">\n",
              "  <thead>\n",
              "    <tr style=\"text-align: right;\">\n",
              "      <th></th>\n",
              "      <th>Review #</th>\n",
              "      <th>Brand</th>\n",
              "      <th>Variety</th>\n",
              "      <th>Style</th>\n",
              "      <th>Country</th>\n",
              "      <th>Stars</th>\n",
              "      <th>Rank</th>\n",
              "    </tr>\n",
              "  </thead>\n",
              "  <tbody>\n",
              "    <tr>\n",
              "      <th>0</th>\n",
              "      <td>3702</td>\n",
              "      <td>Higashimaru</td>\n",
              "      <td>Seafood Sara Udon</td>\n",
              "      <td>Pack</td>\n",
              "      <td>Japan</td>\n",
              "      <td>5.0</td>\n",
              "      <td>1</td>\n",
              "    </tr>\n",
              "    <tr>\n",
              "      <th>1</th>\n",
              "      <td>3701</td>\n",
              "      <td>Single Grain</td>\n",
              "      <td>Chongqing Spicy &amp; Sour Rice Noodles</td>\n",
              "      <td>Cup</td>\n",
              "      <td>China</td>\n",
              "      <td>3.5</td>\n",
              "      <td>2173</td>\n",
              "    </tr>\n",
              "    <tr>\n",
              "      <th>2</th>\n",
              "      <td>3700</td>\n",
              "      <td>Sau Tao</td>\n",
              "      <td>Seafood Flavour Sichuan Spicy Noodle</td>\n",
              "      <td>Pack</td>\n",
              "      <td>Hong Kong</td>\n",
              "      <td>5.0</td>\n",
              "      <td>1</td>\n",
              "    </tr>\n",
              "    <tr>\n",
              "      <th>3</th>\n",
              "      <td>3699</td>\n",
              "      <td>Sau Tao</td>\n",
              "      <td>Jiangnan Style Noodle - Original Flavour</td>\n",
              "      <td>Pack</td>\n",
              "      <td>Hong Kong</td>\n",
              "      <td>4.5</td>\n",
              "      <td>747</td>\n",
              "    </tr>\n",
              "    <tr>\n",
              "      <th>4</th>\n",
              "      <td>3698</td>\n",
              "      <td>Sapporo Ichiban</td>\n",
              "      <td>CupStar Shio Ramen</td>\n",
              "      <td>Cup</td>\n",
              "      <td>Japan</td>\n",
              "      <td>3.5</td>\n",
              "      <td>2173</td>\n",
              "    </tr>\n",
              "  </tbody>\n",
              "</table>\n",
              "</div>"
            ],
            "text/plain": [
              "   Review #            Brand  ... Stars  Rank\n",
              "0      3702      Higashimaru  ...   5.0     1\n",
              "1      3701     Single Grain  ...   3.5  2173\n",
              "2      3700          Sau Tao  ...   5.0     1\n",
              "3      3699          Sau Tao  ...   4.5   747\n",
              "4      3698  Sapporo Ichiban  ...   3.5  2173\n",
              "\n",
              "[5 rows x 7 columns]"
            ]
          },
          "metadata": {
            "tags": []
          },
          "execution_count": 51
        }
      ]
    },
    {
      "cell_type": "code",
      "metadata": {
        "colab": {
          "base_uri": "https://localhost:8080/",
          "height": 198
        },
        "id": "fmV_yWIuh0AI",
        "outputId": "f2419366-7b6a-4fe4-f8f7-8fc6691e3dfc"
      },
      "source": [
        "from wordcloud import WordCloud\n",
        "import matplotlib.pyplot as plt\n",
        "\n",
        "text = \" \".join(df_ramen[\"Variety\"])\n",
        "wordcloud = WordCloud(background_color=\"white\").generate(text)\n",
        "\n",
        "plt.imshow(wordcloud, interpolation=\"bilinear\")\n",
        "plt.axis(\"off\")\n",
        "plt.show()"
      ],
      "execution_count": null,
      "outputs": [
        {
          "output_type": "display_data",
          "data": {
            "image/png": "[encoded data removed]",
            "text/plain": [
              "<Figure size 432x288 with 1 Axes>"
            ]
          },
          "metadata": {
            "tags": [],
            "needs_background": "light"
          }
        }
      ]
    },
    {
      "cell_type": "markdown",
      "metadata": {
        "id": "VxTn2fFqzN-B"
      },
      "source": [
        "# Aufgaben bis zum 26. April 2021"
      ]
    },
    {
      "cell_type": "markdown",
      "metadata": {
        "id": "ySVfuup4zcIm"
      },
      "source": [
        "## Level 1 - Basiswissen auffrischen\n",
        "\n",
        "3 kleine Aufgaben inspiriert von der Webseite [pynative](https://pynative.com/python-basic-exercise-for-beginners/)"
      ]
    },
    {
      "cell_type": "markdown",
      "metadata": {
        "id": "6sm8aXkGzzCr"
      },
      "source": [
        "### 1.1 Schleifen\n",
        "\n",
        "Printe das folgende Muster:\n",
        "\n",
        "```\n",
        "1\n",
        "2 2\n",
        "3 3 3\n",
        "4 4 4 4\n",
        "5 5 5 5 5\n",
        "```\n",
        "\n",
        "Tipp: https://pynative.com/print-pattern-python-examples/\n"
      ]
    },
    {
      "cell_type": "markdown",
      "metadata": {
        "id": "hfQ6uaK01B3p"
      },
      "source": [
        "### 1.2 Bedingungen & Input\n",
        "\n",
        "Gegeben sind zwei ganzzahlige Zahlen. Berechne das Produkt und gib es aus. Aber wenn das Produkt größer als 1000 ist, dann gib stattdessen die Summe zurück.\n",
        "\n",
        "Tipp: https://pynative.com/python-input-function-get-user-input/\n",
        "\n",
        "Beispiel:\n",
        "```\n",
        "x1 = 20\n",
        "x2 = 30\n",
        "Ergebnis: 600\n",
        "```\n",
        "```\n",
        "x1 = 20\n",
        "x2 = 60\n",
        "Ergebnis: 80\n",
        "```\n"
      ]
    },
    {
      "cell_type": "code",
      "metadata": {
        "id": "S41lryjm2xIl"
      },
      "source": [
        ""
      ],
      "execution_count": null,
      "outputs": []
    },
    {
      "cell_type": "markdown",
      "metadata": {
        "id": "w0ot06L73p6k"
      },
      "source": [
        "### 1.3 Strings & Funtionen\n",
        "\n",
        "Gegeben ist ein String, z.B. \"moinworld\". Schreibe eine Funktion, die nur jeden zweiten Buchstaben ausgibt (ungerader Index).\n",
        "\n",
        "```\n",
        "apply_string_changes(\"moinworld\")\n",
        "\"onol\"\n",
        "```\n",
        "\n",
        "Tipps: Funktionen, Indexing (Start bei 0), ggf. Slicing\n",
        "\n",
        "\n"
      ]
    },
    {
      "cell_type": "code",
      "metadata": {
        "id": "Vzsg1n7q4cz3"
      },
      "source": [
        ""
      ],
      "execution_count": null,
      "outputs": []
    },
    {
      "cell_type": "markdown",
      "metadata": {
        "id": "rE1anGKc43qk"
      },
      "source": [
        "## Level 2 - Trivia Game\n",
        "\n",
        "Gestalte ein Trivia Game. Dem Spieler sollen nacheinander verschiedene Fragen gestellt werden.\n",
        "\n",
        "Beispiel für die Spielerabfrage:\n",
        "```\n",
        "Hello, welcome to trivia! Are you ready to play (yes/no): Yes\n",
        "\n",
        "What is the best programming language? Python\n",
        "Correct\n",
        "```\n",
        "\n",
        "Am Ende soll dem Spieler seine Punktzahl und die Anzahl der richtigen Fragen in % ausgegeben werden. (z.B.: 25% der Fragen waren richtig)\n",
        "\n",
        "Am Ende könnt ihr Eure Trivia Spiele untereinander austauschen und die Fragen der anderen beantworten.\n",
        "\n",
        "Tipps: input(), Listen und/oder Tupel, Bedingungen, Schleifen, Summen"
      ]
    },
    {
      "cell_type": "code",
      "metadata": {
        "id": "fsohs0WS5Pnm"
      },
      "source": [
        ""
      ],
      "execution_count": null,
      "outputs": []
    },
    {
      "cell_type": "markdown",
      "metadata": {
        "id": "E0FpIe5T60YL"
      },
      "source": [
        "## Level 3 - Datenvisualisierung\n",
        "Beschäftige Dich mit pandas DataFrames und der Visualisierung von Daten mit Python. ([Inhalte aus dem Python-Kurs Baustein 2](https://colab.research.google.com/drive/1lVzXqnd1_0ECXcYMfDqMRcUdDiwaf_2C?usp=sharing) - Lektion zu Daten visualisieren)\n",
        "\n",
        "### 3.1 Weltweite Daten\n",
        "Als Daten nutzen wir aktuelle Covid-19 Daten, die täglich aktuell vorliegen. ([Dokumentation/Quelle](https://github.com/owid/covid-19-data/tree/master/public/data))\n",
        "\n",
        "Beispiele für mögliche Analysen:\n",
        "\n",
        "* je Kontinent: welches Land testet am meisten?\n",
        "\n",
        "* Darstellung der Infektionswellen für ein Land\n",
        "\n",
        "* Darstellung des Impffortschritts verschiedener Länder\n",
        "\n",
        "  * im Zeitverlauf\n",
        "  * aktueller Stand (prozentual) als Bar-Chart\n",
        "\n",
        "Tipps: jupyter notebooks, pandas, matplotlib\n",
        "\n",
        "Beispiel-Plot:"
      ]
    },
    {
      "cell_type": "markdown",
      "metadata": {
        "id": "5suhXM5v7JK3"
      },
      "source": [
        "![New_Cases.PNG](data:image/png;base64,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)"
      ]
    },
    {
      "cell_type": "code",
      "metadata": {
        "colab": {
          "base_uri": "https://localhost:8080/",
          "height": 309
        },
        "id": "HS4yIVFk6eYq",
        "outputId": "fb085038-15c5-4e19-de66-4e90c4b03a11"
      },
      "source": [
        "import pandas as pd\n",
        "import matplotlib.pyplot as plt\n",
        "\n",
        "df_covid = pd.read_csv(\"https://covid.ourworldindata.org/data/owid-covid-data.csv\")\n",
        "df_covid.query(\"location == 'Germany'\").tail(5)"
      ],
      "execution_count": null,
      "outputs": [
        {
          "output_type": "execute_result",
          "data": {
            "text/html": [
              "<div>\n",
              "<style scoped>\n",
              "    .dataframe tbody tr th:only-of-type {\n",
              "        vertical-align: middle;\n",
              "    }\n",
              "\n",
              "    .dataframe tbody tr th {\n",
              "        vertical-align: top;\n",
              "    }\n",
              "\n",
              "    .dataframe thead th {\n",
              "        text-align: right;\n",
              "    }\n",
              "</style>\n",
              "<table border=\"1\" class=\"dataframe\">\n",
              "  <thead>\n",
              "    <tr style=\"text-align: right;\">\n",
              "      <th></th>\n",
              "      <th>iso_code</th>\n",
              "      <th>continent</th>\n",
              "      <th>location</th>\n",
              "      <th>date</th>\n",
              "      <th>total_cases</th>\n",
              "      <th>new_cases</th>\n",
              "      <th>new_cases_smoothed</th>\n",
              "      <th>total_deaths</th>\n",
              "      <th>new_deaths</th>\n",
              "      <th>new_deaths_smoothed</th>\n",
              "      <th>total_cases_per_million</th>\n",
              "      <th>new_cases_per_million</th>\n",
              "      <th>new_cases_smoothed_per_million</th>\n",
              "      <th>total_deaths_per_million</th>\n",
              "      <th>new_deaths_per_million</th>\n",
              "      <th>new_deaths_smoothed_per_million</th>\n",
              "      <th>reproduction_rate</th>\n",
              "      <th>icu_patients</th>\n",
              "      <th>icu_patients_per_million</th>\n",
              "      <th>hosp_patients</th>\n",
              "      <th>hosp_patients_per_million</th>\n",
              "      <th>weekly_icu_admissions</th>\n",
              "      <th>weekly_icu_admissions_per_million</th>\n",
              "      <th>weekly_hosp_admissions</th>\n",
              "      <th>weekly_hosp_admissions_per_million</th>\n",
              "      <th>new_tests</th>\n",
              "      <th>total_tests</th>\n",
              "      <th>total_tests_per_thousand</th>\n",
              "      <th>new_tests_per_thousand</th>\n",
              "      <th>new_tests_smoothed</th>\n",
              "      <th>new_tests_smoothed_per_thousand</th>\n",
              "      <th>positive_rate</th>\n",
              "      <th>tests_per_case</th>\n",
              "      <th>tests_units</th>\n",
              "      <th>total_vaccinations</th>\n",
              "      <th>people_vaccinated</th>\n",
              "      <th>people_fully_vaccinated</th>\n",
              "      <th>new_vaccinations</th>\n",
              "      <th>new_vaccinations_smoothed</th>\n",
              "      <th>total_vaccinations_per_hundred</th>\n",
              "      <th>people_vaccinated_per_hundred</th>\n",
              "      <th>people_fully_vaccinated_per_hundred</th>\n",
              "      <th>new_vaccinations_smoothed_per_million</th>\n",
              "      <th>stringency_index</th>\n",
              "      <th>population</th>\n",
              "      <th>population_density</th>\n",
              "      <th>median_age</th>\n",
              "      <th>aged_65_older</th>\n",
              "      <th>aged_70_older</th>\n",
              "      <th>gdp_per_capita</th>\n",
              "      <th>extreme_poverty</th>\n",
              "      <th>cardiovasc_death_rate</th>\n",
              "      <th>diabetes_prevalence</th>\n",
              "      <th>female_smokers</th>\n",
              "      <th>male_smokers</th>\n",
              "      <th>handwashing_facilities</th>\n",
              "      <th>hospital_beds_per_thousand</th>\n",
              "      <th>life_expectancy</th>\n",
              "      <th>human_development_index</th>\n",
              "    </tr>\n",
              "  </thead>\n",
              "  <tbody>\n",
              "    <tr>\n",
              "      <th>27451</th>\n",
              "      <td>DEU</td>\n",
              "      <td>Europe</td>\n",
              "      <td>Germany</td>\n",
              "      <td>2021-03-24</td>\n",
              "      <td>2722988.0</td>\n",
              "      <td>23757.0</td>\n",
              "      <td>16031.286</td>\n",
              "      <td>75484.0</td>\n",
              "      <td>229.0</td>\n",
              "      <td>205.857</td>\n",
              "      <td>32500.117</td>\n",
              "      <td>283.551</td>\n",
              "      <td>191.341</td>\n",
              "      <td>900.936</td>\n",
              "      <td>2.733</td>\n",
              "      <td>2.457</td>\n",
              "      <td>1.28</td>\n",
              "      <td>NaN</td>\n",
              "      <td>NaN</td>\n",
              "      <td>NaN</td>\n",
              "      <td>NaN</td>\n",
              "      <td>NaN</td>\n",
              "      <td>NaN</td>\n",
              "      <td>NaN</td>\n",
              "      <td>NaN</td>\n",
              "      <td>NaN</td>\n",
              "      <td>NaN</td>\n",
              "      <td>NaN</td>\n",
              "      <td>NaN</td>\n",
              "      <td>NaN</td>\n",
              "      <td>NaN</td>\n",
              "      <td>NaN</td>\n",
              "      <td>NaN</td>\n",
              "      <td>NaN</td>\n",
              "      <td>11819771.0</td>\n",
              "      <td>8213554.0</td>\n",
              "      <td>3606217.0</td>\n",
              "      <td>301086.0</td>\n",
              "      <td>238217.0</td>\n",
              "      <td>14.11</td>\n",
              "      <td>9.80</td>\n",
              "      <td>4.30</td>\n",
              "      <td>2843.0</td>\n",
              "      <td>75.0</td>\n",
              "      <td>83783945.0</td>\n",
              "      <td>237.016</td>\n",
              "      <td>46.6</td>\n",
              "      <td>21.453</td>\n",
              "      <td>15.957</td>\n",
              "      <td>45229.245</td>\n",
              "      <td>NaN</td>\n",
              "      <td>156.139</td>\n",
              "      <td>8.31</td>\n",
              "      <td>28.2</td>\n",
              "      <td>33.1</td>\n",
              "      <td>NaN</td>\n",
              "      <td>8.0</td>\n",
              "      <td>81.33</td>\n",
              "      <td>0.947</td>\n",
              "    </tr>\n",
              "    <tr>\n",
              "      <th>27452</th>\n",
              "      <td>DEU</td>\n",
              "      <td>Europe</td>\n",
              "      <td>Germany</td>\n",
              "      <td>2021-03-25</td>\n",
              "      <td>2744608.0</td>\n",
              "      <td>21620.0</td>\n",
              "      <td>15050.000</td>\n",
              "      <td>75669.0</td>\n",
              "      <td>185.0</td>\n",
              "      <td>181.000</td>\n",
              "      <td>32758.161</td>\n",
              "      <td>258.045</td>\n",
              "      <td>179.629</td>\n",
              "      <td>903.144</td>\n",
              "      <td>2.208</td>\n",
              "      <td>2.160</td>\n",
              "      <td>1.28</td>\n",
              "      <td>NaN</td>\n",
              "      <td>NaN</td>\n",
              "      <td>NaN</td>\n",
              "      <td>NaN</td>\n",
              "      <td>NaN</td>\n",
              "      <td>NaN</td>\n",
              "      <td>NaN</td>\n",
              "      <td>NaN</td>\n",
              "      <td>NaN</td>\n",
              "      <td>NaN</td>\n",
              "      <td>NaN</td>\n",
              "      <td>NaN</td>\n",
              "      <td>NaN</td>\n",
              "      <td>NaN</td>\n",
              "      <td>NaN</td>\n",
              "      <td>NaN</td>\n",
              "      <td>NaN</td>\n",
              "      <td>12123737.0</td>\n",
              "      <td>8439302.0</td>\n",
              "      <td>3684435.0</td>\n",
              "      <td>303966.0</td>\n",
              "      <td>254306.0</td>\n",
              "      <td>14.47</td>\n",
              "      <td>10.07</td>\n",
              "      <td>4.40</td>\n",
              "      <td>3035.0</td>\n",
              "      <td>75.0</td>\n",
              "      <td>83783945.0</td>\n",
              "      <td>237.016</td>\n",
              "      <td>46.6</td>\n",
              "      <td>21.453</td>\n",
              "      <td>15.957</td>\n",
              "      <td>45229.245</td>\n",
              "      <td>NaN</td>\n",
              "      <td>156.139</td>\n",
              "      <td>8.31</td>\n",
              "      <td>28.2</td>\n",
              "      <td>33.1</td>\n",
              "      <td>NaN</td>\n",
              "      <td>8.0</td>\n",
              "      <td>81.33</td>\n",
              "      <td>0.947</td>\n",
              "    </tr>\n",
              "    <tr>\n",
              "      <th>27453</th>\n",
              "      <td>DEU</td>\n",
              "      <td>Europe</td>\n",
              "      <td>Germany</td>\n",
              "      <td>2021-03-26</td>\n",
              "      <td>2765297.0</td>\n",
              "      <td>20689.0</td>\n",
              "      <td>15794.714</td>\n",
              "      <td>75828.0</td>\n",
              "      <td>159.0</td>\n",
              "      <td>174.286</td>\n",
              "      <td>33005.094</td>\n",
              "      <td>246.933</td>\n",
              "      <td>188.517</td>\n",
              "      <td>905.042</td>\n",
              "      <td>1.898</td>\n",
              "      <td>2.080</td>\n",
              "      <td>1.28</td>\n",
              "      <td>NaN</td>\n",
              "      <td>NaN</td>\n",
              "      <td>NaN</td>\n",
              "      <td>NaN</td>\n",
              "      <td>NaN</td>\n",
              "      <td>NaN</td>\n",
              "      <td>NaN</td>\n",
              "      <td>NaN</td>\n",
              "      <td>NaN</td>\n",
              "      <td>NaN</td>\n",
              "      <td>NaN</td>\n",
              "      <td>NaN</td>\n",
              "      <td>NaN</td>\n",
              "      <td>NaN</td>\n",
              "      <td>NaN</td>\n",
              "      <td>NaN</td>\n",
              "      <td>NaN</td>\n",
              "      <td>12432747.0</td>\n",
              "      <td>8662822.0</td>\n",
              "      <td>3769925.0</td>\n",
              "      <td>309010.0</td>\n",
              "      <td>264498.0</td>\n",
              "      <td>14.84</td>\n",
              "      <td>10.34</td>\n",
              "      <td>4.50</td>\n",
              "      <td>3157.0</td>\n",
              "      <td>75.0</td>\n",
              "      <td>83783945.0</td>\n",
              "      <td>237.016</td>\n",
              "      <td>46.6</td>\n",
              "      <td>21.453</td>\n",
              "      <td>15.957</td>\n",
              "      <td>45229.245</td>\n",
              "      <td>NaN</td>\n",
              "      <td>156.139</td>\n",
              "      <td>8.31</td>\n",
              "      <td>28.2</td>\n",
              "      <td>33.1</td>\n",
              "      <td>NaN</td>\n",
              "      <td>8.0</td>\n",
              "      <td>81.33</td>\n",
              "      <td>0.947</td>\n",
              "    </tr>\n",
              "    <tr>\n",
              "      <th>27454</th>\n",
              "      <td>DEU</td>\n",
              "      <td>Europe</td>\n",
              "      <td>Germany</td>\n",
              "      <td>2021-03-27</td>\n",
              "      <td>2782925.0</td>\n",
              "      <td>17628.0</td>\n",
              "      <td>16241.714</td>\n",
              "      <td>75915.0</td>\n",
              "      <td>87.0</td>\n",
              "      <td>172.714</td>\n",
              "      <td>33215.493</td>\n",
              "      <td>210.398</td>\n",
              "      <td>193.852</td>\n",
              "      <td>906.081</td>\n",
              "      <td>1.038</td>\n",
              "      <td>2.061</td>\n",
              "      <td>NaN</td>\n",
              "      <td>NaN</td>\n",
              "      <td>NaN</td>\n",
              "      <td>NaN</td>\n",
              "      <td>NaN</td>\n",
              "      <td>NaN</td>\n",
              "      <td>NaN</td>\n",
              "      <td>NaN</td>\n",
              "      <td>NaN</td>\n",
              "      <td>NaN</td>\n",
              "      <td>NaN</td>\n",
              "      <td>NaN</td>\n",
              "      <td>NaN</td>\n",
              "      <td>NaN</td>\n",
              "      <td>NaN</td>\n",
              "      <td>NaN</td>\n",
              "      <td>NaN</td>\n",
              "      <td>NaN</td>\n",
              "      <td>12705167.0</td>\n",
              "      <td>8871795.0</td>\n",
              "      <td>3833372.0</td>\n",
              "      <td>272420.0</td>\n",
              "      <td>272656.0</td>\n",
              "      <td>15.16</td>\n",
              "      <td>10.59</td>\n",
              "      <td>4.58</td>\n",
              "      <td>3254.0</td>\n",
              "      <td>75.0</td>\n",
              "      <td>83783945.0</td>\n",
              "      <td>237.016</td>\n",
              "      <td>46.6</td>\n",
              "      <td>21.453</td>\n",
              "      <td>15.957</td>\n",
              "      <td>45229.245</td>\n",
              "      <td>NaN</td>\n",
              "      <td>156.139</td>\n",
              "      <td>8.31</td>\n",
              "      <td>28.2</td>\n",
              "      <td>33.1</td>\n",
              "      <td>NaN</td>\n",
              "      <td>8.0</td>\n",
              "      <td>81.33</td>\n",
              "      <td>0.947</td>\n",
              "    </tr>\n",
              "    <tr>\n",
              "      <th>27455</th>\n",
              "      <td>DEU</td>\n",
              "      <td>Europe</td>\n",
              "      <td>Germany</td>\n",
              "      <td>2021-03-28</td>\n",
              "      <td>2784652.0</td>\n",
              "      <td>1727.0</td>\n",
              "      <td>16378.714</td>\n",
              "      <td>75959.0</td>\n",
              "      <td>44.0</td>\n",
              "      <td>171.857</td>\n",
              "      <td>33236.105</td>\n",
              "      <td>20.613</td>\n",
              "      <td>195.488</td>\n",
              "      <td>906.606</td>\n",
              "      <td>0.525</td>\n",
              "      <td>2.051</td>\n",
              "      <td>NaN</td>\n",
              "      <td>NaN</td>\n",
              "      <td>NaN</td>\n",
              "      <td>NaN</td>\n",
              "      <td>NaN</td>\n",
              "      <td>NaN</td>\n",
              "      <td>NaN</td>\n",
              "      <td>NaN</td>\n",
              "      <td>NaN</td>\n",
              "      <td>NaN</td>\n",
              "      <td>NaN</td>\n",
              "      <td>NaN</td>\n",
              "      <td>NaN</td>\n",
              "      <td>NaN</td>\n",
              "      <td>NaN</td>\n",
              "      <td>NaN</td>\n",
              "      <td>NaN</td>\n",
              "      <td>NaN</td>\n",
              "      <td>12872859.0</td>\n",
              "      <td>8994965.0</td>\n",
              "      <td>3877894.0</td>\n",
              "      <td>167692.0</td>\n",
              "      <td>272602.0</td>\n",
              "      <td>15.36</td>\n",
              "      <td>10.74</td>\n",
              "      <td>4.63</td>\n",
              "      <td>3254.0</td>\n",
              "      <td>NaN</td>\n",
              "      <td>83783945.0</td>\n",
              "      <td>237.016</td>\n",
              "      <td>46.6</td>\n",
              "      <td>21.453</td>\n",
              "      <td>15.957</td>\n",
              "      <td>45229.245</td>\n",
              "      <td>NaN</td>\n",
              "      <td>156.139</td>\n",
              "      <td>8.31</td>\n",
              "      <td>28.2</td>\n",
              "      <td>33.1</td>\n",
              "      <td>NaN</td>\n",
              "      <td>8.0</td>\n",
              "      <td>81.33</td>\n",
              "      <td>0.947</td>\n",
              "    </tr>\n",
              "  </tbody>\n",
              "</table>\n",
              "</div>"
            ],
            "text/plain": [
              "      iso_code continent  ... life_expectancy human_development_index\n",
              "27451      DEU    Europe  ...           81.33                   0.947\n",
              "27452      DEU    Europe  ...           81.33                   0.947\n",
              "27453      DEU    Europe  ...           81.33                   0.947\n",
              "27454      DEU    Europe  ...           81.33                   0.947\n",
              "27455      DEU    Europe  ...           81.33                   0.947\n",
              "\n",
              "[5 rows x 59 columns]"
            ]
          },
          "metadata": {
            "tags": []
          },
          "execution_count": 2
        }
      ]
    },
    {
      "cell_type": "markdown",
      "metadata": {
        "id": "NHFzYI303a-t"
      },
      "source": [
        "Weitere Daten zum Impffortschritt in Deutschland von https://impfdashboard.de/daten :\n",
        "\n",
        "Mögliche Analysen:\n",
        "\n",
        "* Kumulative Darstellung der Impfungen aller Impfstoffe (stacked) im Zeitverlauf\n",
        "* Wie viel Impfstoff wird zurückgehalten? Lieferungen vs. Verimpft"
      ]
    },
    {
      "cell_type": "code",
      "metadata": {
        "id": "2sgXzLTZ3ebK"
      },
      "source": [
        "df_vacc = pd.read_csv(\"https://impfdashboard.de/static/data/germany_vaccinations_timeseries_v2.tsv\", sep=\"\\t\")"
      ],
      "execution_count": null,
      "outputs": []
    },
    {
      "cell_type": "code",
      "metadata": {
        "colab": {
          "base_uri": "https://localhost:8080/",
          "height": 309
        },
        "id": "LiGafCdp3kDb",
        "outputId": "c6250d7b-935e-4755-d20d-d0857ef85193"
      },
      "source": [
        "df_vacc.tail()"
      ],
      "execution_count": null,
      "outputs": [
        {
          "output_type": "execute_result",
          "data": {
            "text/html": [
              "<div>\n",
              "<style scoped>\n",
              "    .dataframe tbody tr th:only-of-type {\n",
              "        vertical-align: middle;\n",
              "    }\n",
              "\n",
              "    .dataframe tbody tr th {\n",
              "        vertical-align: top;\n",
              "    }\n",
              "\n",
              "    .dataframe thead th {\n",
              "        text-align: right;\n",
              "    }\n",
              "</style>\n",
              "<table border=\"1\" class=\"dataframe\">\n",
              "  <thead>\n",
              "    <tr style=\"text-align: right;\">\n",
              "      <th></th>\n",
              "      <th>date</th>\n",
              "      <th>dosen_kumulativ</th>\n",
              "      <th>dosen_differenz_zum_vortag</th>\n",
              "      <th>dosen_erst_differenz_zum_vortag</th>\n",
              "      <th>dosen_zweit_differenz_zum_vortag</th>\n",
              "      <th>dosen_biontech_kumulativ</th>\n",
              "      <th>dosen_moderna_kumulativ</th>\n",
              "      <th>dosen_astrazeneca_kumulativ</th>\n",
              "      <th>personen_erst_kumulativ</th>\n",
              "      <th>personen_voll_kumulativ</th>\n",
              "      <th>impf_quote_erst</th>\n",
              "      <th>impf_quote_voll</th>\n",
              "      <th>indikation_alter_dosen</th>\n",
              "      <th>indikation_beruf_dosen</th>\n",
              "      <th>indikation_medizinisch_dosen</th>\n",
              "      <th>indikation_pflegeheim_dosen</th>\n",
              "      <th>indikation_alter_erst</th>\n",
              "      <th>indikation_beruf_erst</th>\n",
              "      <th>indikation_medizinisch_erst</th>\n",
              "      <th>indikation_pflegeheim_erst</th>\n",
              "      <th>indikation_alter_voll</th>\n",
              "      <th>indikation_beruf_voll</th>\n",
              "      <th>indikation_medizinisch_voll</th>\n",
              "      <th>indikation_pflegeheim_voll</th>\n",
              "    </tr>\n",
              "  </thead>\n",
              "  <tbody>\n",
              "    <tr>\n",
              "      <th>87</th>\n",
              "      <td>2021-03-24</td>\n",
              "      <td>11819771</td>\n",
              "      <td>301086</td>\n",
              "      <td>214579</td>\n",
              "      <td>86507</td>\n",
              "      <td>9067950</td>\n",
              "      <td>494771</td>\n",
              "      <td>2257050</td>\n",
              "      <td>8213554</td>\n",
              "      <td>3606217</td>\n",
              "      <td>0.09876</td>\n",
              "      <td>0.04336</td>\n",
              "      <td>5659726</td>\n",
              "      <td>4891877</td>\n",
              "      <td>635587</td>\n",
              "      <td>1660335</td>\n",
              "      <td>3732280</td>\n",
              "      <td>3563013</td>\n",
              "      <td>507527</td>\n",
              "      <td>938269</td>\n",
              "      <td>1927446</td>\n",
              "      <td>1328864</td>\n",
              "      <td>128060</td>\n",
              "      <td>722066</td>\n",
              "    </tr>\n",
              "    <tr>\n",
              "      <th>88</th>\n",
              "      <td>2021-03-25</td>\n",
              "      <td>12123737</td>\n",
              "      <td>303966</td>\n",
              "      <td>225748</td>\n",
              "      <td>78218</td>\n",
              "      <td>9251030</td>\n",
              "      <td>513541</td>\n",
              "      <td>2359166</td>\n",
              "      <td>8439302</td>\n",
              "      <td>3684435</td>\n",
              "      <td>0.10147</td>\n",
              "      <td>0.04430</td>\n",
              "      <td>5825443</td>\n",
              "      <td>4984253</td>\n",
              "      <td>668977</td>\n",
              "      <td>1669488</td>\n",
              "      <td>3832349</td>\n",
              "      <td>3646209</td>\n",
              "      <td>538476</td>\n",
              "      <td>943782</td>\n",
              "      <td>1993094</td>\n",
              "      <td>1338044</td>\n",
              "      <td>130501</td>\n",
              "      <td>725706</td>\n",
              "    </tr>\n",
              "    <tr>\n",
              "      <th>89</th>\n",
              "      <td>2021-03-26</td>\n",
              "      <td>12432747</td>\n",
              "      <td>309010</td>\n",
              "      <td>223520</td>\n",
              "      <td>85490</td>\n",
              "      <td>9446100</td>\n",
              "      <td>531601</td>\n",
              "      <td>2455046</td>\n",
              "      <td>8662822</td>\n",
              "      <td>3769925</td>\n",
              "      <td>0.10416</td>\n",
              "      <td>0.04533</td>\n",
              "      <td>5995060</td>\n",
              "      <td>5074785</td>\n",
              "      <td>703825</td>\n",
              "      <td>1680271</td>\n",
              "      <td>3930701</td>\n",
              "      <td>3726396</td>\n",
              "      <td>570279</td>\n",
              "      <td>950585</td>\n",
              "      <td>2064359</td>\n",
              "      <td>1348389</td>\n",
              "      <td>133546</td>\n",
              "      <td>729686</td>\n",
              "    </tr>\n",
              "    <tr>\n",
              "      <th>90</th>\n",
              "      <td>2021-03-27</td>\n",
              "      <td>12705167</td>\n",
              "      <td>272420</td>\n",
              "      <td>208973</td>\n",
              "      <td>63447</td>\n",
              "      <td>9605696</td>\n",
              "      <td>555538</td>\n",
              "      <td>2543933</td>\n",
              "      <td>8871795</td>\n",
              "      <td>3833372</td>\n",
              "      <td>0.10667</td>\n",
              "      <td>0.04609</td>\n",
              "      <td>6140612</td>\n",
              "      <td>5163096</td>\n",
              "      <td>736690</td>\n",
              "      <td>1684185</td>\n",
              "      <td>4022812</td>\n",
              "      <td>3806771</td>\n",
              "      <td>600862</td>\n",
              "      <td>952936</td>\n",
              "      <td>2117800</td>\n",
              "      <td>1356325</td>\n",
              "      <td>135828</td>\n",
              "      <td>731249</td>\n",
              "    </tr>\n",
              "    <tr>\n",
              "      <th>91</th>\n",
              "      <td>2021-03-28</td>\n",
              "      <td>12872859</td>\n",
              "      <td>167692</td>\n",
              "      <td>123170</td>\n",
              "      <td>44522</td>\n",
              "      <td>9704747</td>\n",
              "      <td>572351</td>\n",
              "      <td>2595761</td>\n",
              "      <td>8994965</td>\n",
              "      <td>3877894</td>\n",
              "      <td>0.10816</td>\n",
              "      <td>0.04663</td>\n",
              "      <td>6231327</td>\n",
              "      <td>5208309</td>\n",
              "      <td>759028</td>\n",
              "      <td>1686861</td>\n",
              "      <td>4076782</td>\n",
              "      <td>3846367</td>\n",
              "      <td>621576</td>\n",
              "      <td>954674</td>\n",
              "      <td>2154545</td>\n",
              "      <td>1361942</td>\n",
              "      <td>137452</td>\n",
              "      <td>732187</td>\n",
              "    </tr>\n",
              "  </tbody>\n",
              "</table>\n",
              "</div>"
            ],
            "text/plain": [
              "          date  ...  indikation_pflegeheim_voll\n",
              "87  2021-03-24  ...                      722066\n",
              "88  2021-03-25  ...                      725706\n",
              "89  2021-03-26  ...                      729686\n",
              "90  2021-03-27  ...                      731249\n",
              "91  2021-03-28  ...                      732187\n",
              "\n",
              "[5 rows x 24 columns]"
            ]
          },
          "metadata": {
            "tags": []
          },
          "execution_count": 8
        }
      ]
    },
    {
      "cell_type": "code",
      "metadata": {
        "id": "mXZ0eIUQ3p05"
      },
      "source": [
        "df_vacc_delivery = pd.read_csv(\"https://impfdashboard.de/static/data/germany_deliveries_timeseries_v2.tsv\", sep=\"\\t\")"
      ],
      "execution_count": null,
      "outputs": []
    },
    {
      "cell_type": "code",
      "metadata": {
        "colab": {
          "base_uri": "https://localhost:8080/",
          "height": 202
        },
        "id": "wLC2OOlv4deP",
        "outputId": "829138c0-eb91-44b8-f60e-4efc5d6c6bf0"
      },
      "source": [
        "df_vacc_delivery.tail()"
      ],
      "execution_count": null,
      "outputs": [
        {
          "output_type": "execute_result",
          "data": {
            "text/html": [
              "<div>\n",
              "<style scoped>\n",
              "    .dataframe tbody tr th:only-of-type {\n",
              "        vertical-align: middle;\n",
              "    }\n",
              "\n",
              "    .dataframe tbody tr th {\n",
              "        vertical-align: top;\n",
              "    }\n",
              "\n",
              "    .dataframe thead th {\n",
              "        text-align: right;\n",
              "    }\n",
              "</style>\n",
              "<table border=\"1\" class=\"dataframe\">\n",
              "  <thead>\n",
              "    <tr style=\"text-align: right;\">\n",
              "      <th></th>\n",
              "      <th>date</th>\n",
              "      <th>impfstoff</th>\n",
              "      <th>region</th>\n",
              "      <th>dosen</th>\n",
              "    </tr>\n",
              "  </thead>\n",
              "  <tbody>\n",
              "    <tr>\n",
              "      <th>427</th>\n",
              "      <td>2021-03-26</td>\n",
              "      <td>astra</td>\n",
              "      <td>DE-SL</td>\n",
              "      <td>2400</td>\n",
              "    </tr>\n",
              "    <tr>\n",
              "      <th>428</th>\n",
              "      <td>2021-03-26</td>\n",
              "      <td>astra</td>\n",
              "      <td>DE-SN</td>\n",
              "      <td>9600</td>\n",
              "    </tr>\n",
              "    <tr>\n",
              "      <th>429</th>\n",
              "      <td>2021-03-26</td>\n",
              "      <td>astra</td>\n",
              "      <td>DE-ST</td>\n",
              "      <td>4800</td>\n",
              "    </tr>\n",
              "    <tr>\n",
              "      <th>430</th>\n",
              "      <td>2021-03-26</td>\n",
              "      <td>astra</td>\n",
              "      <td>DE-SH</td>\n",
              "      <td>7200</td>\n",
              "    </tr>\n",
              "    <tr>\n",
              "      <th>431</th>\n",
              "      <td>2021-03-26</td>\n",
              "      <td>astra</td>\n",
              "      <td>DE-TH</td>\n",
              "      <td>4800</td>\n",
              "    </tr>\n",
              "  </tbody>\n",
              "</table>\n",
              "</div>"
            ],
            "text/plain": [
              "           date impfstoff region  dosen\n",
              "427  2021-03-26     astra  DE-SL   2400\n",
              "428  2021-03-26     astra  DE-SN   9600\n",
              "429  2021-03-26     astra  DE-ST   4800\n",
              "430  2021-03-26     astra  DE-SH   7200\n",
              "431  2021-03-26     astra  DE-TH   4800"
            ]
          },
          "metadata": {
            "tags": []
          },
          "execution_count": 11
        }
      ]
    },
    {
      "cell_type": "code",
      "metadata": {
        "id": "aHmhj5Ln4egW"
      },
      "source": [
        "df_vacc_states = pd.read_csv(\"https://impfdashboard.de/static/data/germany_vaccinations_by_state.tsv\", sep=\"\\t\")"
      ],
      "execution_count": null,
      "outputs": []
    },
    {
      "cell_type": "code",
      "metadata": {
        "colab": {
          "base_uri": "https://localhost:8080/",
          "height": 202
        },
        "id": "vToLiW1A5SqU",
        "outputId": "0bb59ee5-b7b7-45b4-8adf-6cfa0a668c69"
      },
      "source": [
        "df_vacc_states.head()"
      ],
      "execution_count": null,
      "outputs": [
        {
          "output_type": "execute_result",
          "data": {
            "text/html": [
              "<div>\n",
              "<style scoped>\n",
              "    .dataframe tbody tr th:only-of-type {\n",
              "        vertical-align: middle;\n",
              "    }\n",
              "\n",
              "    .dataframe tbody tr th {\n",
              "        vertical-align: top;\n",
              "    }\n",
              "\n",
              "    .dataframe thead th {\n",
              "        text-align: right;\n",
              "    }\n",
              "</style>\n",
              "<table border=\"1\" class=\"dataframe\">\n",
              "  <thead>\n",
              "    <tr style=\"text-align: right;\">\n",
              "      <th></th>\n",
              "      <th>code</th>\n",
              "      <th>vaccinationsTotal</th>\n",
              "      <th>peopleFirstTotal</th>\n",
              "      <th>peopleFullTotal</th>\n",
              "    </tr>\n",
              "  </thead>\n",
              "  <tbody>\n",
              "    <tr>\n",
              "      <th>0</th>\n",
              "      <td>DE-BW</td>\n",
              "      <td>1700817</td>\n",
              "      <td>1187818</td>\n",
              "      <td>512999</td>\n",
              "    </tr>\n",
              "    <tr>\n",
              "      <th>1</th>\n",
              "      <td>DE-BY</td>\n",
              "      <td>2140606</td>\n",
              "      <td>1469357</td>\n",
              "      <td>671249</td>\n",
              "    </tr>\n",
              "    <tr>\n",
              "      <th>2</th>\n",
              "      <td>DE-BE</td>\n",
              "      <td>607523</td>\n",
              "      <td>415631</td>\n",
              "      <td>191892</td>\n",
              "    </tr>\n",
              "    <tr>\n",
              "      <th>3</th>\n",
              "      <td>DE-BB</td>\n",
              "      <td>390474</td>\n",
              "      <td>296268</td>\n",
              "      <td>94206</td>\n",
              "    </tr>\n",
              "    <tr>\n",
              "      <th>4</th>\n",
              "      <td>DE-HB</td>\n",
              "      <td>118586</td>\n",
              "      <td>84750</td>\n",
              "      <td>33836</td>\n",
              "    </tr>\n",
              "  </tbody>\n",
              "</table>\n",
              "</div>"
            ],
            "text/plain": [
              "    code  vaccinationsTotal  peopleFirstTotal  peopleFullTotal\n",
              "0  DE-BW            1700817           1187818           512999\n",
              "1  DE-BY            2140606           1469357           671249\n",
              "2  DE-BE             607523            415631           191892\n",
              "3  DE-BB             390474            296268            94206\n",
              "4  DE-HB             118586             84750            33836"
            ]
          },
          "metadata": {
            "tags": []
          },
          "execution_count": 13
        }
      ]
    },
    {
      "cell_type": "markdown",
      "metadata": {
        "id": "l_7tsfqwZtkK"
      },
      "source": [
        "## Lösungen Level 1"
      ]
    },
    {
      "cell_type": "markdown",
      "metadata": {
        "id": "mGZaud1PI7ej"
      },
      "source": [
        "### 1.1 Schleifen\n",
        "\n",
        "Printe das folgende Muster:\n",
        "\n",
        "```\n",
        "1\n",
        "2 2\n",
        "3 3 3\n",
        "4 4 4 4\n",
        "5 5 5 5 5\n",
        "```\n"
      ]
    },
    {
      "cell_type": "code",
      "metadata": {
        "colab": {
          "base_uri": "https://localhost:8080/"
        },
        "id": "SmseHd-kZ1wM",
        "outputId": "cee2bf23-992b-45dd-e23c-536e4e6a165c"
      },
      "source": [
        "for i in range(1, 6):\n",
        "    print(i*\"{} \".format(i))"
      ],
      "execution_count": null,
      "outputs": [
        {
          "output_type": "stream",
          "text": [
            "1 \n",
            "2 2 \n",
            "3 3 3 \n",
            "4 4 4 4 \n",
            "5 5 5 5 5 \n"
          ],
          "name": "stdout"
        }
      ]
    },
    {
      "cell_type": "markdown",
      "metadata": {
        "id": "A7Gn9p-sJCZu"
      },
      "source": [
        "### 1.2 Bedingungen & Input\n",
        "\n",
        "Gegeben sind zwei ganzzahlige Zahlen. Berechne das Produkt und gib es aus. Aber wenn das Produkt größer als 1000 ist, dann gib stattdessen die Summe zurück.\n",
        "\n",
        "Tipp: https://pynative.com/python-input-function-get-user-input/\n",
        "\n",
        "Beispiel:\n",
        "```\n",
        "x1 = 20\n",
        "x2 = 30\n",
        "Ergebnis: 600\n",
        "```\n",
        "```\n",
        "x1 = 20\n",
        "x2 = 60\n",
        "Ergebnis: 80\n",
        "```"
      ]
    },
    {
      "cell_type": "code",
      "metadata": {
        "colab": {
          "base_uri": "https://localhost:8080/"
        },
        "id": "hoU14Wp9JQvk",
        "outputId": "0212ed75-c5b2-4c72-b9b0-101c400cbd97"
      },
      "source": [
        "# we expect that the user enters input that can be converted to a number, otherwise the program would fail here\n",
        "x_1 = int(input(\"x1 = \"))\n",
        "x_2 = int(input(\"x2 = \"))\n",
        "\n",
        "result = x_1*x_2\n",
        "if result > 1000:\n",
        "    result = x_1 + x_2\n",
        "print(\"Ergebnis: {}\".format(result))"
      ],
      "execution_count": null,
      "outputs": [
        {
          "output_type": "stream",
          "text": [
            "x1 = 10\n",
            "x2 = 10\n",
            "Ergebnis: 100\n"
          ],
          "name": "stdout"
        }
      ]
    },
    {
      "cell_type": "markdown",
      "metadata": {
        "id": "cC8O_7EKKity"
      },
      "source": [
        "### 1.3 Strings & Funtionen\n",
        "\n",
        "Gegeben ist ein String, z.B. \"moinworld\". Schreibe eine Funktion, die nur jeden zweiten Buchstaben ausgibt (ungerader Index).\n",
        "\n",
        "```\n",
        "apply_string_changes(\"moinworld\")\n",
        "\"onol\"\n",
        "```\n",
        "\n",
        "Tipps: Funktionen, Indexing (Start bei 0), ggf. Slicing"
      ]
    },
    {
      "cell_type": "code",
      "metadata": {
        "colab": {
          "base_uri": "https://localhost:8080/"
        },
        "id": "_CQ5uklGKkDk",
        "outputId": "cec1c28c-3096-4529-9eb5-4dfda04f9739"
      },
      "source": [
        "def apply_string_changes(long_string: str):\n",
        "    return long_string[1::2]\n",
        "\n",
        "print(apply_string_changes(\"moinworld\"))"
      ],
      "execution_count": null,
      "outputs": [
        {
          "output_type": "stream",
          "text": [
            "onol\n"
          ],
          "name": "stdout"
        }
      ]
    },
    {
      "cell_type": "markdown",
      "metadata": {
        "id": "H3hitm_wLYhR"
      },
      "source": [
        "## Level 2 - Trivia Game\n",
        "\n",
        "Gestalte ein Trivia Game. Dem Spieler sollen nacheinander verschiedene Fragen gestellt werden.\n",
        "\n",
        "Beispiel für die Spielerabfrage:\n",
        "```\n",
        "Hello, welcome to trivia! Are you ready to play (yes/no): Yes\n",
        "\n",
        "What is the best programming language? Python\n",
        "Correct\n",
        "```\n",
        "\n",
        "Am Ende soll dem Spieler seine Punktzahl und die Anzahl der richtigen Fragen in % ausgegeben werden. (z.B.: 25% der Fragen waren richtig)\n",
        "\n",
        "Am Ende könnt ihr Eure Trivia Spiele untereinander austauschen und die Fragen der anderen beantworten.\n",
        "\n",
        "Tipps: input(), Listen und/oder Tupel, Bedingungen, Schleifen, Summen"
      ]
    },
    {
      "cell_type": "code",
      "metadata": {
        "colab": {
          "base_uri": "https://localhost:8080/"
        },
        "id": "TiyFH3HNLZyj",
        "outputId": "7694ae79-af2a-4a92-84ec-6df3f578fd04"
      },
      "source": [
        "# Group the questions in predefined tupel structure\n",
        "questions = \\\n",
        "    ((\"What is the best programming language?\",\n",
        "      \"Python\"),\n",
        "     (\"From which comedy group is the name of Python originated?\",\n",
        "      \"Monty Python\"),\n",
        "     (\"Who invented Python?\",\n",
        "      \"Guido van Rossum\"))\n",
        "\n",
        "def start_quiz():\n",
        "    start = input(\"Hello, welcome to trivia! Are you ready to play (yes/no): \")\n",
        "    # convert to lower case ... this way it is more flexibel.\n",
        "    if start.lower() != \"yes\":\n",
        "        return\n",
        "    points = 0\n",
        "    for question in questions:\n",
        "        # print the question and save the answer\n",
        "        answer = input(f\"{question[0]} \")\n",
        "        # compare with the stored correct answer\n",
        "        if answer.lower() == question[1].lower():\n",
        "            points += 1\n",
        "            print(\"Correct\")\n",
        "        else:\n",
        "            print(\"Sorry, this is not correct.\")\n",
        "    percentage = points/len(questions)*100\n",
        "    # This is maybe a little overkill.\n",
        "    # A simple composed output will accomplish the job too.\n",
        "    # This variant is grammatical correct for all possible accomplished points.\n",
        "    print(f\"You have {points} {'point' if points == 1 else 'points'}. \"\n",
        "          f\"You answered {percentage:.1f}% of all questions correctly.\")\n",
        "\n",
        "start_quiz()"
      ],
      "execution_count": null,
      "outputs": [
        {
          "output_type": "stream",
          "text": [
            "Hello, welcome to trivia! Are you ready to play (yes/no): yes\n",
            "What is the best programming language? Python\n",
            "Correct\n",
            "From which comedy group is the name of Python originated? Monty Python\n",
            "Correct\n",
            "Who invented Python? Guido van Rossum\n",
            "Correct\n",
            "You have 3 points. You answered 100.0% of all questions correctly.\n"
          ],
          "name": "stdout"
        }
      ]
    },
    {
      "cell_type": "markdown",
      "metadata": {
        "id": "-V54HC7vIafI"
      },
      "source": [
        "## Lösungen Level 3"
      ]
    },
    {
      "cell_type": "code",
      "metadata": {
        "colab": {
          "base_uri": "https://localhost:8080/",
          "height": 392
        },
        "id": "t1fnEMFfIafa",
        "outputId": "bdd9c876-ef52-4634-a5d5-f485f2ab15cd"
      },
      "source": [
        "import pandas as pd\n",
        "import matplotlib.pyplot as plt\n",
        "\n",
        "df_covid = pd.read_csv(\"https://covid.ourworldindata.org/data/owid-covid-data.csv\")\n",
        "df_covid.query(\"location == 'Germany'\").tail(7)"
      ],
      "execution_count": null,
      "outputs": [
        {
          "output_type": "execute_result",
          "data": {
            "text/html": [
              "<div>\n",
              "<style scoped>\n",
              "    .dataframe tbody tr th:only-of-type {\n",
              "        vertical-align: middle;\n",
              "    }\n",
              "\n",
              "    .dataframe tbody tr th {\n",
              "        vertical-align: top;\n",
              "    }\n",
              "\n",
              "    .dataframe thead th {\n",
              "        text-align: right;\n",
              "    }\n",
              "</style>\n",
              "<table border=\"1\" class=\"dataframe\">\n",
              "  <thead>\n",
              "    <tr style=\"text-align: right;\">\n",
              "      <th></th>\n",
              "      <th>iso_code</th>\n",
              "      <th>continent</th>\n",
              "      <th>location</th>\n",
              "      <th>date</th>\n",
              "      <th>total_cases</th>\n",
              "      <th>new_cases</th>\n",
              "      <th>new_cases_smoothed</th>\n",
              "      <th>total_deaths</th>\n",
              "      <th>new_deaths</th>\n",
              "      <th>new_deaths_smoothed</th>\n",
              "      <th>total_cases_per_million</th>\n",
              "      <th>new_cases_per_million</th>\n",
              "      <th>new_cases_smoothed_per_million</th>\n",
              "      <th>total_deaths_per_million</th>\n",
              "      <th>new_deaths_per_million</th>\n",
              "      <th>new_deaths_smoothed_per_million</th>\n",
              "      <th>reproduction_rate</th>\n",
              "      <th>icu_patients</th>\n",
              "      <th>icu_patients_per_million</th>\n",
              "      <th>hosp_patients</th>\n",
              "      <th>hosp_patients_per_million</th>\n",
              "      <th>weekly_icu_admissions</th>\n",
              "      <th>weekly_icu_admissions_per_million</th>\n",
              "      <th>weekly_hosp_admissions</th>\n",
              "      <th>weekly_hosp_admissions_per_million</th>\n",
              "      <th>new_tests</th>\n",
              "      <th>total_tests</th>\n",
              "      <th>total_tests_per_thousand</th>\n",
              "      <th>new_tests_per_thousand</th>\n",
              "      <th>new_tests_smoothed</th>\n",
              "      <th>new_tests_smoothed_per_thousand</th>\n",
              "      <th>positive_rate</th>\n",
              "      <th>tests_per_case</th>\n",
              "      <th>tests_units</th>\n",
              "      <th>total_vaccinations</th>\n",
              "      <th>people_vaccinated</th>\n",
              "      <th>people_fully_vaccinated</th>\n",
              "      <th>new_vaccinations</th>\n",
              "      <th>new_vaccinations_smoothed</th>\n",
              "      <th>total_vaccinations_per_hundred</th>\n",
              "      <th>people_vaccinated_per_hundred</th>\n",
              "      <th>people_fully_vaccinated_per_hundred</th>\n",
              "      <th>new_vaccinations_smoothed_per_million</th>\n",
              "      <th>stringency_index</th>\n",
              "      <th>population</th>\n",
              "      <th>population_density</th>\n",
              "      <th>median_age</th>\n",
              "      <th>aged_65_older</th>\n",
              "      <th>aged_70_older</th>\n",
              "      <th>gdp_per_capita</th>\n",
              "      <th>extreme_poverty</th>\n",
              "      <th>cardiovasc_death_rate</th>\n",
              "      <th>diabetes_prevalence</th>\n",
              "      <th>female_smokers</th>\n",
              "      <th>male_smokers</th>\n",
              "      <th>handwashing_facilities</th>\n",
              "      <th>hospital_beds_per_thousand</th>\n",
              "      <th>life_expectancy</th>\n",
              "      <th>human_development_index</th>\n",
              "    </tr>\n",
              "  </thead>\n",
              "  <tbody>\n",
              "    <tr>\n",
              "      <th>29614</th>\n",
              "      <td>DEU</td>\n",
              "      <td>Europe</td>\n",
              "      <td>Germany</td>\n",
              "      <td>2021-04-19</td>\n",
              "      <td>3167137.0</td>\n",
              "      <td>11615.0</td>\n",
              "      <td>20361.857</td>\n",
              "      <td>80353.0</td>\n",
              "      <td>301.0</td>\n",
              "      <td>222.429</td>\n",
              "      <td>37801.240</td>\n",
              "      <td>138.630</td>\n",
              "      <td>243.028</td>\n",
              "      <td>959.050</td>\n",
              "      <td>3.593</td>\n",
              "      <td>2.655</td>\n",
              "      <td>1.09</td>\n",
              "      <td>NaN</td>\n",
              "      <td>NaN</td>\n",
              "      <td>NaN</td>\n",
              "      <td>NaN</td>\n",
              "      <td>NaN</td>\n",
              "      <td>NaN</td>\n",
              "      <td>NaN</td>\n",
              "      <td>NaN</td>\n",
              "      <td>NaN</td>\n",
              "      <td>NaN</td>\n",
              "      <td>NaN</td>\n",
              "      <td>NaN</td>\n",
              "      <td>NaN</td>\n",
              "      <td>NaN</td>\n",
              "      <td>NaN</td>\n",
              "      <td>NaN</td>\n",
              "      <td>NaN</td>\n",
              "      <td>22445080.0</td>\n",
              "      <td>16840272.0</td>\n",
              "      <td>5604808.0</td>\n",
              "      <td>394025.0</td>\n",
              "      <td>517109.0</td>\n",
              "      <td>26.79</td>\n",
              "      <td>20.10</td>\n",
              "      <td>6.69</td>\n",
              "      <td>6172.0</td>\n",
              "      <td>75.0</td>\n",
              "      <td>83783945.0</td>\n",
              "      <td>237.016</td>\n",
              "      <td>46.6</td>\n",
              "      <td>21.453</td>\n",
              "      <td>15.957</td>\n",
              "      <td>45229.245</td>\n",
              "      <td>NaN</td>\n",
              "      <td>156.139</td>\n",
              "      <td>8.31</td>\n",
              "      <td>28.2</td>\n",
              "      <td>33.1</td>\n",
              "      <td>NaN</td>\n",
              "      <td>8.0</td>\n",
              "      <td>81.33</td>\n",
              "      <td>0.947</td>\n",
              "    </tr>\n",
              "    <tr>\n",
              "      <th>29615</th>\n",
              "      <td>DEU</td>\n",
              "      <td>Europe</td>\n",
              "      <td>Germany</td>\n",
              "      <td>2021-04-20</td>\n",
              "      <td>3198534.0</td>\n",
              "      <td>31397.0</td>\n",
              "      <td>20644.143</td>\n",
              "      <td>80680.0</td>\n",
              "      <td>327.0</td>\n",
              "      <td>220.429</td>\n",
              "      <td>38175.978</td>\n",
              "      <td>374.738</td>\n",
              "      <td>246.397</td>\n",
              "      <td>962.953</td>\n",
              "      <td>3.903</td>\n",
              "      <td>2.631</td>\n",
              "      <td>1.08</td>\n",
              "      <td>NaN</td>\n",
              "      <td>NaN</td>\n",
              "      <td>NaN</td>\n",
              "      <td>NaN</td>\n",
              "      <td>NaN</td>\n",
              "      <td>NaN</td>\n",
              "      <td>NaN</td>\n",
              "      <td>NaN</td>\n",
              "      <td>NaN</td>\n",
              "      <td>NaN</td>\n",
              "      <td>NaN</td>\n",
              "      <td>NaN</td>\n",
              "      <td>NaN</td>\n",
              "      <td>NaN</td>\n",
              "      <td>NaN</td>\n",
              "      <td>NaN</td>\n",
              "      <td>NaN</td>\n",
              "      <td>22993309.0</td>\n",
              "      <td>17328818.0</td>\n",
              "      <td>5664491.0</td>\n",
              "      <td>548229.0</td>\n",
              "      <td>514025.0</td>\n",
              "      <td>27.44</td>\n",
              "      <td>20.68</td>\n",
              "      <td>6.76</td>\n",
              "      <td>6135.0</td>\n",
              "      <td>75.0</td>\n",
              "      <td>83783945.0</td>\n",
              "      <td>237.016</td>\n",
              "      <td>46.6</td>\n",
              "      <td>21.453</td>\n",
              "      <td>15.957</td>\n",
              "      <td>45229.245</td>\n",
              "      <td>NaN</td>\n",
              "      <td>156.139</td>\n",
              "      <td>8.31</td>\n",
              "      <td>28.2</td>\n",
              "      <td>33.1</td>\n",
              "      <td>NaN</td>\n",
              "      <td>8.0</td>\n",
              "      <td>81.33</td>\n",
              "      <td>0.947</td>\n",
              "    </tr>\n",
              "    <tr>\n",
              "      <th>29616</th>\n",
              "      <td>DEU</td>\n",
              "      <td>Europe</td>\n",
              "      <td>Germany</td>\n",
              "      <td>2021-04-21</td>\n",
              "      <td>3222888.0</td>\n",
              "      <td>24354.0</td>\n",
              "      <td>19678.000</td>\n",
              "      <td>80938.0</td>\n",
              "      <td>258.0</td>\n",
              "      <td>215.857</td>\n",
              "      <td>38466.654</td>\n",
              "      <td>290.676</td>\n",
              "      <td>234.866</td>\n",
              "      <td>966.032</td>\n",
              "      <td>3.079</td>\n",
              "      <td>2.576</td>\n",
              "      <td>1.07</td>\n",
              "      <td>NaN</td>\n",
              "      <td>NaN</td>\n",
              "      <td>NaN</td>\n",
              "      <td>NaN</td>\n",
              "      <td>NaN</td>\n",
              "      <td>NaN</td>\n",
              "      <td>NaN</td>\n",
              "      <td>NaN</td>\n",
              "      <td>NaN</td>\n",
              "      <td>NaN</td>\n",
              "      <td>NaN</td>\n",
              "      <td>NaN</td>\n",
              "      <td>NaN</td>\n",
              "      <td>NaN</td>\n",
              "      <td>NaN</td>\n",
              "      <td>NaN</td>\n",
              "      <td>NaN</td>\n",
              "      <td>23698085.0</td>\n",
              "      <td>17964087.0</td>\n",
              "      <td>5733998.0</td>\n",
              "      <td>704776.0</td>\n",
              "      <td>504392.0</td>\n",
              "      <td>28.28</td>\n",
              "      <td>21.44</td>\n",
              "      <td>6.84</td>\n",
              "      <td>6020.0</td>\n",
              "      <td>75.0</td>\n",
              "      <td>83783945.0</td>\n",
              "      <td>237.016</td>\n",
              "      <td>46.6</td>\n",
              "      <td>21.453</td>\n",
              "      <td>15.957</td>\n",
              "      <td>45229.245</td>\n",
              "      <td>NaN</td>\n",
              "      <td>156.139</td>\n",
              "      <td>8.31</td>\n",
              "      <td>28.2</td>\n",
              "      <td>33.1</td>\n",
              "      <td>NaN</td>\n",
              "      <td>8.0</td>\n",
              "      <td>81.33</td>\n",
              "      <td>0.947</td>\n",
              "    </tr>\n",
              "    <tr>\n",
              "      <th>29617</th>\n",
              "      <td>DEU</td>\n",
              "      <td>Europe</td>\n",
              "      <td>Germany</td>\n",
              "      <td>2021-04-22</td>\n",
              "      <td>3254609.0</td>\n",
              "      <td>31721.0</td>\n",
              "      <td>20622.429</td>\n",
              "      <td>81203.0</td>\n",
              "      <td>265.0</td>\n",
              "      <td>218.714</td>\n",
              "      <td>38845.258</td>\n",
              "      <td>378.605</td>\n",
              "      <td>246.138</td>\n",
              "      <td>969.195</td>\n",
              "      <td>3.163</td>\n",
              "      <td>2.610</td>\n",
              "      <td>1.06</td>\n",
              "      <td>NaN</td>\n",
              "      <td>NaN</td>\n",
              "      <td>NaN</td>\n",
              "      <td>NaN</td>\n",
              "      <td>NaN</td>\n",
              "      <td>NaN</td>\n",
              "      <td>NaN</td>\n",
              "      <td>NaN</td>\n",
              "      <td>NaN</td>\n",
              "      <td>NaN</td>\n",
              "      <td>NaN</td>\n",
              "      <td>NaN</td>\n",
              "      <td>NaN</td>\n",
              "      <td>NaN</td>\n",
              "      <td>NaN</td>\n",
              "      <td>NaN</td>\n",
              "      <td>NaN</td>\n",
              "      <td>24311753.0</td>\n",
              "      <td>18515332.0</td>\n",
              "      <td>5796421.0</td>\n",
              "      <td>613668.0</td>\n",
              "      <td>495498.0</td>\n",
              "      <td>29.02</td>\n",
              "      <td>22.10</td>\n",
              "      <td>6.92</td>\n",
              "      <td>5914.0</td>\n",
              "      <td>75.0</td>\n",
              "      <td>83783945.0</td>\n",
              "      <td>237.016</td>\n",
              "      <td>46.6</td>\n",
              "      <td>21.453</td>\n",
              "      <td>15.957</td>\n",
              "      <td>45229.245</td>\n",
              "      <td>NaN</td>\n",
              "      <td>156.139</td>\n",
              "      <td>8.31</td>\n",
              "      <td>28.2</td>\n",
              "      <td>33.1</td>\n",
              "      <td>NaN</td>\n",
              "      <td>8.0</td>\n",
              "      <td>81.33</td>\n",
              "      <td>0.947</td>\n",
              "    </tr>\n",
              "    <tr>\n",
              "      <th>29618</th>\n",
              "      <td>DEU</td>\n",
              "      <td>Europe</td>\n",
              "      <td>Germany</td>\n",
              "      <td>2021-04-23</td>\n",
              "      <td>3276871.0</td>\n",
              "      <td>22262.0</td>\n",
              "      <td>20394.714</td>\n",
              "      <td>81492.0</td>\n",
              "      <td>289.0</td>\n",
              "      <td>228.286</td>\n",
              "      <td>39110.966</td>\n",
              "      <td>265.707</td>\n",
              "      <td>243.420</td>\n",
              "      <td>972.645</td>\n",
              "      <td>3.449</td>\n",
              "      <td>2.725</td>\n",
              "      <td>1.05</td>\n",
              "      <td>NaN</td>\n",
              "      <td>NaN</td>\n",
              "      <td>NaN</td>\n",
              "      <td>NaN</td>\n",
              "      <td>NaN</td>\n",
              "      <td>NaN</td>\n",
              "      <td>NaN</td>\n",
              "      <td>NaN</td>\n",
              "      <td>NaN</td>\n",
              "      <td>NaN</td>\n",
              "      <td>NaN</td>\n",
              "      <td>NaN</td>\n",
              "      <td>NaN</td>\n",
              "      <td>NaN</td>\n",
              "      <td>NaN</td>\n",
              "      <td>NaN</td>\n",
              "      <td>NaN</td>\n",
              "      <td>24836908.0</td>\n",
              "      <td>18977896.0</td>\n",
              "      <td>5859012.0</td>\n",
              "      <td>525155.0</td>\n",
              "      <td>486338.0</td>\n",
              "      <td>29.64</td>\n",
              "      <td>22.65</td>\n",
              "      <td>6.99</td>\n",
              "      <td>5805.0</td>\n",
              "      <td>75.0</td>\n",
              "      <td>83783945.0</td>\n",
              "      <td>237.016</td>\n",
              "      <td>46.6</td>\n",
              "      <td>21.453</td>\n",
              "      <td>15.957</td>\n",
              "      <td>45229.245</td>\n",
              "      <td>NaN</td>\n",
              "      <td>156.139</td>\n",
              "      <td>8.31</td>\n",
              "      <td>28.2</td>\n",
              "      <td>33.1</td>\n",
              "      <td>NaN</td>\n",
              "      <td>8.0</td>\n",
              "      <td>81.33</td>\n",
              "      <td>0.947</td>\n",
              "    </tr>\n",
              "    <tr>\n",
              "      <th>29619</th>\n",
              "      <td>DEU</td>\n",
              "      <td>Europe</td>\n",
              "      <td>Germany</td>\n",
              "      <td>2021-04-24</td>\n",
              "      <td>3291293.0</td>\n",
              "      <td>14422.0</td>\n",
              "      <td>19569.714</td>\n",
              "      <td>81610.0</td>\n",
              "      <td>118.0</td>\n",
              "      <td>234.143</td>\n",
              "      <td>39283.099</td>\n",
              "      <td>172.133</td>\n",
              "      <td>233.574</td>\n",
              "      <td>974.053</td>\n",
              "      <td>1.408</td>\n",
              "      <td>2.795</td>\n",
              "      <td>1.05</td>\n",
              "      <td>NaN</td>\n",
              "      <td>NaN</td>\n",
              "      <td>NaN</td>\n",
              "      <td>NaN</td>\n",
              "      <td>NaN</td>\n",
              "      <td>NaN</td>\n",
              "      <td>NaN</td>\n",
              "      <td>NaN</td>\n",
              "      <td>NaN</td>\n",
              "      <td>NaN</td>\n",
              "      <td>NaN</td>\n",
              "      <td>NaN</td>\n",
              "      <td>NaN</td>\n",
              "      <td>NaN</td>\n",
              "      <td>NaN</td>\n",
              "      <td>NaN</td>\n",
              "      <td>NaN</td>\n",
              "      <td>25180157.0</td>\n",
              "      <td>19266469.0</td>\n",
              "      <td>5913688.0</td>\n",
              "      <td>343249.0</td>\n",
              "      <td>484468.0</td>\n",
              "      <td>30.05</td>\n",
              "      <td>23.00</td>\n",
              "      <td>7.06</td>\n",
              "      <td>5782.0</td>\n",
              "      <td>75.0</td>\n",
              "      <td>83783945.0</td>\n",
              "      <td>237.016</td>\n",
              "      <td>46.6</td>\n",
              "      <td>21.453</td>\n",
              "      <td>15.957</td>\n",
              "      <td>45229.245</td>\n",
              "      <td>NaN</td>\n",
              "      <td>156.139</td>\n",
              "      <td>8.31</td>\n",
              "      <td>28.2</td>\n",
              "      <td>33.1</td>\n",
              "      <td>NaN</td>\n",
              "      <td>8.0</td>\n",
              "      <td>81.33</td>\n",
              "      <td>0.947</td>\n",
              "    </tr>\n",
              "    <tr>\n",
              "      <th>29620</th>\n",
              "      <td>DEU</td>\n",
              "      <td>Europe</td>\n",
              "      <td>Germany</td>\n",
              "      <td>2021-04-25</td>\n",
              "      <td>3306692.0</td>\n",
              "      <td>15399.0</td>\n",
              "      <td>21595.714</td>\n",
              "      <td>81671.0</td>\n",
              "      <td>61.0</td>\n",
              "      <td>231.286</td>\n",
              "      <td>39466.893</td>\n",
              "      <td>183.794</td>\n",
              "      <td>257.755</td>\n",
              "      <td>974.781</td>\n",
              "      <td>0.728</td>\n",
              "      <td>2.761</td>\n",
              "      <td>NaN</td>\n",
              "      <td>NaN</td>\n",
              "      <td>NaN</td>\n",
              "      <td>NaN</td>\n",
              "      <td>NaN</td>\n",
              "      <td>NaN</td>\n",
              "      <td>NaN</td>\n",
              "      <td>NaN</td>\n",
              "      <td>NaN</td>\n",
              "      <td>NaN</td>\n",
              "      <td>NaN</td>\n",
              "      <td>NaN</td>\n",
              "      <td>NaN</td>\n",
              "      <td>NaN</td>\n",
              "      <td>NaN</td>\n",
              "      <td>NaN</td>\n",
              "      <td>NaN</td>\n",
              "      <td>NaN</td>\n",
              "      <td>25446941.0</td>\n",
              "      <td>19486698.0</td>\n",
              "      <td>5960243.0</td>\n",
              "      <td>266784.0</td>\n",
              "      <td>485127.0</td>\n",
              "      <td>30.37</td>\n",
              "      <td>23.26</td>\n",
              "      <td>7.11</td>\n",
              "      <td>5790.0</td>\n",
              "      <td>NaN</td>\n",
              "      <td>83783945.0</td>\n",
              "      <td>237.016</td>\n",
              "      <td>46.6</td>\n",
              "      <td>21.453</td>\n",
              "      <td>15.957</td>\n",
              "      <td>45229.245</td>\n",
              "      <td>NaN</td>\n",
              "      <td>156.139</td>\n",
              "      <td>8.31</td>\n",
              "      <td>28.2</td>\n",
              "      <td>33.1</td>\n",
              "      <td>NaN</td>\n",
              "      <td>8.0</td>\n",
              "      <td>81.33</td>\n",
              "      <td>0.947</td>\n",
              "    </tr>\n",
              "  </tbody>\n",
              "</table>\n",
              "</div>"
            ],
            "text/plain": [
              "      iso_code continent  ... life_expectancy human_development_index\n",
              "29614      DEU    Europe  ...           81.33                   0.947\n",
              "29615      DEU    Europe  ...           81.33                   0.947\n",
              "29616      DEU    Europe  ...           81.33                   0.947\n",
              "29617      DEU    Europe  ...           81.33                   0.947\n",
              "29618      DEU    Europe  ...           81.33                   0.947\n",
              "29619      DEU    Europe  ...           81.33                   0.947\n",
              "29620      DEU    Europe  ...           81.33                   0.947\n",
              "\n",
              "[7 rows x 59 columns]"
            ]
          },
          "metadata": {
            "tags": []
          },
          "execution_count": 26
        }
      ]
    },
    {
      "cell_type": "code",
      "metadata": {
        "colab": {
          "base_uri": "https://localhost:8080/"
        },
        "id": "AVN4Xc0JIafd",
        "outputId": "3c24bf3a-622a-4baa-e223-82a05744624c"
      },
      "source": [
        "df_covid['total_tests_per_thousand'].max()"
      ],
      "execution_count": null,
      "outputs": [
        {
          "output_type": "execute_result",
          "data": {
            "text/plain": [
              "6054.826"
            ]
          },
          "metadata": {
            "tags": []
          },
          "execution_count": 7
        }
      ]
    },
    {
      "cell_type": "markdown",
      "metadata": {
        "id": "VZ7L4GFaIafe"
      },
      "source": [
        "#### Wie viel wird getestet? / In welchem Land wird am meisten getestet (je Kontinent)?"
      ]
    },
    {
      "cell_type": "code",
      "metadata": {
        "colab": {
          "base_uri": "https://localhost:8080/"
        },
        "id": "QlBfRhvkIaff",
        "outputId": "cc32f85a-c75a-41a3-c2c1-36427e5c08b1"
      },
      "source": [
        "df_covid.groupby(\"continent\")[\"total_tests_per_thousand\"].max()"
      ],
      "execution_count": null,
      "outputs": [
        {
          "output_type": "execute_result",
          "data": {
            "text/plain": [
              "continent\n",
              "Africa            177.562\n",
              "Asia             4137.942\n",
              "Europe           6054.826\n",
              "North America    1233.700\n",
              "Oceania           647.939\n",
              "South America     668.399\n",
              "Name: total_tests_per_thousand, dtype: float64"
            ]
          },
          "metadata": {
            "tags": []
          },
          "execution_count": 15
        }
      ]
    },
    {
      "cell_type": "code",
      "metadata": {
        "colab": {
          "base_uri": "https://localhost:8080/",
          "height": 225
        },
        "id": "2epvoy9XIaff",
        "outputId": "96d71443-13ff-4bea-deb5-8e97b03d6607"
      },
      "source": [
        "most_tested_cols = [\"continent\", \"location\", \"total_tests_per_thousand\", \"date\"]\n",
        "most_tested_rowids = df_covid.groupby(\"continent\")[\"total_tests_per_thousand\"].idxmax()\n",
        "df_covid.iloc[most_tested_rowids][most_tested_cols]"
      ],
      "execution_count": null,
      "outputs": [
        {
          "output_type": "execute_result",
          "data": {
            "text/html": [
              "<div>\n",
              "<style scoped>\n",
              "    .dataframe tbody tr th:only-of-type {\n",
              "        vertical-align: middle;\n",
              "    }\n",
              "\n",
              "    .dataframe tbody tr th {\n",
              "        vertical-align: top;\n",
              "    }\n",
              "\n",
              "    .dataframe thead th {\n",
              "        text-align: right;\n",
              "    }\n",
              "</style>\n",
              "<table border=\"1\" class=\"dataframe\">\n",
              "  <thead>\n",
              "    <tr style=\"text-align: right;\">\n",
              "      <th></th>\n",
              "      <th>continent</th>\n",
              "      <th>location</th>\n",
              "      <th>total_tests_per_thousand</th>\n",
              "      <th>date</th>\n",
              "    </tr>\n",
              "  </thead>\n",
              "  <tbody>\n",
              "    <tr>\n",
              "      <th>69863</th>\n",
              "      <td>Africa</td>\n",
              "      <td>South Africa</td>\n",
              "      <td>177.562</td>\n",
              "      <td>2021-04-25</td>\n",
              "    </tr>\n",
              "    <tr>\n",
              "      <th>79261</th>\n",
              "      <td>Asia</td>\n",
              "      <td>United Arab Emirates</td>\n",
              "      <td>4137.942</td>\n",
              "      <td>2021-04-14</td>\n",
              "    </tr>\n",
              "    <tr>\n",
              "      <th>68367</th>\n",
              "      <td>Europe</td>\n",
              "      <td>Slovakia</td>\n",
              "      <td>6054.826</td>\n",
              "      <td>2021-04-24</td>\n",
              "    </tr>\n",
              "    <tr>\n",
              "      <th>80180</th>\n",
              "      <td>North America</td>\n",
              "      <td>United States</td>\n",
              "      <td>1233.700</td>\n",
              "      <td>2021-04-22</td>\n",
              "    </tr>\n",
              "    <tr>\n",
              "      <th>4869</th>\n",
              "      <td>Oceania</td>\n",
              "      <td>Australia</td>\n",
              "      <td>647.939</td>\n",
              "      <td>2021-04-23</td>\n",
              "    </tr>\n",
              "    <tr>\n",
              "      <th>15925</th>\n",
              "      <td>South America</td>\n",
              "      <td>Chile</td>\n",
              "      <td>668.399</td>\n",
              "      <td>2021-04-25</td>\n",
              "    </tr>\n",
              "  </tbody>\n",
              "</table>\n",
              "</div>"
            ],
            "text/plain": [
              "           continent  ...        date\n",
              "69863         Africa  ...  2021-04-25\n",
              "79261           Asia  ...  2021-04-14\n",
              "68367         Europe  ...  2021-04-24\n",
              "80180  North America  ...  2021-04-22\n",
              "4869         Oceania  ...  2021-04-23\n",
              "15925  South America  ...  2021-04-25\n",
              "\n",
              "[6 rows x 4 columns]"
            ]
          },
          "metadata": {
            "tags": []
          },
          "execution_count": 13
        }
      ]
    },
    {
      "cell_type": "code",
      "metadata": {
        "colab": {
          "base_uri": "https://localhost:8080/"
        },
        "id": "fUmOnowSIafg",
        "outputId": "4e0362a5-cc7b-4019-d018-507e352edea0"
      },
      "source": [
        "df_covid.query(\"location == 'Germany'\")[\"total_tests_per_thousand\"].max()"
      ],
      "execution_count": null,
      "outputs": [
        {
          "output_type": "execute_result",
          "data": {
            "text/plain": [
              "644.4209999999999"
            ]
          },
          "metadata": {
            "tags": []
          },
          "execution_count": 14
        }
      ]
    },
    {
      "cell_type": "markdown",
      "metadata": {
        "id": "0mAZJVNaIafh"
      },
      "source": [
        "#### Infektionswellen für ein Land"
      ]
    },
    {
      "cell_type": "code",
      "metadata": {
        "colab": {
          "base_uri": "https://localhost:8080/",
          "height": 590
        },
        "id": "Lb94rbuuIafh",
        "outputId": "1665a52b-fb0c-4a47-b29b-27d3d93cf97e"
      },
      "source": [
        "df_covid[df_covid.location == \"Germany\"]"
      ],
      "execution_count": null,
      "outputs": [
        {
          "output_type": "execute_result",
          "data": {
            "text/html": [
              "<div>\n",
              "<style scoped>\n",
              "    .dataframe tbody tr th:only-of-type {\n",
              "        vertical-align: middle;\n",
              "    }\n",
              "\n",
              "    .dataframe tbody tr th {\n",
              "        vertical-align: top;\n",
              "    }\n",
              "\n",
              "    .dataframe thead th {\n",
              "        text-align: right;\n",
              "    }\n",
              "</style>\n",
              "<table border=\"1\" class=\"dataframe\">\n",
              "  <thead>\n",
              "    <tr style=\"text-align: right;\">\n",
              "      <th></th>\n",
              "      <th>iso_code</th>\n",
              "      <th>continent</th>\n",
              "      <th>location</th>\n",
              "      <th>date</th>\n",
              "      <th>total_cases</th>\n",
              "      <th>new_cases</th>\n",
              "      <th>new_cases_smoothed</th>\n",
              "      <th>total_deaths</th>\n",
              "      <th>new_deaths</th>\n",
              "      <th>new_deaths_smoothed</th>\n",
              "      <th>total_cases_per_million</th>\n",
              "      <th>new_cases_per_million</th>\n",
              "      <th>new_cases_smoothed_per_million</th>\n",
              "      <th>total_deaths_per_million</th>\n",
              "      <th>new_deaths_per_million</th>\n",
              "      <th>new_deaths_smoothed_per_million</th>\n",
              "      <th>reproduction_rate</th>\n",
              "      <th>icu_patients</th>\n",
              "      <th>icu_patients_per_million</th>\n",
              "      <th>hosp_patients</th>\n",
              "      <th>hosp_patients_per_million</th>\n",
              "      <th>weekly_icu_admissions</th>\n",
              "      <th>weekly_icu_admissions_per_million</th>\n",
              "      <th>weekly_hosp_admissions</th>\n",
              "      <th>weekly_hosp_admissions_per_million</th>\n",
              "      <th>new_tests</th>\n",
              "      <th>total_tests</th>\n",
              "      <th>total_tests_per_thousand</th>\n",
              "      <th>new_tests_per_thousand</th>\n",
              "      <th>new_tests_smoothed</th>\n",
              "      <th>new_tests_smoothed_per_thousand</th>\n",
              "      <th>positive_rate</th>\n",
              "      <th>tests_per_case</th>\n",
              "      <th>tests_units</th>\n",
              "      <th>total_vaccinations</th>\n",
              "      <th>people_vaccinated</th>\n",
              "      <th>people_fully_vaccinated</th>\n",
              "      <th>new_vaccinations</th>\n",
              "      <th>new_vaccinations_smoothed</th>\n",
              "      <th>total_vaccinations_per_hundred</th>\n",
              "      <th>people_vaccinated_per_hundred</th>\n",
              "      <th>people_fully_vaccinated_per_hundred</th>\n",
              "      <th>new_vaccinations_smoothed_per_million</th>\n",
              "      <th>stringency_index</th>\n",
              "      <th>population</th>\n",
              "      <th>population_density</th>\n",
              "      <th>median_age</th>\n",
              "      <th>aged_65_older</th>\n",
              "      <th>aged_70_older</th>\n",
              "      <th>gdp_per_capita</th>\n",
              "      <th>extreme_poverty</th>\n",
              "      <th>cardiovasc_death_rate</th>\n",
              "      <th>diabetes_prevalence</th>\n",
              "      <th>female_smokers</th>\n",
              "      <th>male_smokers</th>\n",
              "      <th>handwashing_facilities</th>\n",
              "      <th>hospital_beds_per_thousand</th>\n",
              "      <th>life_expectancy</th>\n",
              "      <th>human_development_index</th>\n",
              "    </tr>\n",
              "  </thead>\n",
              "  <tbody>\n",
              "    <tr>\n",
              "      <th>29166</th>\n",
              "      <td>DEU</td>\n",
              "      <td>Europe</td>\n",
              "      <td>Germany</td>\n",
              "      <td>2020-01-27</td>\n",
              "      <td>1.0</td>\n",
              "      <td>1.0</td>\n",
              "      <td>NaN</td>\n",
              "      <td>NaN</td>\n",
              "      <td>NaN</td>\n",
              "      <td>NaN</td>\n",
              "      <td>0.012</td>\n",
              "      <td>0.012</td>\n",
              "      <td>NaN</td>\n",
              "      <td>NaN</td>\n",
              "      <td>NaN</td>\n",
              "      <td>NaN</td>\n",
              "      <td>NaN</td>\n",
              "      <td>NaN</td>\n",
              "      <td>NaN</td>\n",
              "      <td>NaN</td>\n",
              "      <td>NaN</td>\n",
              "      <td>NaN</td>\n",
              "      <td>NaN</td>\n",
              "      <td>NaN</td>\n",
              "      <td>NaN</td>\n",
              "      <td>NaN</td>\n",
              "      <td>NaN</td>\n",
              "      <td>NaN</td>\n",
              "      <td>NaN</td>\n",
              "      <td>NaN</td>\n",
              "      <td>NaN</td>\n",
              "      <td>NaN</td>\n",
              "      <td>NaN</td>\n",
              "      <td>NaN</td>\n",
              "      <td>NaN</td>\n",
              "      <td>NaN</td>\n",
              "      <td>NaN</td>\n",
              "      <td>NaN</td>\n",
              "      <td>NaN</td>\n",
              "      <td>NaN</td>\n",
              "      <td>NaN</td>\n",
              "      <td>NaN</td>\n",
              "      <td>NaN</td>\n",
              "      <td>5.56</td>\n",
              "      <td>83783945.0</td>\n",
              "      <td>237.016</td>\n",
              "      <td>46.6</td>\n",
              "      <td>21.453</td>\n",
              "      <td>15.957</td>\n",
              "      <td>45229.245</td>\n",
              "      <td>NaN</td>\n",
              "      <td>156.139</td>\n",
              "      <td>8.31</td>\n",
              "      <td>28.2</td>\n",
              "      <td>33.1</td>\n",
              "      <td>NaN</td>\n",
              "      <td>8.0</td>\n",
              "      <td>81.33</td>\n",
              "      <td>0.947</td>\n",
              "    </tr>\n",
              "    <tr>\n",
              "      <th>29167</th>\n",
              "      <td>DEU</td>\n",
              "      <td>Europe</td>\n",
              "      <td>Germany</td>\n",
              "      <td>2020-01-28</td>\n",
              "      <td>4.0</td>\n",
              "      <td>3.0</td>\n",
              "      <td>NaN</td>\n",
              "      <td>NaN</td>\n",
              "      <td>NaN</td>\n",
              "      <td>NaN</td>\n",
              "      <td>0.048</td>\n",
              "      <td>0.036</td>\n",
              "      <td>NaN</td>\n",
              "      <td>NaN</td>\n",
              "      <td>NaN</td>\n",
              "      <td>NaN</td>\n",
              "      <td>NaN</td>\n",
              "      <td>NaN</td>\n",
              "      <td>NaN</td>\n",
              "      <td>NaN</td>\n",
              "      <td>NaN</td>\n",
              "      <td>NaN</td>\n",
              "      <td>NaN</td>\n",
              "      <td>NaN</td>\n",
              "      <td>NaN</td>\n",
              "      <td>NaN</td>\n",
              "      <td>NaN</td>\n",
              "      <td>NaN</td>\n",
              "      <td>NaN</td>\n",
              "      <td>NaN</td>\n",
              "      <td>NaN</td>\n",
              "      <td>NaN</td>\n",
              "      <td>NaN</td>\n",
              "      <td>NaN</td>\n",
              "      <td>NaN</td>\n",
              "      <td>NaN</td>\n",
              "      <td>NaN</td>\n",
              "      <td>NaN</td>\n",
              "      <td>NaN</td>\n",
              "      <td>NaN</td>\n",
              "      <td>NaN</td>\n",
              "      <td>NaN</td>\n",
              "      <td>NaN</td>\n",
              "      <td>5.56</td>\n",
              "      <td>83783945.0</td>\n",
              "      <td>237.016</td>\n",
              "      <td>46.6</td>\n",
              "      <td>21.453</td>\n",
              "      <td>15.957</td>\n",
              "      <td>45229.245</td>\n",
              "      <td>NaN</td>\n",
              "      <td>156.139</td>\n",
              "      <td>8.31</td>\n",
              "      <td>28.2</td>\n",
              "      <td>33.1</td>\n",
              "      <td>NaN</td>\n",
              "      <td>8.0</td>\n",
              "      <td>81.33</td>\n",
              "      <td>0.947</td>\n",
              "    </tr>\n",
              "    <tr>\n",
              "      <th>29168</th>\n",
              "      <td>DEU</td>\n",
              "      <td>Europe</td>\n",
              "      <td>Germany</td>\n",
              "      <td>2020-01-29</td>\n",
              "      <td>4.0</td>\n",
              "      <td>0.0</td>\n",
              "      <td>NaN</td>\n",
              "      <td>NaN</td>\n",
              "      <td>NaN</td>\n",
              "      <td>NaN</td>\n",
              "      <td>0.048</td>\n",
              "      <td>0.000</td>\n",
              "      <td>NaN</td>\n",
              "      <td>NaN</td>\n",
              "      <td>NaN</td>\n",
              "      <td>NaN</td>\n",
              "      <td>NaN</td>\n",
              "      <td>NaN</td>\n",
              "      <td>NaN</td>\n",
              "      <td>NaN</td>\n",
              "      <td>NaN</td>\n",
              "      <td>NaN</td>\n",
              "      <td>NaN</td>\n",
              "      <td>NaN</td>\n",
              "      <td>NaN</td>\n",
              "      <td>NaN</td>\n",
              "      <td>NaN</td>\n",
              "      <td>NaN</td>\n",
              "      <td>NaN</td>\n",
              "      <td>NaN</td>\n",
              "      <td>NaN</td>\n",
              "      <td>NaN</td>\n",
              "      <td>NaN</td>\n",
              "      <td>NaN</td>\n",
              "      <td>NaN</td>\n",
              "      <td>NaN</td>\n",
              "      <td>NaN</td>\n",
              "      <td>NaN</td>\n",
              "      <td>NaN</td>\n",
              "      <td>NaN</td>\n",
              "      <td>NaN</td>\n",
              "      <td>NaN</td>\n",
              "      <td>NaN</td>\n",
              "      <td>5.56</td>\n",
              "      <td>83783945.0</td>\n",
              "      <td>237.016</td>\n",
              "      <td>46.6</td>\n",
              "      <td>21.453</td>\n",
              "      <td>15.957</td>\n",
              "      <td>45229.245</td>\n",
              "      <td>NaN</td>\n",
              "      <td>156.139</td>\n",
              "      <td>8.31</td>\n",
              "      <td>28.2</td>\n",
              "      <td>33.1</td>\n",
              "      <td>NaN</td>\n",
              "      <td>8.0</td>\n",
              "      <td>81.33</td>\n",
              "      <td>0.947</td>\n",
              "    </tr>\n",
              "    <tr>\n",
              "      <th>29169</th>\n",
              "      <td>DEU</td>\n",
              "      <td>Europe</td>\n",
              "      <td>Germany</td>\n",
              "      <td>2020-01-30</td>\n",
              "      <td>4.0</td>\n",
              "      <td>0.0</td>\n",
              "      <td>NaN</td>\n",
              "      <td>NaN</td>\n",
              "      <td>NaN</td>\n",
              "      <td>NaN</td>\n",
              "      <td>0.048</td>\n",
              "      <td>0.000</td>\n",
              "      <td>NaN</td>\n",
              "      <td>NaN</td>\n",
              "      <td>NaN</td>\n",
              "      <td>NaN</td>\n",
              "      <td>NaN</td>\n",
              "      <td>NaN</td>\n",
              "      <td>NaN</td>\n",
              "      <td>NaN</td>\n",
              "      <td>NaN</td>\n",
              "      <td>NaN</td>\n",
              "      <td>NaN</td>\n",
              "      <td>NaN</td>\n",
              "      <td>NaN</td>\n",
              "      <td>NaN</td>\n",
              "      <td>NaN</td>\n",
              "      <td>NaN</td>\n",
              "      <td>NaN</td>\n",
              "      <td>NaN</td>\n",
              "      <td>NaN</td>\n",
              "      <td>NaN</td>\n",
              "      <td>NaN</td>\n",
              "      <td>NaN</td>\n",
              "      <td>NaN</td>\n",
              "      <td>NaN</td>\n",
              "      <td>NaN</td>\n",
              "      <td>NaN</td>\n",
              "      <td>NaN</td>\n",
              "      <td>NaN</td>\n",
              "      <td>NaN</td>\n",
              "      <td>NaN</td>\n",
              "      <td>NaN</td>\n",
              "      <td>5.56</td>\n",
              "      <td>83783945.0</td>\n",
              "      <td>237.016</td>\n",
              "      <td>46.6</td>\n",
              "      <td>21.453</td>\n",
              "      <td>15.957</td>\n",
              "      <td>45229.245</td>\n",
              "      <td>NaN</td>\n",
              "      <td>156.139</td>\n",
              "      <td>8.31</td>\n",
              "      <td>28.2</td>\n",
              "      <td>33.1</td>\n",
              "      <td>NaN</td>\n",
              "      <td>8.0</td>\n",
              "      <td>81.33</td>\n",
              "      <td>0.947</td>\n",
              "    </tr>\n",
              "    <tr>\n",
              "      <th>29170</th>\n",
              "      <td>DEU</td>\n",
              "      <td>Europe</td>\n",
              "      <td>Germany</td>\n",
              "      <td>2020-01-31</td>\n",
              "      <td>5.0</td>\n",
              "      <td>1.0</td>\n",
              "      <td>NaN</td>\n",
              "      <td>NaN</td>\n",
              "      <td>NaN</td>\n",
              "      <td>NaN</td>\n",
              "      <td>0.060</td>\n",
              "      <td>0.012</td>\n",
              "      <td>NaN</td>\n",
              "      <td>NaN</td>\n",
              "      <td>NaN</td>\n",
              "      <td>NaN</td>\n",
              "      <td>NaN</td>\n",
              "      <td>NaN</td>\n",
              "      <td>NaN</td>\n",
              "      <td>NaN</td>\n",
              "      <td>NaN</td>\n",
              "      <td>NaN</td>\n",
              "      <td>NaN</td>\n",
              "      <td>NaN</td>\n",
              "      <td>NaN</td>\n",
              "      <td>NaN</td>\n",
              "      <td>NaN</td>\n",
              "      <td>NaN</td>\n",
              "      <td>NaN</td>\n",
              "      <td>NaN</td>\n",
              "      <td>NaN</td>\n",
              "      <td>NaN</td>\n",
              "      <td>NaN</td>\n",
              "      <td>NaN</td>\n",
              "      <td>NaN</td>\n",
              "      <td>NaN</td>\n",
              "      <td>NaN</td>\n",
              "      <td>NaN</td>\n",
              "      <td>NaN</td>\n",
              "      <td>NaN</td>\n",
              "      <td>NaN</td>\n",
              "      <td>NaN</td>\n",
              "      <td>NaN</td>\n",
              "      <td>5.56</td>\n",
              "      <td>83783945.0</td>\n",
              "      <td>237.016</td>\n",
              "      <td>46.6</td>\n",
              "      <td>21.453</td>\n",
              "      <td>15.957</td>\n",
              "      <td>45229.245</td>\n",
              "      <td>NaN</td>\n",
              "      <td>156.139</td>\n",
              "      <td>8.31</td>\n",
              "      <td>28.2</td>\n",
              "      <td>33.1</td>\n",
              "      <td>NaN</td>\n",
              "      <td>8.0</td>\n",
              "      <td>81.33</td>\n",
              "      <td>0.947</td>\n",
              "    </tr>\n",
              "    <tr>\n",
              "      <th>...</th>\n",
              "      <td>...</td>\n",
              "      <td>...</td>\n",
              "      <td>...</td>\n",
              "      <td>...</td>\n",
              "      <td>...</td>\n",
              "      <td>...</td>\n",
              "      <td>...</td>\n",
              "      <td>...</td>\n",
              "      <td>...</td>\n",
              "      <td>...</td>\n",
              "      <td>...</td>\n",
              "      <td>...</td>\n",
              "      <td>...</td>\n",
              "      <td>...</td>\n",
              "      <td>...</td>\n",
              "      <td>...</td>\n",
              "      <td>...</td>\n",
              "      <td>...</td>\n",
              "      <td>...</td>\n",
              "      <td>...</td>\n",
              "      <td>...</td>\n",
              "      <td>...</td>\n",
              "      <td>...</td>\n",
              "      <td>...</td>\n",
              "      <td>...</td>\n",
              "      <td>...</td>\n",
              "      <td>...</td>\n",
              "      <td>...</td>\n",
              "      <td>...</td>\n",
              "      <td>...</td>\n",
              "      <td>...</td>\n",
              "      <td>...</td>\n",
              "      <td>...</td>\n",
              "      <td>...</td>\n",
              "      <td>...</td>\n",
              "      <td>...</td>\n",
              "      <td>...</td>\n",
              "      <td>...</td>\n",
              "      <td>...</td>\n",
              "      <td>...</td>\n",
              "      <td>...</td>\n",
              "      <td>...</td>\n",
              "      <td>...</td>\n",
              "      <td>...</td>\n",
              "      <td>...</td>\n",
              "      <td>...</td>\n",
              "      <td>...</td>\n",
              "      <td>...</td>\n",
              "      <td>...</td>\n",
              "      <td>...</td>\n",
              "      <td>...</td>\n",
              "      <td>...</td>\n",
              "      <td>...</td>\n",
              "      <td>...</td>\n",
              "      <td>...</td>\n",
              "      <td>...</td>\n",
              "      <td>...</td>\n",
              "      <td>...</td>\n",
              "      <td>...</td>\n",
              "    </tr>\n",
              "    <tr>\n",
              "      <th>29616</th>\n",
              "      <td>DEU</td>\n",
              "      <td>Europe</td>\n",
              "      <td>Germany</td>\n",
              "      <td>2021-04-21</td>\n",
              "      <td>3222888.0</td>\n",
              "      <td>24354.0</td>\n",
              "      <td>19678.000</td>\n",
              "      <td>80938.0</td>\n",
              "      <td>258.0</td>\n",
              "      <td>215.857</td>\n",
              "      <td>38466.654</td>\n",
              "      <td>290.676</td>\n",
              "      <td>234.866</td>\n",
              "      <td>966.032</td>\n",
              "      <td>3.079</td>\n",
              "      <td>2.576</td>\n",
              "      <td>1.07</td>\n",
              "      <td>NaN</td>\n",
              "      <td>NaN</td>\n",
              "      <td>NaN</td>\n",
              "      <td>NaN</td>\n",
              "      <td>NaN</td>\n",
              "      <td>NaN</td>\n",
              "      <td>NaN</td>\n",
              "      <td>NaN</td>\n",
              "      <td>NaN</td>\n",
              "      <td>NaN</td>\n",
              "      <td>NaN</td>\n",
              "      <td>NaN</td>\n",
              "      <td>NaN</td>\n",
              "      <td>NaN</td>\n",
              "      <td>NaN</td>\n",
              "      <td>NaN</td>\n",
              "      <td>NaN</td>\n",
              "      <td>23698085.0</td>\n",
              "      <td>17964087.0</td>\n",
              "      <td>5733998.0</td>\n",
              "      <td>704776.0</td>\n",
              "      <td>504392.0</td>\n",
              "      <td>28.28</td>\n",
              "      <td>21.44</td>\n",
              "      <td>6.84</td>\n",
              "      <td>6020.0</td>\n",
              "      <td>75.00</td>\n",
              "      <td>83783945.0</td>\n",
              "      <td>237.016</td>\n",
              "      <td>46.6</td>\n",
              "      <td>21.453</td>\n",
              "      <td>15.957</td>\n",
              "      <td>45229.245</td>\n",
              "      <td>NaN</td>\n",
              "      <td>156.139</td>\n",
              "      <td>8.31</td>\n",
              "      <td>28.2</td>\n",
              "      <td>33.1</td>\n",
              "      <td>NaN</td>\n",
              "      <td>8.0</td>\n",
              "      <td>81.33</td>\n",
              "      <td>0.947</td>\n",
              "    </tr>\n",
              "    <tr>\n",
              "      <th>29617</th>\n",
              "      <td>DEU</td>\n",
              "      <td>Europe</td>\n",
              "      <td>Germany</td>\n",
              "      <td>2021-04-22</td>\n",
              "      <td>3254609.0</td>\n",
              "      <td>31721.0</td>\n",
              "      <td>20622.429</td>\n",
              "      <td>81203.0</td>\n",
              "      <td>265.0</td>\n",
              "      <td>218.714</td>\n",
              "      <td>38845.258</td>\n",
              "      <td>378.605</td>\n",
              "      <td>246.138</td>\n",
              "      <td>969.195</td>\n",
              "      <td>3.163</td>\n",
              "      <td>2.610</td>\n",
              "      <td>1.06</td>\n",
              "      <td>NaN</td>\n",
              "      <td>NaN</td>\n",
              "      <td>NaN</td>\n",
              "      <td>NaN</td>\n",
              "      <td>NaN</td>\n",
              "      <td>NaN</td>\n",
              "      <td>NaN</td>\n",
              "      <td>NaN</td>\n",
              "      <td>NaN</td>\n",
              "      <td>NaN</td>\n",
              "      <td>NaN</td>\n",
              "      <td>NaN</td>\n",
              "      <td>NaN</td>\n",
              "      <td>NaN</td>\n",
              "      <td>NaN</td>\n",
              "      <td>NaN</td>\n",
              "      <td>NaN</td>\n",
              "      <td>24311753.0</td>\n",
              "      <td>18515332.0</td>\n",
              "      <td>5796421.0</td>\n",
              "      <td>613668.0</td>\n",
              "      <td>495498.0</td>\n",
              "      <td>29.02</td>\n",
              "      <td>22.10</td>\n",
              "      <td>6.92</td>\n",
              "      <td>5914.0</td>\n",
              "      <td>75.00</td>\n",
              "      <td>83783945.0</td>\n",
              "      <td>237.016</td>\n",
              "      <td>46.6</td>\n",
              "      <td>21.453</td>\n",
              "      <td>15.957</td>\n",
              "      <td>45229.245</td>\n",
              "      <td>NaN</td>\n",
              "      <td>156.139</td>\n",
              "      <td>8.31</td>\n",
              "      <td>28.2</td>\n",
              "      <td>33.1</td>\n",
              "      <td>NaN</td>\n",
              "      <td>8.0</td>\n",
              "      <td>81.33</td>\n",
              "      <td>0.947</td>\n",
              "    </tr>\n",
              "    <tr>\n",
              "      <th>29618</th>\n",
              "      <td>DEU</td>\n",
              "      <td>Europe</td>\n",
              "      <td>Germany</td>\n",
              "      <td>2021-04-23</td>\n",
              "      <td>3276871.0</td>\n",
              "      <td>22262.0</td>\n",
              "      <td>20394.714</td>\n",
              "      <td>81492.0</td>\n",
              "      <td>289.0</td>\n",
              "      <td>228.286</td>\n",
              "      <td>39110.966</td>\n",
              "      <td>265.707</td>\n",
              "      <td>243.420</td>\n",
              "      <td>972.645</td>\n",
              "      <td>3.449</td>\n",
              "      <td>2.725</td>\n",
              "      <td>1.05</td>\n",
              "      <td>NaN</td>\n",
              "      <td>NaN</td>\n",
              "      <td>NaN</td>\n",
              "      <td>NaN</td>\n",
              "      <td>NaN</td>\n",
              "      <td>NaN</td>\n",
              "      <td>NaN</td>\n",
              "      <td>NaN</td>\n",
              "      <td>NaN</td>\n",
              "      <td>NaN</td>\n",
              "      <td>NaN</td>\n",
              "      <td>NaN</td>\n",
              "      <td>NaN</td>\n",
              "      <td>NaN</td>\n",
              "      <td>NaN</td>\n",
              "      <td>NaN</td>\n",
              "      <td>NaN</td>\n",
              "      <td>24836908.0</td>\n",
              "      <td>18977896.0</td>\n",
              "      <td>5859012.0</td>\n",
              "      <td>525155.0</td>\n",
              "      <td>486338.0</td>\n",
              "      <td>29.64</td>\n",
              "      <td>22.65</td>\n",
              "      <td>6.99</td>\n",
              "      <td>5805.0</td>\n",
              "      <td>75.00</td>\n",
              "      <td>83783945.0</td>\n",
              "      <td>237.016</td>\n",
              "      <td>46.6</td>\n",
              "      <td>21.453</td>\n",
              "      <td>15.957</td>\n",
              "      <td>45229.245</td>\n",
              "      <td>NaN</td>\n",
              "      <td>156.139</td>\n",
              "      <td>8.31</td>\n",
              "      <td>28.2</td>\n",
              "      <td>33.1</td>\n",
              "      <td>NaN</td>\n",
              "      <td>8.0</td>\n",
              "      <td>81.33</td>\n",
              "      <td>0.947</td>\n",
              "    </tr>\n",
              "    <tr>\n",
              "      <th>29619</th>\n",
              "      <td>DEU</td>\n",
              "      <td>Europe</td>\n",
              "      <td>Germany</td>\n",
              "      <td>2021-04-24</td>\n",
              "      <td>3291293.0</td>\n",
              "      <td>14422.0</td>\n",
              "      <td>19569.714</td>\n",
              "      <td>81610.0</td>\n",
              "      <td>118.0</td>\n",
              "      <td>234.143</td>\n",
              "      <td>39283.099</td>\n",
              "      <td>172.133</td>\n",
              "      <td>233.574</td>\n",
              "      <td>974.053</td>\n",
              "      <td>1.408</td>\n",
              "      <td>2.795</td>\n",
              "      <td>1.05</td>\n",
              "      <td>NaN</td>\n",
              "      <td>NaN</td>\n",
              "      <td>NaN</td>\n",
              "      <td>NaN</td>\n",
              "      <td>NaN</td>\n",
              "      <td>NaN</td>\n",
              "      <td>NaN</td>\n",
              "      <td>NaN</td>\n",
              "      <td>NaN</td>\n",
              "      <td>NaN</td>\n",
              "      <td>NaN</td>\n",
              "      <td>NaN</td>\n",
              "      <td>NaN</td>\n",
              "      <td>NaN</td>\n",
              "      <td>NaN</td>\n",
              "      <td>NaN</td>\n",
              "      <td>NaN</td>\n",
              "      <td>25180157.0</td>\n",
              "      <td>19266469.0</td>\n",
              "      <td>5913688.0</td>\n",
              "      <td>343249.0</td>\n",
              "      <td>484468.0</td>\n",
              "      <td>30.05</td>\n",
              "      <td>23.00</td>\n",
              "      <td>7.06</td>\n",
              "      <td>5782.0</td>\n",
              "      <td>75.00</td>\n",
              "      <td>83783945.0</td>\n",
              "      <td>237.016</td>\n",
              "      <td>46.6</td>\n",
              "      <td>21.453</td>\n",
              "      <td>15.957</td>\n",
              "      <td>45229.245</td>\n",
              "      <td>NaN</td>\n",
              "      <td>156.139</td>\n",
              "      <td>8.31</td>\n",
              "      <td>28.2</td>\n",
              "      <td>33.1</td>\n",
              "      <td>NaN</td>\n",
              "      <td>8.0</td>\n",
              "      <td>81.33</td>\n",
              "      <td>0.947</td>\n",
              "    </tr>\n",
              "    <tr>\n",
              "      <th>29620</th>\n",
              "      <td>DEU</td>\n",
              "      <td>Europe</td>\n",
              "      <td>Germany</td>\n",
              "      <td>2021-04-25</td>\n",
              "      <td>3306692.0</td>\n",
              "      <td>15399.0</td>\n",
              "      <td>21595.714</td>\n",
              "      <td>81671.0</td>\n",
              "      <td>61.0</td>\n",
              "      <td>231.286</td>\n",
              "      <td>39466.893</td>\n",
              "      <td>183.794</td>\n",
              "      <td>257.755</td>\n",
              "      <td>974.781</td>\n",
              "      <td>0.728</td>\n",
              "      <td>2.761</td>\n",
              "      <td>NaN</td>\n",
              "      <td>NaN</td>\n",
              "      <td>NaN</td>\n",
              "      <td>NaN</td>\n",
              "      <td>NaN</td>\n",
              "      <td>NaN</td>\n",
              "      <td>NaN</td>\n",
              "      <td>NaN</td>\n",
              "      <td>NaN</td>\n",
              "      <td>NaN</td>\n",
              "      <td>NaN</td>\n",
              "      <td>NaN</td>\n",
              "      <td>NaN</td>\n",
              "      <td>NaN</td>\n",
              "      <td>NaN</td>\n",
              "      <td>NaN</td>\n",
              "      <td>NaN</td>\n",
              "      <td>NaN</td>\n",
              "      <td>25446941.0</td>\n",
              "      <td>19486698.0</td>\n",
              "      <td>5960243.0</td>\n",
              "      <td>266784.0</td>\n",
              "      <td>485127.0</td>\n",
              "      <td>30.37</td>\n",
              "      <td>23.26</td>\n",
              "      <td>7.11</td>\n",
              "      <td>5790.0</td>\n",
              "      <td>NaN</td>\n",
              "      <td>83783945.0</td>\n",
              "      <td>237.016</td>\n",
              "      <td>46.6</td>\n",
              "      <td>21.453</td>\n",
              "      <td>15.957</td>\n",
              "      <td>45229.245</td>\n",
              "      <td>NaN</td>\n",
              "      <td>156.139</td>\n",
              "      <td>8.31</td>\n",
              "      <td>28.2</td>\n",
              "      <td>33.1</td>\n",
              "      <td>NaN</td>\n",
              "      <td>8.0</td>\n",
              "      <td>81.33</td>\n",
              "      <td>0.947</td>\n",
              "    </tr>\n",
              "  </tbody>\n",
              "</table>\n",
              "<p>455 rows × 59 columns</p>\n",
              "</div>"
            ],
            "text/plain": [
              "      iso_code continent  ... life_expectancy human_development_index\n",
              "29166      DEU    Europe  ...           81.33                   0.947\n",
              "29167      DEU    Europe  ...           81.33                   0.947\n",
              "29168      DEU    Europe  ...           81.33                   0.947\n",
              "29169      DEU    Europe  ...           81.33                   0.947\n",
              "29170      DEU    Europe  ...           81.33                   0.947\n",
              "...        ...       ...  ...             ...                     ...\n",
              "29616      DEU    Europe  ...           81.33                   0.947\n",
              "29617      DEU    Europe  ...           81.33                   0.947\n",
              "29618      DEU    Europe  ...           81.33                   0.947\n",
              "29619      DEU    Europe  ...           81.33                   0.947\n",
              "29620      DEU    Europe  ...           81.33                   0.947\n",
              "\n",
              "[455 rows x 59 columns]"
            ]
          },
          "metadata": {
            "tags": []
          },
          "execution_count": 18
        }
      ]
    },
    {
      "cell_type": "code",
      "metadata": {
        "id": "-U8Y-CBJIafi"
      },
      "source": [
        "df_covid_ger = df_covid.query(\"location == 'Germany'\")"
      ],
      "execution_count": null,
      "outputs": []
    },
    {
      "cell_type": "code",
      "metadata": {
        "colab": {
          "base_uri": "https://localhost:8080/",
          "height": 351
        },
        "id": "oVR4PzqZIafj",
        "outputId": "f39f0dbd-fc63-48af-dccd-bdd3d2d4704d"
      },
      "source": [
        "df_covid_ger.plot(x=\"date\", y=\"new_cases_smoothed\", figsize=(20,5))"
      ],
      "execution_count": null,
      "outputs": [
        {
          "output_type": "execute_result",
          "data": {
            "text/plain": [
              "<matplotlib.axes._subplots.AxesSubplot at 0x7f97b24c0750>"
            ]
          },
          "metadata": {
            "tags": []
          },
          "execution_count": 22
        },
        {
          "output_type": "display_data",
          "data": {
            "image/png": "[encoded data removed]",
            "text/plain": [
              "<Figure size 1440x360 with 1 Axes>"
            ]
          },
          "metadata": {
            "tags": [],
            "needs_background": "light"
          }
        }
      ]
    },
    {
      "cell_type": "code",
      "metadata": {
        "colab": {
          "base_uri": "https://localhost:8080/",
          "height": 514
        },
        "id": "8DtayBthIafj",
        "outputId": "639f6b27-1abe-41f8-b3b4-d4493f9f1cb7"
      },
      "source": [
        "df_covid.query(\"location == 'Germany'\").plot(x=\"date\", y=[\"new_cases\", \"new_cases_smoothed\"], figsize=(20,8))"
      ],
      "execution_count": null,
      "outputs": [
        {
          "output_type": "execute_result",
          "data": {
            "text/plain": [
              "<matplotlib.axes._subplots.AxesSubplot at 0x7f97b0ae6250>"
            ]
          },
          "metadata": {
            "tags": []
          },
          "execution_count": 27
        },
        {
          "output_type": "display_data",
          "data": {
            "image/png": "[encoded data removed]",
            "text/plain": [
              "<Figure size 1440x576 with 1 Axes>"
            ]
          },
          "metadata": {
            "tags": [],
            "needs_background": "light"
          }
        }
      ]
    },
    {
      "cell_type": "markdown",
      "metadata": {
        "id": "9zWo-Hc-Iafk"
      },
      "source": [
        "#### Impffortschritt"
      ]
    },
    {
      "cell_type": "code",
      "metadata": {
        "id": "D7_TByIFIafk"
      },
      "source": [
        "# Filter & pivot\n",
        "df_countries_vacc = (\n",
        "    df_covid\n",
        "    .query(\"location in ['Germany', 'United Kingdom', 'United States', 'Israel']\")\n",
        "    .pivot(index=\"date\", columns=\"location\", values=\"people_fully_vaccinated_per_hundred\")\n",
        ")"
      ],
      "execution_count": null,
      "outputs": []
    },
    {
      "cell_type": "code",
      "metadata": {
        "colab": {
          "base_uri": "https://localhost:8080/",
          "height": 298
        },
        "id": "A_2DvM72Iafk",
        "outputId": "dbd16c29-37d9-4777-98c5-661bd3629c5f"
      },
      "source": [
        "df_countries_vacc.plot()"
      ],
      "execution_count": null,
      "outputs": [
        {
          "output_type": "execute_result",
          "data": {
            "text/plain": [
              "<matplotlib.axes._subplots.AxesSubplot at 0x7f6eb2342e10>"
            ]
          },
          "metadata": {
            "tags": []
          },
          "execution_count": 76
        },
        {
          "output_type": "display_data",
          "data": {
            "image/png": "[encoded data removed]",
            "text/plain": [
              "<Figure size 432x288 with 1 Axes>"
            ]
          },
          "metadata": {
            "tags": [],
            "needs_background": "light"
          }
        }
      ]
    },
    {
      "cell_type": "code",
      "metadata": {
        "colab": {
          "base_uri": "https://localhost:8080/",
          "height": 408
        },
        "id": "7MZNsx7yIafl",
        "outputId": "c9ad6eea-8f5e-4f5a-f756-ab4ca489623b"
      },
      "source": [
        "df_covid.groupby(\"location\").people_fully_vaccinated_per_hundred.max().sort_values(ascending=False)[:20].plot(kind=\"bar\", =True)"
      ],
      "execution_count": null,
      "outputs": [
        {
          "output_type": "execute_result",
          "data": {
            "text/plain": [
              "<matplotlib.axes._subplots.AxesSubplot at 0x7f6eb27c7390>"
            ]
          },
          "metadata": {
            "tags": []
          },
          "execution_count": 64
        },
        {
          "output_type": "display_data",
          "data": {
            "image/png": "[encoded data removed]",
            "text/plain": [
              "<Figure size 432x288 with 1 Axes>"
            ]
          },
          "metadata": {
            "tags": [],
            "needs_background": "light"
          }
        }
      ]
    },
    {
      "cell_type": "code",
      "metadata": {
        "id": "HLgZb9SoIafl"
      },
      "source": [
        "vacc_top_20 = df_covid.groupby(\"location\").people_fully_vaccinated_per_hundred.max().sort_values(ascending=False)[:20]"
      ],
      "execution_count": null,
      "outputs": []
    },
    {
      "cell_type": "code",
      "metadata": {
        "id": "s8eWioZaIafm"
      },
      "source": [
        "vacc_top_20[\"Germany\"] = df_covid.query(\"location == 'Germany'\").people_fully_vaccinated_per_hundred.max()"
      ],
      "execution_count": null,
      "outputs": []
    },
    {
      "cell_type": "code",
      "metadata": {
        "colab": {
          "base_uri": "https://localhost:8080/",
          "height": 408
        },
        "id": "1v2YRtMgIafm",
        "outputId": "05b907e6-757f-4bdb-b4ab-5c74eaeef4cd"
      },
      "source": [
        "vacc_top_20.plot(kind=\"bar\", color=[\"blue\"] * (len(vacc_top_20) - 1) + [\"red\"])"
      ],
      "execution_count": null,
      "outputs": [
        {
          "output_type": "execute_result",
          "data": {
            "text/plain": [
              "<matplotlib.axes._subplots.AxesSubplot at 0x7f6eb251fbd0>"
            ]
          },
          "metadata": {
            "tags": []
          },
          "execution_count": 72
        },
        {
          "output_type": "display_data",
          "data": {
            "image/png": "[encoded data removed]",
            "text/plain": [
              "<Figure size 432x288 with 1 Axes>"
            ]
          },
          "metadata": {
            "tags": [],
            "needs_background": "light"
          }
        }
      ]
    },
    {
      "cell_type": "markdown",
      "metadata": {
        "id": "OO5ThbUNIafm"
      },
      "source": [
        "Weitere Daten zum Impffortschritt in Deutschland von https://impfdashboard.de/daten :\n",
        "\n",
        "Mögliche Analysen:\n",
        "\n",
        "* Kumulative Darstellung der Impfungen aller Impfstoffe (stacked) im Zeitverlauf\n",
        "* Wie viel Impfstoff wird zurückgehalten? Lieferungen vs. Verimpft"
      ]
    },
    {
      "cell_type": "code",
      "metadata": {
        "colab": {
          "base_uri": "https://localhost:8080/",
          "height": 309
        },
        "id": "uULkhvfYIafn",
        "outputId": "b2a5c796-ef47-4d9d-b7c0-879fda73f0e8"
      },
      "source": [
        "df_vacc = pd.read_csv(\"https://impfdashboard.de/static/data/germany_vaccinations_timeseries_v2.tsv\", sep=\"\\t\")\n",
        "df_vacc.head()"
      ],
      "execution_count": null,
      "outputs": [
        {
          "output_type": "execute_result",
          "data": {
            "text/html": [
              "<div>\n",
              "<style scoped>\n",
              "    .dataframe tbody tr th:only-of-type {\n",
              "        vertical-align: middle;\n",
              "    }\n",
              "\n",
              "    .dataframe tbody tr th {\n",
              "        vertical-align: top;\n",
              "    }\n",
              "\n",
              "    .dataframe thead th {\n",
              "        text-align: right;\n",
              "    }\n",
              "</style>\n",
              "<table border=\"1\" class=\"dataframe\">\n",
              "  <thead>\n",
              "    <tr style=\"text-align: right;\">\n",
              "      <th></th>\n",
              "      <th>date</th>\n",
              "      <th>dosen_kumulativ</th>\n",
              "      <th>dosen_differenz_zum_vortag</th>\n",
              "      <th>dosen_erst_differenz_zum_vortag</th>\n",
              "      <th>dosen_zweit_differenz_zum_vortag</th>\n",
              "      <th>dosen_biontech_kumulativ</th>\n",
              "      <th>dosen_moderna_kumulativ</th>\n",
              "      <th>dosen_astrazeneca_kumulativ</th>\n",
              "      <th>personen_erst_kumulativ</th>\n",
              "      <th>personen_voll_kumulativ</th>\n",
              "      <th>impf_quote_erst</th>\n",
              "      <th>impf_quote_voll</th>\n",
              "      <th>indikation_alter_dosen</th>\n",
              "      <th>indikation_beruf_dosen</th>\n",
              "      <th>indikation_medizinisch_dosen</th>\n",
              "      <th>indikation_pflegeheim_dosen</th>\n",
              "      <th>indikation_alter_erst</th>\n",
              "      <th>indikation_beruf_erst</th>\n",
              "      <th>indikation_medizinisch_erst</th>\n",
              "      <th>indikation_pflegeheim_erst</th>\n",
              "      <th>indikation_alter_voll</th>\n",
              "      <th>indikation_beruf_voll</th>\n",
              "      <th>indikation_medizinisch_voll</th>\n",
              "      <th>indikation_pflegeheim_voll</th>\n",
              "      <th>dosen_dim_kumulativ</th>\n",
              "      <th>dosen_kbv_kumulativ</th>\n",
              "    </tr>\n",
              "  </thead>\n",
              "  <tbody>\n",
              "    <tr>\n",
              "      <th>0</th>\n",
              "      <td>2020-12-27</td>\n",
              "      <td>24505</td>\n",
              "      <td>24505</td>\n",
              "      <td>24494</td>\n",
              "      <td>11</td>\n",
              "      <td>24505</td>\n",
              "      <td>0</td>\n",
              "      <td>0</td>\n",
              "      <td>24494</td>\n",
              "      <td>11</td>\n",
              "      <td>0.000</td>\n",
              "      <td>0.0</td>\n",
              "      <td>10705</td>\n",
              "      <td>8657</td>\n",
              "      <td>1305</td>\n",
              "      <td>12604</td>\n",
              "      <td>10664</td>\n",
              "      <td>8590</td>\n",
              "      <td>1305</td>\n",
              "      <td>12536</td>\n",
              "      <td>41</td>\n",
              "      <td>67</td>\n",
              "      <td>0</td>\n",
              "      <td>68</td>\n",
              "      <td>24505</td>\n",
              "      <td>0</td>\n",
              "    </tr>\n",
              "    <tr>\n",
              "      <th>1</th>\n",
              "      <td>2020-12-28</td>\n",
              "      <td>42887</td>\n",
              "      <td>18382</td>\n",
              "      <td>18382</td>\n",
              "      <td>0</td>\n",
              "      <td>42887</td>\n",
              "      <td>0</td>\n",
              "      <td>0</td>\n",
              "      <td>42876</td>\n",
              "      <td>11</td>\n",
              "      <td>0.001</td>\n",
              "      <td>0.0</td>\n",
              "      <td>18621</td>\n",
              "      <td>15788</td>\n",
              "      <td>1991</td>\n",
              "      <td>21344</td>\n",
              "      <td>18580</td>\n",
              "      <td>15721</td>\n",
              "      <td>1991</td>\n",
              "      <td>21276</td>\n",
              "      <td>41</td>\n",
              "      <td>67</td>\n",
              "      <td>0</td>\n",
              "      <td>68</td>\n",
              "      <td>42887</td>\n",
              "      <td>0</td>\n",
              "    </tr>\n",
              "    <tr>\n",
              "      <th>2</th>\n",
              "      <td>2020-12-29</td>\n",
              "      <td>92061</td>\n",
              "      <td>49174</td>\n",
              "      <td>48585</td>\n",
              "      <td>589</td>\n",
              "      <td>92061</td>\n",
              "      <td>0</td>\n",
              "      <td>0</td>\n",
              "      <td>91461</td>\n",
              "      <td>600</td>\n",
              "      <td>0.001</td>\n",
              "      <td>0.0</td>\n",
              "      <td>34989</td>\n",
              "      <td>40734</td>\n",
              "      <td>3107</td>\n",
              "      <td>40508</td>\n",
              "      <td>34724</td>\n",
              "      <td>40420</td>\n",
              "      <td>3107</td>\n",
              "      <td>40099</td>\n",
              "      <td>265</td>\n",
              "      <td>314</td>\n",
              "      <td>0</td>\n",
              "      <td>409</td>\n",
              "      <td>92061</td>\n",
              "      <td>0</td>\n",
              "    </tr>\n",
              "    <tr>\n",
              "      <th>3</th>\n",
              "      <td>2020-12-30</td>\n",
              "      <td>154473</td>\n",
              "      <td>62412</td>\n",
              "      <td>62408</td>\n",
              "      <td>4</td>\n",
              "      <td>154473</td>\n",
              "      <td>0</td>\n",
              "      <td>0</td>\n",
              "      <td>153869</td>\n",
              "      <td>604</td>\n",
              "      <td>0.002</td>\n",
              "      <td>0.0</td>\n",
              "      <td>55510</td>\n",
              "      <td>73365</td>\n",
              "      <td>4901</td>\n",
              "      <td>63206</td>\n",
              "      <td>55243</td>\n",
              "      <td>73050</td>\n",
              "      <td>4901</td>\n",
              "      <td>62794</td>\n",
              "      <td>267</td>\n",
              "      <td>315</td>\n",
              "      <td>0</td>\n",
              "      <td>412</td>\n",
              "      <td>154473</td>\n",
              "      <td>0</td>\n",
              "    </tr>\n",
              "    <tr>\n",
              "      <th>4</th>\n",
              "      <td>2020-12-31</td>\n",
              "      <td>204539</td>\n",
              "      <td>50066</td>\n",
              "      <td>49926</td>\n",
              "      <td>140</td>\n",
              "      <td>204539</td>\n",
              "      <td>0</td>\n",
              "      <td>0</td>\n",
              "      <td>203795</td>\n",
              "      <td>744</td>\n",
              "      <td>0.002</td>\n",
              "      <td>0.0</td>\n",
              "      <td>72831</td>\n",
              "      <td>96719</td>\n",
              "      <td>6752</td>\n",
              "      <td>83965</td>\n",
              "      <td>72517</td>\n",
              "      <td>96367</td>\n",
              "      <td>6752</td>\n",
              "      <td>83476</td>\n",
              "      <td>314</td>\n",
              "      <td>352</td>\n",
              "      <td>0</td>\n",
              "      <td>489</td>\n",
              "      <td>204539</td>\n",
              "      <td>0</td>\n",
              "    </tr>\n",
              "  </tbody>\n",
              "</table>\n",
              "</div>"
            ],
            "text/plain": [
              "         date  dosen_kumulativ  ...  dosen_dim_kumulativ  dosen_kbv_kumulativ\n",
              "0  2020-12-27            24505  ...                24505                    0\n",
              "1  2020-12-28            42887  ...                42887                    0\n",
              "2  2020-12-29            92061  ...                92061                    0\n",
              "3  2020-12-30           154473  ...               154473                    0\n",
              "4  2020-12-31           204539  ...               204539                    0\n",
              "\n",
              "[5 rows x 26 columns]"
            ]
          },
          "metadata": {
            "tags": []
          },
          "execution_count": 85
        }
      ]
    },
    {
      "cell_type": "markdown",
      "metadata": {
        "id": "eTIl-EOGIafn"
      },
      "source": [
        "#### Kumulierte Darstellung der verimpften Dosen je Hersteller"
      ]
    },
    {
      "cell_type": "code",
      "metadata": {
        "colab": {
          "base_uri": "https://localhost:8080/",
          "height": 362
        },
        "id": "We-e9DFRIafo",
        "outputId": "c693731e-e6fb-437c-a4f8-25f863fc2c97"
      },
      "source": [
        "df_vacc.plot(x=\"date\", y=[\"dosen_biontech_kumulativ\", \"dosen_moderna_kumulativ\", \"dosen_astrazeneca_kumulativ\"], kind=\"area\", figsize=(18,5))"
      ],
      "execution_count": null,
      "outputs": [
        {
          "output_type": "execute_result",
          "data": {
            "text/plain": [
              "<matplotlib.axes._subplots.AxesSubplot at 0x7f6eb1fcf0d0>"
            ]
          },
          "metadata": {
            "tags": []
          },
          "execution_count": 84
        },
        {
          "output_type": "display_data",
          "data": {
            "image/png": "[encoded data removed]",
            "text/plain": [
              "<Figure size 1296x360 with 1 Axes>"
            ]
          },
          "metadata": {
            "tags": [],
            "needs_background": "light"
          }
        }
      ]
    },
    {
      "cell_type": "markdown",
      "metadata": {
        "id": "aDORp3n-Iafo"
      },
      "source": [
        "#### Wie viele Dosen werden zurückgehalten?"
      ]
    },
    {
      "cell_type": "code",
      "metadata": {
        "id": "2wFlNCF9Iafp"
      },
      "source": [
        "df_vacc_delivery = pd.read_csv(\"https://impfdashboard.de/static/data/germany_deliveries_timeseries_v2.tsv\", sep=\"\\t\")"
      ],
      "execution_count": null,
      "outputs": []
    },
    {
      "cell_type": "code",
      "metadata": {
        "colab": {
          "base_uri": "https://localhost:8080/",
          "height": 204
        },
        "id": "vHB8BTprIafp",
        "outputId": "cae3d9db-6017-42f1-cc1b-d7ad3868c7d3"
      },
      "source": [
        "df_vacc_delivery.tail()"
      ],
      "execution_count": null,
      "outputs": [
        {
          "output_type": "execute_result",
          "data": {
            "text/html": [
              "<div>\n",
              "<style scoped>\n",
              "    .dataframe tbody tr th:only-of-type {\n",
              "        vertical-align: middle;\n",
              "    }\n",
              "\n",
              "    .dataframe tbody tr th {\n",
              "        vertical-align: top;\n",
              "    }\n",
              "\n",
              "    .dataframe thead th {\n",
              "        text-align: right;\n",
              "    }\n",
              "</style>\n",
              "<table border=\"1\" class=\"dataframe\">\n",
              "  <thead>\n",
              "    <tr style=\"text-align: right;\">\n",
              "      <th></th>\n",
              "      <th>date</th>\n",
              "      <th>impfstoff</th>\n",
              "      <th>region</th>\n",
              "      <th>dosen</th>\n",
              "    </tr>\n",
              "  </thead>\n",
              "  <tbody>\n",
              "    <tr>\n",
              "      <th>589</th>\n",
              "      <td>2021-04-17</td>\n",
              "      <td>moderna</td>\n",
              "      <td>DE-ST</td>\n",
              "      <td>0</td>\n",
              "    </tr>\n",
              "    <tr>\n",
              "      <th>590</th>\n",
              "      <td>2021-04-17</td>\n",
              "      <td>moderna</td>\n",
              "      <td>DE-SH</td>\n",
              "      <td>0</td>\n",
              "    </tr>\n",
              "    <tr>\n",
              "      <th>591</th>\n",
              "      <td>2021-04-17</td>\n",
              "      <td>moderna</td>\n",
              "      <td>DE-TH</td>\n",
              "      <td>0</td>\n",
              "    </tr>\n",
              "    <tr>\n",
              "      <th>592</th>\n",
              "      <td>2021-04-18</td>\n",
              "      <td>moderna</td>\n",
              "      <td>DE-BUND</td>\n",
              "      <td>72000</td>\n",
              "    </tr>\n",
              "    <tr>\n",
              "      <th>593</th>\n",
              "      <td>2021-04-18</td>\n",
              "      <td>astra</td>\n",
              "      <td>DE-BUND</td>\n",
              "      <td>57600</td>\n",
              "    </tr>\n",
              "  </tbody>\n",
              "</table>\n",
              "</div>"
            ],
            "text/plain": [
              "           date impfstoff   region  dosen\n",
              "589  2021-04-17   moderna    DE-ST      0\n",
              "590  2021-04-17   moderna    DE-SH      0\n",
              "591  2021-04-17   moderna    DE-TH      0\n",
              "592  2021-04-18   moderna  DE-BUND  72000\n",
              "593  2021-04-18     astra  DE-BUND  57600"
            ]
          },
          "metadata": {
            "tags": []
          },
          "execution_count": 87
        }
      ]
    },
    {
      "cell_type": "code",
      "metadata": {
        "id": "zzrTHyqFIafp"
      },
      "source": [
        "df_vacc_states = pd.read_csv(\"https://impfdashboard.de/static/data/germany_vaccinations_by_state.tsv\", sep=\"\\t\")"
      ],
      "execution_count": null,
      "outputs": []
    },
    {
      "cell_type": "code",
      "metadata": {
        "colab": {
          "base_uri": "https://localhost:8080/",
          "height": 204
        },
        "id": "YC_HMsMAIafq",
        "outputId": "df249347-9e05-410a-aa64-523b2e7edfc4"
      },
      "source": [
        "df_vacc_states.head()"
      ],
      "execution_count": null,
      "outputs": [
        {
          "output_type": "execute_result",
          "data": {
            "text/html": [
              "<div>\n",
              "<style scoped>\n",
              "    .dataframe tbody tr th:only-of-type {\n",
              "        vertical-align: middle;\n",
              "    }\n",
              "\n",
              "    .dataframe tbody tr th {\n",
              "        vertical-align: top;\n",
              "    }\n",
              "\n",
              "    .dataframe thead th {\n",
              "        text-align: right;\n",
              "    }\n",
              "</style>\n",
              "<table border=\"1\" class=\"dataframe\">\n",
              "  <thead>\n",
              "    <tr style=\"text-align: right;\">\n",
              "      <th></th>\n",
              "      <th>code</th>\n",
              "      <th>vaccinationsTotal</th>\n",
              "      <th>peopleFirstTotal</th>\n",
              "      <th>peopleFullTotal</th>\n",
              "    </tr>\n",
              "  </thead>\n",
              "  <tbody>\n",
              "    <tr>\n",
              "      <th>0</th>\n",
              "      <td>DE-BW</td>\n",
              "      <td>3192428</td>\n",
              "      <td>2430116</td>\n",
              "      <td>762312</td>\n",
              "    </tr>\n",
              "    <tr>\n",
              "      <th>1</th>\n",
              "      <td>DE-BY</td>\n",
              "      <td>3984531</td>\n",
              "      <td>3082772</td>\n",
              "      <td>901759</td>\n",
              "    </tr>\n",
              "    <tr>\n",
              "      <th>2</th>\n",
              "      <td>DE-BE</td>\n",
              "      <td>1105406</td>\n",
              "      <td>793159</td>\n",
              "      <td>312247</td>\n",
              "    </tr>\n",
              "    <tr>\n",
              "      <th>3</th>\n",
              "      <td>DE-BB</td>\n",
              "      <td>732035</td>\n",
              "      <td>556633</td>\n",
              "      <td>175402</td>\n",
              "    </tr>\n",
              "    <tr>\n",
              "      <th>4</th>\n",
              "      <td>DE-HB</td>\n",
              "      <td>224187</td>\n",
              "      <td>171336</td>\n",
              "      <td>52851</td>\n",
              "    </tr>\n",
              "  </tbody>\n",
              "</table>\n",
              "</div>"
            ],
            "text/plain": [
              "    code  vaccinationsTotal  peopleFirstTotal  peopleFullTotal\n",
              "0  DE-BW            3192428           2430116           762312\n",
              "1  DE-BY            3984531           3082772           901759\n",
              "2  DE-BE            1105406            793159           312247\n",
              "3  DE-BB             732035            556633           175402\n",
              "4  DE-HB             224187            171336            52851"
            ]
          },
          "metadata": {
            "tags": []
          },
          "execution_count": 89
        }
      ]
    },
    {
      "cell_type": "code",
      "metadata": {
        "colab": {
          "base_uri": "https://localhost:8080/"
        },
        "id": "Cf0XTOHQIafq",
        "outputId": "1a5f6ee3-f92e-4825-905a-901ffcda6225"
      },
      "source": [
        "delivered_total = df_vacc_delivery.dosen.sum()\n",
        "vacc_total = df_vacc_states.vaccinationsTotal.sum()\n",
        "vacc_in_stock = delivered_total - vacc_total\n",
        "\n",
        "print(f\"Nicht verimpft: {vacc_in_stock} ({vacc_in_stock/delivered_total*100:.2f}% aller Dosen)\")"
      ],
      "execution_count": null,
      "outputs": [
        {
          "output_type": "stream",
          "text": [
            "Nicht verimpft: 717685 (2.82% aller Dosen)\n"
          ],
          "name": "stdout"
        }
      ]
    },
    {
      "cell_type": "code",
      "metadata": {
        "id": "Hdn8xaIpIafr"
      },
      "source": [
        "delivered_april = df_vacc_delivery.query(\"date > '2021-04-01'\").dosen.sum()"
      ],
      "execution_count": null,
      "outputs": []
    },
    {
      "cell_type": "code",
      "metadata": {
        "colab": {
          "base_uri": "https://localhost:8080/"
        },
        "id": "RZYSuE_RIafr",
        "outputId": "d349132d-09d0-47ab-e3b2-6eeddad25789"
      },
      "source": [
        "print(f\"Nicht verimpft: {vacc_in_stock/delivered_april * 100:.2f}% der im April gelieferten Dosen\")"
      ],
      "execution_count": null,
      "outputs": [
        {
          "output_type": "stream",
          "text": [
            "Nicht verimpft: 8.76% der im April gelieferten Dosen\n"
          ],
          "name": "stdout"
        }
      ]
    }
  ]
}